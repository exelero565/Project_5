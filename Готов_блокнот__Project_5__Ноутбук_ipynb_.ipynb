{
  "cells": [
    {
      "attachments": {},
      "cell_type": "markdown",
      "metadata": {
        "id": "F6EDfWQLkBLX"
      },
      "source": [
        "## 1. Постановка задачи"
      ]
    },
    {
      "attachments": {},
      "cell_type": "markdown",
      "metadata": {
        "id": "G3NPCLzmkBLa"
      },
      "source": [
        "\n",
        "Вам предстоит решить настоящую задачу машинного обучения, направленную на автоматизацию бизнес процессов. Мы построим модель, которая будет предсказывать общую продолжительность поездки такси в Нью-Йорке.\n",
        "\n",
        "Представьте вы заказываете такси из одной точки Нью-Йорка в другую, причем не обязательно конечная точка должна находиться в пределах города. Сколько вы должны будете за нее заплатить? Известно, что стоимость такси в США  рассчитывается на основе фиксированной ставки + тарифная стоимость, величина которой зависит от времени и расстояния. Тарифы варьируются в зависимости от города.\n",
        "\n",
        "В свою очередь время поездки зависит от множества факторов таких как, откуда и куда вы едете, в какое время суток вы совершаете вашу поездку, погодных условий и так далее.\n",
        "\n",
        "Таким образом, если мы разработаем алгоритм, способный определять длительность поездки, мы сможем прогнозировать ее стоимость самым тривиальным образом, например, просто умножая стоимость на заданный тариф.\n",
        "Сервисы такси хранят огромные объёмы информации о поездках, включая такие данные как конечная, начальная точка маршрута, дата поездки и ее длительность. Эти данные можно использовать для того, чтобы прогнозировать длительность поездки в автоматическом режиме с привлечением искусственного интеллекта.\n",
        "\n",
        "**Бизнес-задача:** определить характеристики и с их помощью спрогнозировать длительность поездки такси.\n",
        "\n",
        "**Техническая задача для вас как для специалиста в Data Science:** построить модель машинного обучения, которая на основе предложенных характеристик клиента будет предсказывать числовой признак - время поездки такси. То есть решить задачу регрессии.\n",
        "\n",
        "**Основные цели проекта:**\n",
        "1. Сформировать набор данных на основе нескольких источников информации\n",
        "2. Спроектировать новые признаки с помощью Feature Engineering и выявить наиболее значимые при построении модели\n",
        "3. Исследовать предоставленные данные и выявить закономерности\n",
        "4. Построить несколько моделей и выбрать из них наилучшую по заданной метрике\n",
        "5. Спроектировать процесс предсказания времени длительности поездки для новых данных\n",
        "\n",
        "Загрузить свое решение на платформу Kaggle, тем самым поучаствовав в настоящем Data Science соревновании.\n",
        "Во время выполнения проекта вы отработаете навыки работы с несколькими источниками данных, генерации признаков, разведывательного анализа и визуализации данных, отбора признаков и, конечно же, построения моделей машинного обучения!\n"
      ]
    },
    {
      "attachments": {},
      "cell_type": "markdown",
      "metadata": {
        "id": "4Up0IUABkBLc"
      },
      "source": [
        "## 2. Знакомство с данными, базовый анализ и расширение данных"
      ]
    },
    {
      "attachments": {},
      "cell_type": "markdown",
      "metadata": {
        "id": "7W9mZPhWkBLd"
      },
      "source": [
        "Начнём наше исследование со знакомства с предоставленными данными. А также подгрузим дополнительные источники данных и расширим наш исходный датасет.\n",
        "Заранее импортируем модули, которые нам понадобятся для решения задачи:\n"
      ]
    },
    {
      "cell_type": "code",
      "execution_count": 200,
      "metadata": {
        "id": "yeC12P0hkBLe"
      },
      "outputs": [],
      "source": [
        "import numpy as np\n",
        "import pandas as pd\n",
        "import matplotlib.pyplot as plt\n",
        "import seaborn as sns\n",
        "import plotly.express as px\n",
        "\n",
        "from scipy import stats\n",
        "from sklearn import linear_model\n",
        "from sklearn.linear_model import LinearRegression\n",
        "from sklearn import preprocessing\n",
        "from sklearn import model_selection\n",
        "from sklearn import tree\n",
        "from sklearn import ensemble\n",
        "from sklearn import metrics\n",
        "from sklearn import cluster\n",
        "from sklearn import feature_selection\n",
        "\n",
        "from scipy.stats import normaltest\n",
        "from sklearn.preprocessing import OneHotEncoder\n",
        "from sklearn import linear_model\n",
        "from sklearn.preprocessing import PolynomialFeatures\n",
        "from sklearn.tree import DecisionTreeRegressor"
      ]
    },
    {
      "attachments": {},
      "cell_type": "markdown",
      "metadata": {
        "id": "kk5-kjqikBLf"
      },
      "source": [
        "Прочитаем наш файл с исходными данными:"
      ]
    },
    {
      "cell_type": "code",
      "execution_count": 100,
      "metadata": {
        "colab": {
          "base_uri": "https://localhost:8080/"
        },
        "id": "rwToq6-7lQIf",
        "outputId": "68a37bc4-e2f7-4ea3-a5e5-9e935695505b"
      },
      "outputs": [
        {
          "data": {
            "text/plain": [
              "\"from google.colab import drive\\ndrive.mount('/content/drive')\""
            ]
          },
          "execution_count": 100,
          "metadata": {},
          "output_type": "execute_result"
        }
      ],
      "source": [
        "\"\"\"from google.colab import drive\n",
        "drive.mount('/content/drive')\"\"\""
      ]
    },
    {
      "cell_type": "code",
      "execution_count": 101,
      "metadata": {
        "colab": {
          "base_uri": "https://localhost:8080/",
          "height": 222
        },
        "id": "hMQnRJwdkBLg",
        "outputId": "a3ff97af-db16-4dfb-98d7-50e01b113697"
      },
      "outputs": [
        {
          "data": {
            "text/html": [
              "<div>\n",
              "<style scoped>\n",
              "    .dataframe tbody tr th:only-of-type {\n",
              "        vertical-align: middle;\n",
              "    }\n",
              "\n",
              "    .dataframe tbody tr th {\n",
              "        vertical-align: top;\n",
              "    }\n",
              "\n",
              "    .dataframe thead th {\n",
              "        text-align: right;\n",
              "    }\n",
              "</style>\n",
              "<table border=\"1\" class=\"dataframe\">\n",
              "  <thead>\n",
              "    <tr style=\"text-align: right;\">\n",
              "      <th></th>\n",
              "      <th>id</th>\n",
              "      <th>vendor_id</th>\n",
              "      <th>pickup_datetime</th>\n",
              "      <th>dropoff_datetime</th>\n",
              "      <th>passenger_count</th>\n",
              "      <th>pickup_longitude</th>\n",
              "      <th>pickup_latitude</th>\n",
              "      <th>dropoff_longitude</th>\n",
              "      <th>dropoff_latitude</th>\n",
              "      <th>store_and_fwd_flag</th>\n",
              "      <th>trip_duration</th>\n",
              "    </tr>\n",
              "  </thead>\n",
              "  <tbody>\n",
              "    <tr>\n",
              "      <th>0</th>\n",
              "      <td>id2875421</td>\n",
              "      <td>2</td>\n",
              "      <td>2016-03-14 17:24:55</td>\n",
              "      <td>2016-03-14 17:32:30</td>\n",
              "      <td>1</td>\n",
              "      <td>-73.982155</td>\n",
              "      <td>40.767937</td>\n",
              "      <td>-73.964630</td>\n",
              "      <td>40.765602</td>\n",
              "      <td>N</td>\n",
              "      <td>455</td>\n",
              "    </tr>\n",
              "    <tr>\n",
              "      <th>1</th>\n",
              "      <td>id2377394</td>\n",
              "      <td>1</td>\n",
              "      <td>2016-06-12 00:43:35</td>\n",
              "      <td>2016-06-12 00:54:38</td>\n",
              "      <td>1</td>\n",
              "      <td>-73.980415</td>\n",
              "      <td>40.738564</td>\n",
              "      <td>-73.999481</td>\n",
              "      <td>40.731152</td>\n",
              "      <td>N</td>\n",
              "      <td>663</td>\n",
              "    </tr>\n",
              "    <tr>\n",
              "      <th>2</th>\n",
              "      <td>id3858529</td>\n",
              "      <td>2</td>\n",
              "      <td>2016-01-19 11:35:24</td>\n",
              "      <td>2016-01-19 12:10:48</td>\n",
              "      <td>1</td>\n",
              "      <td>-73.979027</td>\n",
              "      <td>40.763939</td>\n",
              "      <td>-74.005333</td>\n",
              "      <td>40.710087</td>\n",
              "      <td>N</td>\n",
              "      <td>2124</td>\n",
              "    </tr>\n",
              "    <tr>\n",
              "      <th>3</th>\n",
              "      <td>id3504673</td>\n",
              "      <td>2</td>\n",
              "      <td>2016-04-06 19:32:31</td>\n",
              "      <td>2016-04-06 19:39:40</td>\n",
              "      <td>1</td>\n",
              "      <td>-74.010040</td>\n",
              "      <td>40.719971</td>\n",
              "      <td>-74.012268</td>\n",
              "      <td>40.706718</td>\n",
              "      <td>N</td>\n",
              "      <td>429</td>\n",
              "    </tr>\n",
              "    <tr>\n",
              "      <th>4</th>\n",
              "      <td>id2181028</td>\n",
              "      <td>2</td>\n",
              "      <td>2016-03-26 13:30:55</td>\n",
              "      <td>2016-03-26 13:38:10</td>\n",
              "      <td>1</td>\n",
              "      <td>-73.973053</td>\n",
              "      <td>40.793209</td>\n",
              "      <td>-73.972923</td>\n",
              "      <td>40.782520</td>\n",
              "      <td>N</td>\n",
              "      <td>435</td>\n",
              "    </tr>\n",
              "  </tbody>\n",
              "</table>\n",
              "</div>"
            ],
            "text/plain": [
              "          id  vendor_id      pickup_datetime     dropoff_datetime  \\\n",
              "0  id2875421          2  2016-03-14 17:24:55  2016-03-14 17:32:30   \n",
              "1  id2377394          1  2016-06-12 00:43:35  2016-06-12 00:54:38   \n",
              "2  id3858529          2  2016-01-19 11:35:24  2016-01-19 12:10:48   \n",
              "3  id3504673          2  2016-04-06 19:32:31  2016-04-06 19:39:40   \n",
              "4  id2181028          2  2016-03-26 13:30:55  2016-03-26 13:38:10   \n",
              "\n",
              "   passenger_count  pickup_longitude  pickup_latitude  dropoff_longitude  \\\n",
              "0                1        -73.982155        40.767937         -73.964630   \n",
              "1                1        -73.980415        40.738564         -73.999481   \n",
              "2                1        -73.979027        40.763939         -74.005333   \n",
              "3                1        -74.010040        40.719971         -74.012268   \n",
              "4                1        -73.973053        40.793209         -73.972923   \n",
              "\n",
              "   dropoff_latitude store_and_fwd_flag  trip_duration  \n",
              "0         40.765602                  N            455  \n",
              "1         40.731152                  N            663  \n",
              "2         40.710087                  N           2124  \n",
              "3         40.706718                  N            429  \n",
              "4         40.782520                  N            435  "
            ]
          },
          "execution_count": 101,
          "metadata": {},
          "output_type": "execute_result"
        }
      ],
      "source": [
        "taxi_data = pd.read_csv(\n",
        "    \"train.csv\", encoding=\"ISO-8859-1\")\n",
        "#taxi_data = pd.read_csv(\"https://drive.google.com/file/d/1gMlqlpgdjV0J6UPaopx7jRBu4eJ1tqHb/view?usp=drive_open\")\n",
        "#print('Train data shape: {}'.format(taxi_data.shape))\n",
        "taxi_data.head()"
      ]
    },
    {
      "cell_type": "code",
      "execution_count": 102,
      "metadata": {
        "colab": {
          "base_uri": "https://localhost:8080/"
        },
        "id": "AbcUlF6ppoCU",
        "outputId": "a75e482a-9687-4304-ace3-4c18b1fafb78"
      },
      "outputs": [
        {
          "name": "stdout",
          "output_type": "stream",
          "text": [
            "<class 'pandas.core.frame.DataFrame'>\n",
            "RangeIndex: 1458644 entries, 0 to 1458643\n",
            "Data columns (total 11 columns):\n",
            " #   Column              Non-Null Count    Dtype  \n",
            "---  ------              --------------    -----  \n",
            " 0   id                  1458644 non-null  object \n",
            " 1   vendor_id           1458644 non-null  int64  \n",
            " 2   pickup_datetime     1458644 non-null  object \n",
            " 3   dropoff_datetime    1458644 non-null  object \n",
            " 4   passenger_count     1458644 non-null  int64  \n",
            " 5   pickup_longitude    1458644 non-null  float64\n",
            " 6   pickup_latitude     1458644 non-null  float64\n",
            " 7   dropoff_longitude   1458644 non-null  float64\n",
            " 8   dropoff_latitude    1458644 non-null  float64\n",
            " 9   store_and_fwd_flag  1458644 non-null  object \n",
            " 10  trip_duration       1458644 non-null  int64  \n",
            "dtypes: float64(4), int64(3), object(4)\n",
            "memory usage: 122.4+ MB\n"
          ]
        }
      ],
      "source": [
        "#сделаем копию данных\n",
        "data = taxi_data.copy()\n",
        "data.info()"
      ]
    },
    {
      "attachments": {},
      "cell_type": "markdown",
      "metadata": {
        "id": "xhaxNt0XkBLh"
      },
      "source": [
        "Итак, у нас с вами есть данные о почти 1.5 миллионах поездок и 11 характеристиках, которые описывают каждую из поездок."
      ]
    },
    {
      "attachments": {},
      "cell_type": "markdown",
      "metadata": {
        "id": "tXufvADjkBLi"
      },
      "source": [
        "Мы условно разделили признаки нескольких групп. Каждой из групп мы в дальнейшем уделим отдельное внимание.\n",
        "\n",
        "**Данные о клиенте и таксопарке:**\n",
        "* id - уникальный идентификатор поездки\n",
        "* vendor_id - уникальный идентификатор поставщика (таксопарка), связанного с записью поездки\n",
        "\n",
        "**Временные характеристики:**\n",
        "* pickup_datetime - дата и время, когда был включен счетчик поездки\n",
        "* dropoff_datetime - дата и время, когда счетчик был отключен\n",
        "\n",
        "**Географическая информация:**\n",
        "* pickup_longitude -  долгота, на которой был включен счетчик\n",
        "* pickup_latitude - широта, на которой был включен счетчик\n",
        "* dropoff_longitude - долгота, на которой счетчик был отключен\n",
        "* dropoff_latitude - широта, на которой счетчик был отключен\n",
        "\n",
        "**Прочие признаки:**\n",
        "* passenger_count - количество пассажиров в транспортном средстве (введенное водителем значение)\n",
        "* store_and_fwd_flag - флаг, который указывает, сохранилась ли запись о поездке в памяти транспортного средства перед отправкой поставщику. Y - хранить и пересылать, N - не хранить и не пересылать поездку.\n",
        "\n",
        "**Целевой признак:**\n",
        "* trip_duration - продолжительность поездки в секундах\n"
      ]
    },
    {
      "attachments": {},
      "cell_type": "markdown",
      "metadata": {
        "id": "VvrcGynTkBLi"
      },
      "source": [
        "Для начала мы проведем базовый анализ того, насколько данные готовы к дальнейшей предобработке и анализу."
      ]
    },
    {
      "attachments": {},
      "cell_type": "markdown",
      "metadata": {
        "id": "33rsP7rTkBLj"
      },
      "source": [
        "### Задание 2.1\n",
        "Для начала посмотрим на временные рамки, в которых мы работаем с данными.\n",
        "\n",
        "Переведите признак pickup_datetime в тип данных datetime с форматом год-месяц-день час:минута:секунда (в функции pd.to_datetime() параметр format='%Y-%m-%d %H:%M:%S').\n",
        "\n",
        "Определите временные рамки (без учета времени), за которые представлены данные."
      ]
    },
    {
      "cell_type": "code",
      "execution_count": 103,
      "metadata": {
        "colab": {
          "base_uri": "https://localhost:8080/"
        },
        "id": "cIVxwqW1kBLj",
        "outputId": "9416f393-5b54-4dc9-9bab-818732fd694d"
      },
      "outputs": [
        {
          "name": "stderr",
          "output_type": "stream",
          "text": [
            "/var/folders/88/7g79gm9d45d4lvwr8s3qk3jm0000gn/T/ipykernel_1991/3889475685.py:3: FutureWarning: Treating datetime data as categorical rather than numeric in `.describe` is deprecated and will be removed in a future version of pandas. Specify `datetime_is_numeric=True` to silence this warning and adopt the future behavior now.\n",
            "  data[\"pickup_datetime\"].describe()\n"
          ]
        },
        {
          "data": {
            "text/plain": [
              "count                 1458644\n",
              "unique                1380222\n",
              "top       2016-03-04 08:07:34\n",
              "freq                        5\n",
              "first     2016-01-01 00:00:17\n",
              "last      2016-06-30 23:59:39\n",
              "Name: pickup_datetime, dtype: object"
            ]
          },
          "execution_count": 103,
          "metadata": {},
          "output_type": "execute_result"
        }
      ],
      "source": [
        "data[\"pickup_datetime\"] = pd.to_datetime(data[\"pickup_datetime\"], format='%Y-%m-%d %H:%M:%S')\n",
        "data[\"pickup_datetime\"].describe()"
      ]
    },
    {
      "attachments": {},
      "cell_type": "markdown",
      "metadata": {
        "id": "prw5RhKnkBLj"
      },
      "source": [
        "### Задание 2.2\n",
        "Посмотрим на пропуски.\n",
        "Сколько пропущенных значений присутствует в данных (суммарно по всем столбцам таблицы)?"
      ]
    },
    {
      "cell_type": "code",
      "execution_count": 104,
      "metadata": {
        "colab": {
          "base_uri": "https://localhost:8080/"
        },
        "id": "ug16JoZDkBLk",
        "outputId": "57e9e4c3-ffae-46bb-e1f8-b847406bfd9e"
      },
      "outputs": [
        {
          "data": {
            "text/plain": [
              "id                    0\n",
              "vendor_id             0\n",
              "pickup_datetime       0\n",
              "dropoff_datetime      0\n",
              "passenger_count       0\n",
              "pickup_longitude      0\n",
              "pickup_latitude       0\n",
              "dropoff_longitude     0\n",
              "dropoff_latitude      0\n",
              "store_and_fwd_flag    0\n",
              "trip_duration         0\n",
              "dtype: int64"
            ]
          },
          "execution_count": 104,
          "metadata": {},
          "output_type": "execute_result"
        }
      ],
      "source": [
        "data.isnull().sum()"
      ]
    },
    {
      "attachments": {},
      "cell_type": "markdown",
      "metadata": {
        "id": "ZMMIyT1skBLk"
      },
      "source": [
        "### Задание 2.3\n",
        "Посмотрим на статистические характеристики некоторых признаков.\n",
        "\n",
        "а) Сколько уникальных таксопарков присутствует в данных?\n",
        "\n",
        "б) Каково максимальное количество пассажиров?\n",
        "\n",
        "в) Чему равна средняя и медианная длительность поездки? Ответ приведите в секундах и округлите до целого.\n",
        "\n",
        "г) Чему равно минимальное и максимальное время поездки (в секундах)?\n"
      ]
    },
    {
      "cell_type": "code",
      "execution_count": 105,
      "metadata": {
        "colab": {
          "base_uri": "https://localhost:8080/"
        },
        "id": "UeJfdmIskBLk",
        "outputId": "a043da2c-54fb-41c8-da71-f0d3d332cbf6"
      },
      "outputs": [
        {
          "name": "stdout",
          "output_type": "stream",
          "text": [
            "Количество уникальных таксопарков 2\n",
            "Максимальное количество пассажиров 10\n",
            "Средняя длительность поездки 959\n",
            "Медианная длительность поездки 662\n",
            "Минимальная длительность поездки 1\n",
            "Максимальная длительность поездки 3526282\n"
          ]
        }
      ],
      "source": [
        "print('Количество уникальных таксопарков {:.0f}'.format(len(data['vendor_id'].unique())))    #а\n",
        "print('Максимальное количество пассажиров {:.0f}'.format(len(data.value_counts(['passenger_count']))))   #б\n",
        "print('Средняя длительность поездки {:.0f}'.format(round(data[\"trip_duration\"].mean())))   #в\n",
        "print('Медианная длительность поездки {:.0f}'.format(round(data[\"trip_duration\"].median())))   #в\n",
        "print('Минимальная длительность поездки {:.0f}'.format(data[\"trip_duration\"].min()))   #г\n",
        "print('Максимальная длительность поездки {:.0f}'.format(data[\"trip_duration\"].max()))   #г"
      ]
    },
    {
      "attachments": {},
      "cell_type": "markdown",
      "metadata": {
        "id": "JhUgalQSkBLk"
      },
      "source": [
        "Займемся расширением исходного набора данных как с помощью внешних источников, так и с помощью манипуляций над имеющимися в данных признаками.\n"
      ]
    },
    {
      "attachments": {},
      "cell_type": "markdown",
      "metadata": {
        "id": "riVyyTGRkBLk"
      },
      "source": [
        "### Задание 2.4\n",
        "Реализуйте функцию add_datetime_features(), которая принимает на вход таблицу с данными о поездках (DataFrame) и возвращает ту же таблицу с добавленными в нее 3 столбцами:\n",
        "* pickup_date - дата включения счетчика - начала поездки (без времени);\n",
        "* pickup_hour - час дня включения счетчика;\n",
        "* pickup_day_of_week - наименование дня недели, в который был включен счетчик.\n",
        "\n",
        "а) Сколько поездок было совершено в субботу?\n",
        "\n",
        "б) Сколько поездок в среднем совершается в день? Ответ округлите до целого"
      ]
    },
    {
      "cell_type": "code",
      "execution_count": 106,
      "metadata": {
        "id": "2987aTUAkBLl"
      },
      "outputs": [],
      "source": [
        "def add_datetime_features(data):\n",
        "    data[\"pickup_date\"] = data[\"pickup_datetime\"].dt.date\n",
        "    data[\"pickup_hour\"] = data[\"pickup_datetime\"].dt.hour\n",
        "    data[\"pickup_day_of_week\"] = data[\"pickup_datetime\"].dt.day_name()\n",
        "    return data\n",
        "\n",
        "data = add_datetime_features(data)   #применим функцию"
      ]
    },
    {
      "cell_type": "code",
      "execution_count": 107,
      "metadata": {
        "colab": {
          "base_uri": "https://localhost:8080/"
        },
        "id": "Awet1bjPTK35",
        "outputId": "fd920411-8f77-46a4-b8a1-c8e57f215f99"
      },
      "outputs": [
        {
          "name": "stdout",
          "output_type": "stream",
          "text": [
            "Поездки по дням недели \n",
            "Friday       223533\n",
            "Saturday     220868\n",
            "Thursday     218574\n",
            "Wednesday    210136\n",
            "Tuesday      202749\n",
            "Sunday       195366\n",
            "Monday       187418\n",
            "Name: pickup_day_of_week, dtype: int64\n",
            "Среднее количество поездок в день 8015.0\n"
          ]
        }
      ],
      "source": [
        "print('Поездки по дням недели ')    #а\n",
        "print((data[\"pickup_day_of_week\"].value_counts(sort=True)))\n",
        "print('Среднее количество поездок в день {:.1f}'.format(round(data[\"pickup_date\"].value_counts().mean())))   #б"
      ]
    },
    {
      "attachments": {},
      "cell_type": "markdown",
      "metadata": {
        "id": "5rCk6lyTkBLl"
      },
      "source": [
        "### Задание 2.5\n",
        "Реализуйте функцию add_holiday_features(), которая принимает на вход две таблицы:\n",
        "* таблицу с данными о поездках;\n",
        "* таблицу с данными о праздничных днях;\n",
        "\n",
        "и возвращает обновленную таблицу с данными о поездках с добавленным в нее столбцом pickup_holiday - бинарным признаком того, начата ли поездка в праздничный день или нет (1 - да, 0 - нет).\n",
        "\n",
        "Чему равна медианная длительность поездки на такси в праздничные дни? Ответ приведите в секундах, округлив до целого.\n"
      ]
    },
    {
      "cell_type": "code",
      "execution_count": 108,
      "metadata": {
        "id": "ZnPWsSMukBLl"
      },
      "outputs": [],
      "source": [
        "holidays = pd.read_csv('holiday_data.csv', sep=';')\n",
        "\n",
        "def add_holiday_features(data, holidays):\n",
        "    holidays[\"date\"] = pd.to_datetime(holidays[\"date\"])\n",
        "    holidays[\"date\"]= holidays[\"date\"].dt.date\n",
        "    holidays[\"is_holiday\"] = 1\n",
        "    data = pd.merge(data, holidays, left_on=\"pickup_date\", right_on=\"date\", how=\"left\")\n",
        "    data[\"pickup_holiday\"] = data[\"is_holiday\"].fillna(0)\n",
        "    data = data.drop(columns=[\"date\", \"is_holiday\", \"day\", \"holiday\"])  ##\n",
        "    return data\n",
        "\n",
        "data = add_holiday_features(data, holidays)"
      ]
    },
    {
      "cell_type": "code",
      "execution_count": 109,
      "metadata": {
        "colab": {
          "base_uri": "https://localhost:8080/"
        },
        "id": "yJpgPYifyB_R",
        "outputId": "0c14d37b-79bf-448a-b3a9-cbbedaf9b7ab"
      },
      "outputs": [
        {
          "data": {
            "text/plain": [
              "0.0    1407522\n",
              "1.0      51122\n",
              "Name: pickup_holiday, dtype: int64"
            ]
          },
          "execution_count": 109,
          "metadata": {},
          "output_type": "execute_result"
        }
      ],
      "source": [
        "data[\"pickup_holiday\"].value_counts()\n",
        "#holidays.info()"
      ]
    },
    {
      "cell_type": "code",
      "execution_count": 110,
      "metadata": {
        "colab": {
          "base_uri": "https://localhost:8080/"
        },
        "id": "0ejGBMT4yaUm",
        "outputId": "601790fc-27a8-4287-84af-339d332628c0"
      },
      "outputs": [
        {
          "name": "stdout",
          "output_type": "stream",
          "text": [
            "медианная длительность поездки на такси в праздничные дни 585\n"
          ]
        }
      ],
      "source": [
        "holiday_duration = data.groupby(['pickup_holiday'])['trip_duration'].median()[1]\n",
        "print('медианная длительность поездки на такси в праздничные дни {:.0f}'.format(holiday_duration))"
      ]
    },
    {
      "attachments": {},
      "cell_type": "markdown",
      "metadata": {
        "id": "YPxMlVMAkBLl"
      },
      "source": [
        "### Задание 2.6\n",
        "Реализуйте функцию add_osrm_features(), которая принимает на вход две таблицы:\n",
        "* таблицу с данными о поездках;\n",
        "* таблицу с данными из OSRM;\n",
        "\n",
        "и возвращает обновленную таблицу с данными о поездках с добавленными в нее 3 столбцами:\n",
        "* total_distance;\n",
        "* total_travel_time;\n",
        "* number_of_steps.\n",
        "\n",
        "а) Чему равна разница (в секундах) между медианной длительностью поездки в данных и медианной длительностью поездки, полученной из OSRM?\n",
        "\n",
        "В результате объединения таблиц у вас должны были получиться пропуски в столбцах с информацией из OSRM API. Это связано с тем, что для некоторых поездок не удалось выгрузить данные из веб источника.\n",
        "\n",
        "б) Сколько пропусков содержится в столбцах с информацией из OSRM API после объединения таблиц?"
      ]
    },
    {
      "cell_type": "code",
      "execution_count": 111,
      "metadata": {
        "id": "uey_zFbwkBLm"
      },
      "outputs": [],
      "source": [
        "osrm_data = pd.read_csv('osrm_data_train.csv')\n",
        "osrm_data = osrm_data[['id', 'total_distance','total_travel_time', 'number_of_steps']]"
      ]
    },
    {
      "cell_type": "code",
      "execution_count": 112,
      "metadata": {
        "id": "UpjARkee8tKF"
      },
      "outputs": [],
      "source": [
        "def  add_osrm_features(data, osrm_data):\n",
        "    data = pd.merge(data, osrm_data, left_on=\"id\", right_on=\"id\", how=\"left\")\n",
        "    #data[\"pickup_holiday\"] = data[\"is_holiday\"].fillna(0)\n",
        "    #data = data.drop(columns=[\"date\", \"is_holiday\", \"day\"])\n",
        "    return data\n",
        "\n",
        "data =  add_osrm_features(data, osrm_data)"
      ]
    },
    {
      "cell_type": "code",
      "execution_count": 113,
      "metadata": {
        "colab": {
          "base_uri": "https://localhost:8080/"
        },
        "id": "8-HD97Lz92rc",
        "outputId": "22fc0226-195e-4261-a98d-3b964f824ddc"
      },
      "outputs": [
        {
          "name": "stdout",
          "output_type": "stream",
          "text": [
            "медианная длительность поездки на такси 662\n",
            "медианная длительность поездки на такси OSRM 290\n",
            "разница в длительности поездки 372\n"
          ]
        }
      ],
      "source": [
        "duration = data['trip_duration'].median()\n",
        "print('медианная длительность поездки на такси {:.0f}'.format(duration))\n",
        "duration_OSRM = data['total_travel_time'].median()\n",
        "print('медианная длительность поездки на такси OSRM {:.0f}'.format(duration_OSRM))\n",
        "print('разница в длительности поездки {:.0f}'.format(duration - duration_OSRM))"
      ]
    },
    {
      "cell_type": "code",
      "execution_count": 114,
      "metadata": {
        "colab": {
          "base_uri": "https://localhost:8080/"
        },
        "id": "an_ABUiK6ywQ",
        "outputId": "45adf8f4-e494-44ae-cf05-a5900809f758"
      },
      "outputs": [
        {
          "name": "stdout",
          "output_type": "stream",
          "text": [
            "<class 'pandas.core.frame.DataFrame'>\n",
            "Int64Index: 1458644 entries, 0 to 1458643\n",
            "Data columns (total 18 columns):\n",
            " #   Column              Non-Null Count    Dtype         \n",
            "---  ------              --------------    -----         \n",
            " 0   id                  1458644 non-null  object        \n",
            " 1   vendor_id           1458644 non-null  int64         \n",
            " 2   pickup_datetime     1458644 non-null  datetime64[ns]\n",
            " 3   dropoff_datetime    1458644 non-null  object        \n",
            " 4   passenger_count     1458644 non-null  int64         \n",
            " 5   pickup_longitude    1458644 non-null  float64       \n",
            " 6   pickup_latitude     1458644 non-null  float64       \n",
            " 7   dropoff_longitude   1458644 non-null  float64       \n",
            " 8   dropoff_latitude    1458644 non-null  float64       \n",
            " 9   store_and_fwd_flag  1458644 non-null  object        \n",
            " 10  trip_duration       1458644 non-null  int64         \n",
            " 11  pickup_date         1458644 non-null  object        \n",
            " 12  pickup_hour         1458644 non-null  int64         \n",
            " 13  pickup_day_of_week  1458644 non-null  object        \n",
            " 14  pickup_holiday      1458644 non-null  float64       \n",
            " 15  total_distance      1458643 non-null  float64       \n",
            " 16  total_travel_time   1458643 non-null  float64       \n",
            " 17  number_of_steps     1458643 non-null  float64       \n",
            "dtypes: datetime64[ns](1), float64(8), int64(4), object(5)\n",
            "memory usage: 211.4+ MB\n"
          ]
        }
      ],
      "source": [
        "data.info()"
      ]
    },
    {
      "cell_type": "code",
      "execution_count": 115,
      "metadata": {
        "id": "ti1rljMGkBLm"
      },
      "outputs": [],
      "source": [
        "def get_haversine_distance(lat1, lng1, lat2, lng2):\n",
        "    # переводим углы в радианы\n",
        "    lat1, lng1, lat2, lng2 = map(np.radians, (lat1, lng1, lat2, lng2))\n",
        "    # радиус земли в километрах\n",
        "    EARTH_RADIUS = 6371\n",
        "    # считаем кратчайшее расстояние h по формуле Хаверсина\n",
        "    lat_delta = lat2 - lat1\n",
        "    lng_delta = lng2 - lng1\n",
        "    d = np.sin(lat_delta * 0.5) ** 2 + np.cos(lat1) * np.cos(lat2) * np.sin(lng_delta * 0.5) ** 2\n",
        "    h = 2 * EARTH_RADIUS * np.arcsin(np.sqrt(d))\n",
        "    return h\n",
        "\n",
        "def get_angle_direction(lat1, lng1, lat2, lng2):\n",
        "    # переводим углы в радианы\n",
        "    lat1, lng1, lat2, lng2 = map(np.radians, (lat1, lng1, lat2, lng2))\n",
        "    # считаем угол направления движения alpha по формуле угла пеленга\n",
        "    lng_delta_rad = lng2 - lng1\n",
        "    y = np.sin(lng_delta_rad) * np.cos(lat2)\n",
        "    x = np.cos(lat1) * np.sin(lat2) - np.sin(lat1) * np.cos(lat2) * np.cos(lng_delta_rad)\n",
        "    alpha = np.degrees(np.arctan2(y, x))\n",
        "    return alpha"
      ]
    },
    {
      "attachments": {},
      "cell_type": "markdown",
      "metadata": {
        "id": "lGQpi4erkBLm"
      },
      "source": [
        "### Задание 2.7.\n",
        "Реализуйте функцию add_geographical_features(), которая принимает на вход таблицу с данными о поездках и возвращает обновленную таблицу с добавленными в нее 2 столбцами:\n",
        "* haversine_distance - расстояние Хаверсина между точкой, в которой был включен счетчик, и точкой, в которой счетчик был выключен;\n",
        "* direction - направление движения из точки, в которой был включен счетчик, в точку, в которой счетчик был выключен.\n",
        "\n",
        "Чему равно медианное расстояние Хаверсина поездок (в киллометрах)? Ответ округлите до сотых.\n"
      ]
    },
    {
      "cell_type": "code",
      "execution_count": 116,
      "metadata": {
        "id": "zWqz2-aunUPZ"
      },
      "outputs": [],
      "source": [
        "def add_geographical_features(data):\n",
        "    lat1 = data['pickup_latitude']\n",
        "    lng1 = data['pickup_longitude']\n",
        "    lat2 = data['dropoff_latitude']\n",
        "    lng2 = data['dropoff_longitude']\n",
        "    #data2 = pd.DataFrame()\n",
        "    data['haversine_distance'] =  get_haversine_distance(lat1, lng1, lat2, lng2)\n",
        "    data['direction'] = get_angle_direction(lat1, lng1, lat2, lng2)\n",
        "    return data"
      ]
    },
    {
      "cell_type": "code",
      "execution_count": 117,
      "metadata": {
        "id": "lANv8N77qVAd"
      },
      "outputs": [],
      "source": [
        "data = add_geographical_features(data)"
      ]
    },
    {
      "cell_type": "code",
      "execution_count": 118,
      "metadata": {
        "colab": {
          "base_uri": "https://localhost:8080/"
        },
        "id": "ZwkSUvzjxse6",
        "outputId": "2f22d455-bd89-49f7-9cd0-c86f1eee1587"
      },
      "outputs": [
        {
          "name": "stdout",
          "output_type": "stream",
          "text": [
            "<class 'pandas.core.frame.DataFrame'>\n",
            "Int64Index: 1458644 entries, 0 to 1458643\n",
            "Data columns (total 20 columns):\n",
            " #   Column              Non-Null Count    Dtype         \n",
            "---  ------              --------------    -----         \n",
            " 0   id                  1458644 non-null  object        \n",
            " 1   vendor_id           1458644 non-null  int64         \n",
            " 2   pickup_datetime     1458644 non-null  datetime64[ns]\n",
            " 3   dropoff_datetime    1458644 non-null  object        \n",
            " 4   passenger_count     1458644 non-null  int64         \n",
            " 5   pickup_longitude    1458644 non-null  float64       \n",
            " 6   pickup_latitude     1458644 non-null  float64       \n",
            " 7   dropoff_longitude   1458644 non-null  float64       \n",
            " 8   dropoff_latitude    1458644 non-null  float64       \n",
            " 9   store_and_fwd_flag  1458644 non-null  object        \n",
            " 10  trip_duration       1458644 non-null  int64         \n",
            " 11  pickup_date         1458644 non-null  object        \n",
            " 12  pickup_hour         1458644 non-null  int64         \n",
            " 13  pickup_day_of_week  1458644 non-null  object        \n",
            " 14  pickup_holiday      1458644 non-null  float64       \n",
            " 15  total_distance      1458643 non-null  float64       \n",
            " 16  total_travel_time   1458643 non-null  float64       \n",
            " 17  number_of_steps     1458643 non-null  float64       \n",
            " 18  haversine_distance  1458644 non-null  float64       \n",
            " 19  direction           1458644 non-null  float64       \n",
            "dtypes: datetime64[ns](1), float64(10), int64(4), object(5)\n",
            "memory usage: 233.7+ MB\n"
          ]
        }
      ],
      "source": [
        "data.info()"
      ]
    },
    {
      "cell_type": "code",
      "execution_count": 119,
      "metadata": {
        "colab": {
          "base_uri": "https://localhost:8080/"
        },
        "id": "HVrzJ-UF0QFk",
        "outputId": "39c6ef8b-ca86-4190-c175-23e5cc285f6e"
      },
      "outputs": [
        {
          "name": "stdout",
          "output_type": "stream",
          "text": [
            "медианное расстояние Хаверсина поездок равно 2\n"
          ]
        }
      ],
      "source": [
        "h_dist_m = data['haversine_distance'].median()\n",
        "print('медианное расстояние Хаверсина поездок равно {:.0f}'.format(round(h_dist_m, 2)))"
      ]
    },
    {
      "attachments": {},
      "cell_type": "markdown",
      "metadata": {
        "id": "_WWydgB2kBLm"
      },
      "source": [
        "### Задание 2.8.\n",
        "Реализуйте функцию add_cluster_features(), которая принимает на вход таблицу с данными о поездках и обученный алгоритм кластеризации. Функция должна возвращать обновленную таблицу с добавленными в нее столбцом geo_cluster - географический кластер, к которому относится поездка.\n",
        "\n",
        "Сколько поездок содержится в наименьшем по размеру географическом кластере?\n"
      ]
    },
    {
      "cell_type": "code",
      "execution_count": 120,
      "metadata": {
        "colab": {
          "base_uri": "https://localhost:8080/",
          "height": 129
        },
        "id": "YxpWNYfakBLn",
        "outputId": "5cff9fa3-e8a8-49e9-e955-3d308a8bbd6e"
      },
      "outputs": [
        {
          "name": "stderr",
          "output_type": "stream",
          "text": [
            "/Library/Frameworks/Python.framework/Versions/3.11/lib/python3.11/site-packages/sklearn/cluster/_kmeans.py:870: FutureWarning: The default value of `n_init` will change from 10 to 'auto' in 1.4. Set the value of `n_init` explicitly to suppress the warning\n",
            "  warnings.warn(\n"
          ]
        },
        {
          "data": {
            "text/html": [
              "<style>#sk-container-id-3 {color: black;background-color: white;}#sk-container-id-3 pre{padding: 0;}#sk-container-id-3 div.sk-toggleable {background-color: white;}#sk-container-id-3 label.sk-toggleable__label {cursor: pointer;display: block;width: 100%;margin-bottom: 0;padding: 0.3em;box-sizing: border-box;text-align: center;}#sk-container-id-3 label.sk-toggleable__label-arrow:before {content: \"▸\";float: left;margin-right: 0.25em;color: #696969;}#sk-container-id-3 label.sk-toggleable__label-arrow:hover:before {color: black;}#sk-container-id-3 div.sk-estimator:hover label.sk-toggleable__label-arrow:before {color: black;}#sk-container-id-3 div.sk-toggleable__content {max-height: 0;max-width: 0;overflow: hidden;text-align: left;background-color: #f0f8ff;}#sk-container-id-3 div.sk-toggleable__content pre {margin: 0.2em;color: black;border-radius: 0.25em;background-color: #f0f8ff;}#sk-container-id-3 input.sk-toggleable__control:checked~div.sk-toggleable__content {max-height: 200px;max-width: 100%;overflow: auto;}#sk-container-id-3 input.sk-toggleable__control:checked~label.sk-toggleable__label-arrow:before {content: \"▾\";}#sk-container-id-3 div.sk-estimator input.sk-toggleable__control:checked~label.sk-toggleable__label {background-color: #d4ebff;}#sk-container-id-3 div.sk-label input.sk-toggleable__control:checked~label.sk-toggleable__label {background-color: #d4ebff;}#sk-container-id-3 input.sk-hidden--visually {border: 0;clip: rect(1px 1px 1px 1px);clip: rect(1px, 1px, 1px, 1px);height: 1px;margin: -1px;overflow: hidden;padding: 0;position: absolute;width: 1px;}#sk-container-id-3 div.sk-estimator {font-family: monospace;background-color: #f0f8ff;border: 1px dotted black;border-radius: 0.25em;box-sizing: border-box;margin-bottom: 0.5em;}#sk-container-id-3 div.sk-estimator:hover {background-color: #d4ebff;}#sk-container-id-3 div.sk-parallel-item::after {content: \"\";width: 100%;border-bottom: 1px solid gray;flex-grow: 1;}#sk-container-id-3 div.sk-label:hover label.sk-toggleable__label {background-color: #d4ebff;}#sk-container-id-3 div.sk-serial::before {content: \"\";position: absolute;border-left: 1px solid gray;box-sizing: border-box;top: 0;bottom: 0;left: 50%;z-index: 0;}#sk-container-id-3 div.sk-serial {display: flex;flex-direction: column;align-items: center;background-color: white;padding-right: 0.2em;padding-left: 0.2em;position: relative;}#sk-container-id-3 div.sk-item {position: relative;z-index: 1;}#sk-container-id-3 div.sk-parallel {display: flex;align-items: stretch;justify-content: center;background-color: white;position: relative;}#sk-container-id-3 div.sk-item::before, #sk-container-id-3 div.sk-parallel-item::before {content: \"\";position: absolute;border-left: 1px solid gray;box-sizing: border-box;top: 0;bottom: 0;left: 50%;z-index: -1;}#sk-container-id-3 div.sk-parallel-item {display: flex;flex-direction: column;z-index: 1;position: relative;background-color: white;}#sk-container-id-3 div.sk-parallel-item:first-child::after {align-self: flex-end;width: 50%;}#sk-container-id-3 div.sk-parallel-item:last-child::after {align-self: flex-start;width: 50%;}#sk-container-id-3 div.sk-parallel-item:only-child::after {width: 0;}#sk-container-id-3 div.sk-dashed-wrapped {border: 1px dashed gray;margin: 0 0.4em 0.5em 0.4em;box-sizing: border-box;padding-bottom: 0.4em;background-color: white;}#sk-container-id-3 div.sk-label label {font-family: monospace;font-weight: bold;display: inline-block;line-height: 1.2em;}#sk-container-id-3 div.sk-label-container {text-align: center;}#sk-container-id-3 div.sk-container {/* jupyter's `normalize.less` sets `[hidden] { display: none; }` but bootstrap.min.css set `[hidden] { display: none !important; }` so we also need the `!important` here to be able to override the default hidden behavior on the sphinx rendered scikit-learn.org. See: https://github.com/scikit-learn/scikit-learn/issues/21755 */display: inline-block !important;position: relative;}#sk-container-id-3 div.sk-text-repr-fallback {display: none;}</style><div id=\"sk-container-id-3\" class=\"sk-top-container\"><div class=\"sk-text-repr-fallback\"><pre>KMeans(n_clusters=10, random_state=42)</pre><b>In a Jupyter environment, please rerun this cell to show the HTML representation or trust the notebook. <br />On GitHub, the HTML representation is unable to render, please try loading this page with nbviewer.org.</b></div><div class=\"sk-container\" hidden><div class=\"sk-item\"><div class=\"sk-estimator sk-toggleable\"><input class=\"sk-toggleable__control sk-hidden--visually\" id=\"sk-estimator-id-3\" type=\"checkbox\" checked><label for=\"sk-estimator-id-3\" class=\"sk-toggleable__label sk-toggleable__label-arrow\">KMeans</label><div class=\"sk-toggleable__content\"><pre>KMeans(n_clusters=10, random_state=42)</pre></div></div></div></div></div>"
            ],
            "text/plain": [
              "KMeans(n_clusters=10, random_state=42)"
            ]
          },
          "execution_count": 120,
          "metadata": {},
          "output_type": "execute_result"
        }
      ],
      "source": [
        "# создаем обучающую выборку из географических координат всех точек\n",
        "coords = np.hstack((data[['pickup_latitude', 'pickup_longitude']],\n",
        "                    data[['dropoff_latitude', 'dropoff_longitude']]))\n",
        "# обучаем алгоритм кластеризации\n",
        "kmeans = cluster.KMeans(n_clusters=10, random_state=42)\n",
        "kmeans.fit(coords)"
      ]
    },
    {
      "cell_type": "code",
      "execution_count": 121,
      "metadata": {
        "id": "GKTylBSa7y_N"
      },
      "outputs": [],
      "source": [
        "def add_cluster_features(data, kmeans):\n",
        "    X = coords\n",
        "    # Добавляем столбец с кластерами в DataFrame\n",
        "    data['geo_cluster'] = kmeans.predict(X)\n",
        "    return data"
      ]
    },
    {
      "cell_type": "code",
      "execution_count": 122,
      "metadata": {
        "id": "kk4t9YDb_9B-"
      },
      "outputs": [],
      "source": [
        "data = add_cluster_features(data,kmeans)"
      ]
    },
    {
      "cell_type": "code",
      "execution_count": 123,
      "metadata": {
        "colab": {
          "base_uri": "https://localhost:8080/"
        },
        "id": "D1N_6A3S9oKC",
        "outputId": "ef34d3d5-82a8-495d-d44a-d35805675b75"
      },
      "outputs": [
        {
          "data": {
            "text/plain": [
              "0    596467\n",
              "9    383874\n",
              "4    359233\n",
              "5     43619\n",
              "7     41171\n",
              "3     27022\n",
              "1      7233\n",
              "6        18\n",
              "8         5\n",
              "2         2\n",
              "Name: geo_cluster, dtype: int64"
            ]
          },
          "execution_count": 123,
          "metadata": {},
          "output_type": "execute_result"
        }
      ],
      "source": [
        "data['geo_cluster'].value_counts()"
      ]
    },
    {
      "cell_type": "code",
      "execution_count": 124,
      "metadata": {
        "colab": {
          "base_uri": "https://localhost:8080/"
        },
        "id": "abJZ0H6SAFbE",
        "outputId": "ca1a48d2-80a1-458f-e0fd-d765c79e5cbc"
      },
      "outputs": [
        {
          "name": "stdout",
          "output_type": "stream",
          "text": [
            "<class 'pandas.core.frame.DataFrame'>\n",
            "Int64Index: 1458644 entries, 0 to 1458643\n",
            "Data columns (total 21 columns):\n",
            " #   Column              Non-Null Count    Dtype         \n",
            "---  ------              --------------    -----         \n",
            " 0   id                  1458644 non-null  object        \n",
            " 1   vendor_id           1458644 non-null  int64         \n",
            " 2   pickup_datetime     1458644 non-null  datetime64[ns]\n",
            " 3   dropoff_datetime    1458644 non-null  object        \n",
            " 4   passenger_count     1458644 non-null  int64         \n",
            " 5   pickup_longitude    1458644 non-null  float64       \n",
            " 6   pickup_latitude     1458644 non-null  float64       \n",
            " 7   dropoff_longitude   1458644 non-null  float64       \n",
            " 8   dropoff_latitude    1458644 non-null  float64       \n",
            " 9   store_and_fwd_flag  1458644 non-null  object        \n",
            " 10  trip_duration       1458644 non-null  int64         \n",
            " 11  pickup_date         1458644 non-null  object        \n",
            " 12  pickup_hour         1458644 non-null  int64         \n",
            " 13  pickup_day_of_week  1458644 non-null  object        \n",
            " 14  pickup_holiday      1458644 non-null  float64       \n",
            " 15  total_distance      1458643 non-null  float64       \n",
            " 16  total_travel_time   1458643 non-null  float64       \n",
            " 17  number_of_steps     1458643 non-null  float64       \n",
            " 18  haversine_distance  1458644 non-null  float64       \n",
            " 19  direction           1458644 non-null  float64       \n",
            " 20  geo_cluster         1458644 non-null  int32         \n",
            "dtypes: datetime64[ns](1), float64(10), int32(1), int64(4), object(5)\n",
            "memory usage: 239.3+ MB\n"
          ]
        }
      ],
      "source": [
        "data.info()"
      ]
    },
    {
      "attachments": {},
      "cell_type": "markdown",
      "metadata": {
        "id": "4FRtxWNDkBLn"
      },
      "source": [
        "### Задание 2.9.\n",
        "Реализуйте функцию add_weather_features(), которая принимает на вход две таблицы:\n",
        "* таблицу с данными о поездках;\n",
        "* таблицу с данными о погодных условиях на каждый час;\n",
        "\n",
        "и возвращает обновленную таблицу с данными о поездках с добавленными в нее 5 столбцами:\n",
        "* temperature - температура;\n",
        "* visibility - видимость;\n",
        "* wind speed - средняя скорость ветра;\n",
        "* precip - количество осадков;\n",
        "* events - погодные явления.\n",
        "\n",
        "а) Сколько поездок было совершено в снежную погоду?\n",
        "\n",
        "В результате объединения у вас должны получиться записи, для которых в столбцах temperature, visibility, wind speed, precip, и events будут пропуски. Это связано с тем, что в таблице с данными о погодных условиях отсутствуют измерения для некоторых моментов времени, в которых включался счетчик поездки.\n",
        "\n",
        "б) Сколько процентов от общего количества наблюдений в таблице с данными о поездках занимают пропуски в столбцах с погодными условиями? Ответ приведите с точностью до сотых процента.\n"
      ]
    },
    {
      "cell_type": "code",
      "execution_count": 125,
      "metadata": {
        "id": "PdgHJwQgkBLn"
      },
      "outputs": [],
      "source": [
        "weather_data = pd.read_csv('weather_data.csv')"
      ]
    },
    {
      "cell_type": "code",
      "execution_count": 126,
      "metadata": {
        "colab": {
          "base_uri": "https://localhost:8080/",
          "height": 206
        },
        "id": "ISdE0w0QEYTy",
        "outputId": "8c2ac8cb-3ea8-4734-e41a-a65d0af5b72e"
      },
      "outputs": [
        {
          "data": {
            "text/html": [
              "<div>\n",
              "<style scoped>\n",
              "    .dataframe tbody tr th:only-of-type {\n",
              "        vertical-align: middle;\n",
              "    }\n",
              "\n",
              "    .dataframe tbody tr th {\n",
              "        vertical-align: top;\n",
              "    }\n",
              "\n",
              "    .dataframe thead th {\n",
              "        text-align: right;\n",
              "    }\n",
              "</style>\n",
              "<table border=\"1\" class=\"dataframe\">\n",
              "  <thead>\n",
              "    <tr style=\"text-align: right;\">\n",
              "      <th></th>\n",
              "      <th>time</th>\n",
              "      <th>temperature</th>\n",
              "      <th>windchill</th>\n",
              "      <th>heat index</th>\n",
              "      <th>humidity</th>\n",
              "      <th>pressure</th>\n",
              "      <th>dew Point</th>\n",
              "      <th>visibility</th>\n",
              "      <th>wind dir</th>\n",
              "      <th>wind speed</th>\n",
              "      <th>gust speed</th>\n",
              "      <th>precip</th>\n",
              "      <th>events</th>\n",
              "      <th>conditions</th>\n",
              "      <th>date</th>\n",
              "      <th>hour</th>\n",
              "    </tr>\n",
              "  </thead>\n",
              "  <tbody>\n",
              "    <tr>\n",
              "      <th>0</th>\n",
              "      <td>2015-12-31 02:00:00</td>\n",
              "      <td>7.8</td>\n",
              "      <td>7.1</td>\n",
              "      <td>NaN</td>\n",
              "      <td>0.89</td>\n",
              "      <td>1017.0</td>\n",
              "      <td>6.1</td>\n",
              "      <td>8.0</td>\n",
              "      <td>NNE</td>\n",
              "      <td>5.6</td>\n",
              "      <td>0.0</td>\n",
              "      <td>0.8</td>\n",
              "      <td>None</td>\n",
              "      <td>Overcast</td>\n",
              "      <td>2015-12-31</td>\n",
              "      <td>2</td>\n",
              "    </tr>\n",
              "    <tr>\n",
              "      <th>1</th>\n",
              "      <td>2015-12-31 03:00:00</td>\n",
              "      <td>7.2</td>\n",
              "      <td>5.9</td>\n",
              "      <td>NaN</td>\n",
              "      <td>0.90</td>\n",
              "      <td>1016.5</td>\n",
              "      <td>5.6</td>\n",
              "      <td>12.9</td>\n",
              "      <td>Variable</td>\n",
              "      <td>7.4</td>\n",
              "      <td>0.0</td>\n",
              "      <td>0.3</td>\n",
              "      <td>None</td>\n",
              "      <td>Overcast</td>\n",
              "      <td>2015-12-31</td>\n",
              "      <td>3</td>\n",
              "    </tr>\n",
              "    <tr>\n",
              "      <th>2</th>\n",
              "      <td>2015-12-31 04:00:00</td>\n",
              "      <td>7.2</td>\n",
              "      <td>NaN</td>\n",
              "      <td>NaN</td>\n",
              "      <td>0.90</td>\n",
              "      <td>1016.7</td>\n",
              "      <td>5.6</td>\n",
              "      <td>12.9</td>\n",
              "      <td>Calm</td>\n",
              "      <td>0.0</td>\n",
              "      <td>0.0</td>\n",
              "      <td>0.0</td>\n",
              "      <td>None</td>\n",
              "      <td>Overcast</td>\n",
              "      <td>2015-12-31</td>\n",
              "      <td>4</td>\n",
              "    </tr>\n",
              "    <tr>\n",
              "      <th>3</th>\n",
              "      <td>2015-12-31 05:00:00</td>\n",
              "      <td>7.2</td>\n",
              "      <td>5.9</td>\n",
              "      <td>NaN</td>\n",
              "      <td>0.86</td>\n",
              "      <td>1015.9</td>\n",
              "      <td>5.0</td>\n",
              "      <td>14.5</td>\n",
              "      <td>NW</td>\n",
              "      <td>7.4</td>\n",
              "      <td>0.0</td>\n",
              "      <td>0.0</td>\n",
              "      <td>None</td>\n",
              "      <td>Overcast</td>\n",
              "      <td>2015-12-31</td>\n",
              "      <td>5</td>\n",
              "    </tr>\n",
              "    <tr>\n",
              "      <th>4</th>\n",
              "      <td>2015-12-31 06:00:00</td>\n",
              "      <td>7.2</td>\n",
              "      <td>6.4</td>\n",
              "      <td>NaN</td>\n",
              "      <td>0.90</td>\n",
              "      <td>1016.2</td>\n",
              "      <td>5.6</td>\n",
              "      <td>11.3</td>\n",
              "      <td>West</td>\n",
              "      <td>5.6</td>\n",
              "      <td>0.0</td>\n",
              "      <td>0.0</td>\n",
              "      <td>None</td>\n",
              "      <td>Overcast</td>\n",
              "      <td>2015-12-31</td>\n",
              "      <td>6</td>\n",
              "    </tr>\n",
              "  </tbody>\n",
              "</table>\n",
              "</div>"
            ],
            "text/plain": [
              "                  time  temperature  windchill  heat index  humidity  \\\n",
              "0  2015-12-31 02:00:00          7.8        7.1         NaN      0.89   \n",
              "1  2015-12-31 03:00:00          7.2        5.9         NaN      0.90   \n",
              "2  2015-12-31 04:00:00          7.2        NaN         NaN      0.90   \n",
              "3  2015-12-31 05:00:00          7.2        5.9         NaN      0.86   \n",
              "4  2015-12-31 06:00:00          7.2        6.4         NaN      0.90   \n",
              "\n",
              "   pressure  dew Point  visibility  wind dir  wind speed  gust speed  precip  \\\n",
              "0    1017.0        6.1         8.0       NNE         5.6         0.0     0.8   \n",
              "1    1016.5        5.6        12.9  Variable         7.4         0.0     0.3   \n",
              "2    1016.7        5.6        12.9      Calm         0.0         0.0     0.0   \n",
              "3    1015.9        5.0        14.5        NW         7.4         0.0     0.0   \n",
              "4    1016.2        5.6        11.3      West         5.6         0.0     0.0   \n",
              "\n",
              "  events conditions        date  hour  \n",
              "0   None   Overcast  2015-12-31     2  \n",
              "1   None   Overcast  2015-12-31     3  \n",
              "2   None   Overcast  2015-12-31     4  \n",
              "3   None   Overcast  2015-12-31     5  \n",
              "4   None   Overcast  2015-12-31     6  "
            ]
          },
          "execution_count": 126,
          "metadata": {},
          "output_type": "execute_result"
        }
      ],
      "source": [
        "weather_data.head()"
      ]
    },
    {
      "cell_type": "code",
      "execution_count": 127,
      "metadata": {
        "colab": {
          "base_uri": "https://localhost:8080/"
        },
        "id": "rFD-Grx9F7F-",
        "outputId": "d52648cd-ccd2-4c58-c093-ac9d73fbb54c"
      },
      "outputs": [
        {
          "data": {
            "text/plain": [
              "None    8332\n",
              "Rain     379\n",
              "Snow      74\n",
              "Fog        2\n",
              "Name: events, dtype: int64"
            ]
          },
          "execution_count": 127,
          "metadata": {},
          "output_type": "execute_result"
        }
      ],
      "source": [
        "weather_data['events'].value_counts()"
      ]
    },
    {
      "cell_type": "code",
      "execution_count": 128,
      "metadata": {
        "colab": {
          "base_uri": "https://localhost:8080/"
        },
        "id": "E9DTZbMcLLxA",
        "outputId": "d87b5f33-2eb8-42e3-f857-ba2c46db646e"
      },
      "outputs": [
        {
          "name": "stdout",
          "output_type": "stream",
          "text": [
            "<class 'pandas.core.frame.DataFrame'>\n",
            "RangeIndex: 8787 entries, 0 to 8786\n",
            "Data columns (total 16 columns):\n",
            " #   Column       Non-Null Count  Dtype  \n",
            "---  ------       --------------  -----  \n",
            " 0   time         8787 non-null   object \n",
            " 1   temperature  8787 non-null   float64\n",
            " 2   windchill    2295 non-null   float64\n",
            " 3   heat index   815 non-null    float64\n",
            " 4   humidity     8787 non-null   float64\n",
            " 5   pressure     8556 non-null   float64\n",
            " 6   dew Point    8787 non-null   float64\n",
            " 7   visibility   8787 non-null   float64\n",
            " 8   wind dir     8787 non-null   object \n",
            " 9   wind speed   8787 non-null   float64\n",
            " 10  gust speed   8787 non-null   float64\n",
            " 11  precip       8787 non-null   float64\n",
            " 12  events       8787 non-null   object \n",
            " 13  conditions   8787 non-null   object \n",
            " 14  date         8787 non-null   object \n",
            " 15  hour         8787 non-null   int64  \n",
            "dtypes: float64(10), int64(1), object(5)\n",
            "memory usage: 1.1+ MB\n"
          ]
        }
      ],
      "source": [
        "weather_data.info()"
      ]
    },
    {
      "cell_type": "code",
      "execution_count": 129,
      "metadata": {
        "id": "qYJIPH8tEYRQ"
      },
      "outputs": [],
      "source": [
        "def add_weather_features(data, weather_data):\n",
        "    # преобразуем столбец time в тип datetime и извлекаем дату и час\n",
        "    weather_data['time'] = pd.to_datetime(weather_data['time'])\n",
        "    weather_data['date'] = weather_data['time'].dt.date\n",
        "    weather_data['hour'] = weather_data['time'].dt.hour\n",
        "\n",
        "    # удаляем неинтересующие нас столбцы из dataframe weather_data\n",
        "    weather_data = weather_data[[ 'date', 'hour', 'temperature', 'visibility','wind speed', 'precip', 'events']]\n",
        "    #weather_data = weather_data.drop(['time', 'windchill', 'heat index', 'humidity', 'pressure', 'dew Point','wind dir'], axis=1)\n",
        "\n",
        "    # объединяем dataframe 'data' с weather_data по столбцам даты и часа\n",
        "    #data['pickup_datetime'] = pd.to_datetime(data['pickup_datetime'])\n",
        "    #data['pickup_date'] = data['pickup_datetime'].dt.date\n",
        "    #data['pickup_hour'] = data['pickup_datetime'].dt.hour\n",
        "    data = pd.merge(data, weather_data, left_on=['pickup_date', 'pickup_hour'], right_on=['date', 'hour'], how='left')\n",
        "\n",
        "    # удаляем столбцы date и hour\n",
        "    data = data.drop(['date', 'hour'], axis=1)\n",
        "\n",
        "    return data"
      ]
    },
    {
      "cell_type": "code",
      "execution_count": 130,
      "metadata": {
        "id": "8LBs5_l7K-N7"
      },
      "outputs": [],
      "source": [
        "data = add_weather_features(data, weather_data)"
      ]
    },
    {
      "cell_type": "code",
      "execution_count": 131,
      "metadata": {
        "colab": {
          "base_uri": "https://localhost:8080/"
        },
        "id": "zEr9pAE2LC-z",
        "outputId": "02dca6c5-83cd-4f01-b003-4ad17d36e7d7"
      },
      "outputs": [
        {
          "name": "stdout",
          "output_type": "stream",
          "text": [
            "<class 'pandas.core.frame.DataFrame'>\n",
            "Int64Index: 1458644 entries, 0 to 1458643\n",
            "Data columns (total 26 columns):\n",
            " #   Column              Non-Null Count    Dtype         \n",
            "---  ------              --------------    -----         \n",
            " 0   id                  1458644 non-null  object        \n",
            " 1   vendor_id           1458644 non-null  int64         \n",
            " 2   pickup_datetime     1458644 non-null  datetime64[ns]\n",
            " 3   dropoff_datetime    1458644 non-null  object        \n",
            " 4   passenger_count     1458644 non-null  int64         \n",
            " 5   pickup_longitude    1458644 non-null  float64       \n",
            " 6   pickup_latitude     1458644 non-null  float64       \n",
            " 7   dropoff_longitude   1458644 non-null  float64       \n",
            " 8   dropoff_latitude    1458644 non-null  float64       \n",
            " 9   store_and_fwd_flag  1458644 non-null  object        \n",
            " 10  trip_duration       1458644 non-null  int64         \n",
            " 11  pickup_date         1458644 non-null  object        \n",
            " 12  pickup_hour         1458644 non-null  int64         \n",
            " 13  pickup_day_of_week  1458644 non-null  object        \n",
            " 14  pickup_holiday      1458644 non-null  float64       \n",
            " 15  total_distance      1458643 non-null  float64       \n",
            " 16  total_travel_time   1458643 non-null  float64       \n",
            " 17  number_of_steps     1458643 non-null  float64       \n",
            " 18  haversine_distance  1458644 non-null  float64       \n",
            " 19  direction           1458644 non-null  float64       \n",
            " 20  geo_cluster         1458644 non-null  int32         \n",
            " 21  temperature         1446612 non-null  float64       \n",
            " 22  visibility          1446612 non-null  float64       \n",
            " 23  wind speed          1446612 non-null  float64       \n",
            " 24  precip              1446612 non-null  float64       \n",
            " 25  events              1446612 non-null  object        \n",
            "dtypes: datetime64[ns](1), float64(14), int32(1), int64(4), object(6)\n",
            "memory usage: 294.9+ MB\n"
          ]
        }
      ],
      "source": [
        "data.info()"
      ]
    },
    {
      "cell_type": "code",
      "execution_count": 132,
      "metadata": {
        "colab": {
          "base_uri": "https://localhost:8080/"
        },
        "id": "zXnIxNtGRYJm",
        "outputId": "07787040-cde5-4c69-bce9-4ae1e5d7ed3a"
      },
      "outputs": [
        {
          "data": {
            "text/plain": [
              "None    1375185\n",
              "Rain      58300\n",
              "Snow      13126\n",
              "Fog           1\n",
              "Name: events, dtype: int64"
            ]
          },
          "execution_count": 132,
          "metadata": {},
          "output_type": "execute_result"
        }
      ],
      "source": [
        "data['events'].value_counts()"
      ]
    },
    {
      "attachments": {},
      "cell_type": "markdown",
      "metadata": {
        "id": "ZG1VKhxf8BQC"
      },
      "source": [
        "Доля (в процентах) в общем количестве наблюдений в таблице с данными о поездках занимают пропуски в столбцах с погодными условиями"
      ]
    },
    {
      "cell_type": "code",
      "execution_count": 133,
      "metadata": {
        "colab": {
          "base_uri": "https://localhost:8080/"
        },
        "id": "ankUr9iFQ0sh",
        "outputId": "2c420425-5f5a-4343-f926-83571424ee48"
      },
      "outputs": [
        {
          "name": "stdout",
          "output_type": "stream",
          "text": [
            "0.8248757064780714\n"
          ]
        }
      ],
      "source": [
        "print((1458644-1446612)/1458644*100)"
      ]
    },
    {
      "attachments": {},
      "cell_type": "markdown",
      "metadata": {
        "id": "hwsluTQHkBLn"
      },
      "source": [
        "### Задание 2.10.\n",
        "Реализуйте функцию fill_null_weather_data(), которая принимает на вход которая принимает на вход таблицу с данными о поездках. Функция должна заполнять пропущенные значения в столбцах.\n",
        "\n",
        "Пропуски в столбцах с погодными условиями -  temperature, visibility, wind speed, precip заполните медианным значением температуры, влажности, скорости ветра и видимости в зависимости от даты начала поездки. Для этого сгруппируйте данные по столбцу pickup_date и рассчитайте медиану в каждой группе, после чего с помощью комбинации методов transform() и fillna() заполните пропуски.\n",
        "Пропуски в столбце events заполните строкой 'None' - символом отсутствия погодных явлений (снега/дождя/тумана).\n",
        "\n",
        "Пропуски в столбцах с информацией из OSRM API - total_distance, total_travel_time и number_of_steps заполните медианным значением по столбцам.\n",
        "\n",
        "Чему равна медиана в столбце temperature после заполнения пропусков? Ответ округлите до десятых.\n"
      ]
    },
    {
      "cell_type": "code",
      "execution_count": 135,
      "metadata": {
        "id": "PTA53QmRF9zi"
      },
      "outputs": [],
      "source": [
        "def fill_null_weather_data(data):\n",
        "    data['temperature'] = data['temperature'].fillna(\n",
        "        data.groupby('pickup_date')['temperature'].transform('median'))\n",
        "    data['visibility'] = data['visibility'].fillna(\n",
        "        data.groupby('pickup_date')['visibility'].transform('median'))\n",
        "    data['wind speed'] = data['wind speed'].fillna(\n",
        "        data.groupby('pickup_date')['wind speed'].transform('median'))\n",
        "    data['precip'] = data['precip'].fillna(\n",
        "        data.groupby('pickup_date')['precip'].transform('median'))\n",
        "\n",
        "    data.loc[(data['events'].isnull()==True),'events']= 'None'\n",
        "    data.loc[(data['total_distance'].isnull()==True),'total_distance']= data['total_distance'].median()\n",
        "    data.loc[(data['total_travel_time'].isnull()==True),'total_travel_time']= data['total_travel_time'].median()\n",
        "    data.loc[(data['number_of_steps'].isnull()==True),'number_of_steps']= data['number_of_steps'].median()\n",
        "\n",
        "    return data"
      ]
    },
    {
      "cell_type": "code",
      "execution_count": 136,
      "metadata": {
        "id": "JEM4F4LYqODJ"
      },
      "outputs": [],
      "source": [
        "data = fill_null_weather_data(data)"
      ]
    },
    {
      "cell_type": "code",
      "execution_count": 137,
      "metadata": {
        "colab": {
          "base_uri": "https://localhost:8080/"
        },
        "id": "snqozCJG5O2a",
        "outputId": "5db38bde-af2a-4034-d01f-3b014513b2b7"
      },
      "outputs": [
        {
          "data": {
            "text/plain": [
              "None    1387217\n",
              "Rain      58300\n",
              "Snow      13126\n",
              "Fog           1\n",
              "Name: events, dtype: int64"
            ]
          },
          "execution_count": 137,
          "metadata": {},
          "output_type": "execute_result"
        }
      ],
      "source": [
        "data['events'].value_counts()"
      ]
    },
    {
      "cell_type": "code",
      "execution_count": 138,
      "metadata": {
        "colab": {
          "base_uri": "https://localhost:8080/"
        },
        "id": "B1Nhj0eg24aZ",
        "outputId": "8efcc197-a410-46f6-a191-4429a2e4a011"
      },
      "outputs": [
        {
          "data": {
            "text/plain": [
              "11.1"
            ]
          },
          "execution_count": 138,
          "metadata": {},
          "output_type": "execute_result"
        }
      ],
      "source": [
        "data['temperature'].median()"
      ]
    },
    {
      "cell_type": "code",
      "execution_count": 139,
      "metadata": {
        "colab": {
          "base_uri": "https://localhost:8080/"
        },
        "id": "dYR4bgfpjQmj",
        "outputId": "effe59d1-caab-47d8-f0f6-66a25c600d73"
      },
      "outputs": [
        {
          "data": {
            "text/plain": [
              "id                    0\n",
              "vendor_id             0\n",
              "pickup_datetime       0\n",
              "dropoff_datetime      0\n",
              "passenger_count       0\n",
              "pickup_longitude      0\n",
              "pickup_latitude       0\n",
              "dropoff_longitude     0\n",
              "dropoff_latitude      0\n",
              "store_and_fwd_flag    0\n",
              "trip_duration         0\n",
              "pickup_date           0\n",
              "pickup_hour           0\n",
              "pickup_day_of_week    0\n",
              "pickup_holiday        0\n",
              "total_distance        0\n",
              "total_travel_time     0\n",
              "number_of_steps       0\n",
              "haversine_distance    0\n",
              "direction             0\n",
              "geo_cluster           0\n",
              "temperature           0\n",
              "visibility            0\n",
              "wind speed            0\n",
              "precip                0\n",
              "events                0\n",
              "dtype: int64"
            ]
          },
          "execution_count": 139,
          "metadata": {},
          "output_type": "execute_result"
        }
      ],
      "source": [
        "data.isnull().sum()"
      ]
    },
    {
      "cell_type": "code",
      "execution_count": 140,
      "metadata": {
        "colab": {
          "base_uri": "https://localhost:8080/"
        },
        "id": "9bBE7y62honb",
        "outputId": "4b046d03-68a2-4814-fa31-e7c09ede3b43"
      },
      "outputs": [
        {
          "name": "stdout",
          "output_type": "stream",
          "text": [
            "<class 'pandas.core.frame.DataFrame'>\n",
            "Int64Index: 1458644 entries, 0 to 1458643\n",
            "Data columns (total 26 columns):\n",
            " #   Column              Non-Null Count    Dtype         \n",
            "---  ------              --------------    -----         \n",
            " 0   id                  1458644 non-null  object        \n",
            " 1   vendor_id           1458644 non-null  int64         \n",
            " 2   pickup_datetime     1458644 non-null  datetime64[ns]\n",
            " 3   dropoff_datetime    1458644 non-null  object        \n",
            " 4   passenger_count     1458644 non-null  int64         \n",
            " 5   pickup_longitude    1458644 non-null  float64       \n",
            " 6   pickup_latitude     1458644 non-null  float64       \n",
            " 7   dropoff_longitude   1458644 non-null  float64       \n",
            " 8   dropoff_latitude    1458644 non-null  float64       \n",
            " 9   store_and_fwd_flag  1458644 non-null  object        \n",
            " 10  trip_duration       1458644 non-null  int64         \n",
            " 11  pickup_date         1458644 non-null  object        \n",
            " 12  pickup_hour         1458644 non-null  int64         \n",
            " 13  pickup_day_of_week  1458644 non-null  object        \n",
            " 14  pickup_holiday      1458644 non-null  float64       \n",
            " 15  total_distance      1458644 non-null  float64       \n",
            " 16  total_travel_time   1458644 non-null  float64       \n",
            " 17  number_of_steps     1458644 non-null  float64       \n",
            " 18  haversine_distance  1458644 non-null  float64       \n",
            " 19  direction           1458644 non-null  float64       \n",
            " 20  geo_cluster         1458644 non-null  int32         \n",
            " 21  temperature         1458644 non-null  float64       \n",
            " 22  visibility          1458644 non-null  float64       \n",
            " 23  wind speed          1458644 non-null  float64       \n",
            " 24  precip              1458644 non-null  float64       \n",
            " 25  events              1458644 non-null  object        \n",
            "dtypes: datetime64[ns](1), float64(14), int32(1), int64(4), object(6)\n",
            "memory usage: 294.9+ MB\n"
          ]
        }
      ],
      "source": [
        "data.info()"
      ]
    },
    {
      "attachments": {},
      "cell_type": "markdown",
      "metadata": {
        "id": "MahzwVDxkBLn"
      },
      "source": [
        "В завершение первой части найдем очевидные выбросы в целевой переменной - длительности поездки.\n",
        "\n",
        "Проще всего найти слишком продолжительные поездки. Давайте условимся, что выбросами будут считаться поездки, длительность которых превышает 24 часа.\n",
        "\n",
        "Чуть сложнее с анализом поездок, длительность которых слишком мала. Потому что к ним относятся действительно реальные поездки на короткие расстояния, поездки, которые были отменены через секунду после того как включился счетчик, а также “телепортации” - перемещение на большие расстояния за считанные секунды.\n",
        "Условимся, что мы будем считать выбросами только последнюю группу. Как же нам их обнаружить наиболее простым способом?\n",
        "\n",
        "Можно воспользоваться информацией о кратчайшем расстоянии, которое проезжает такси. Вычислить среднюю скорость автомобиля на кратчайшем пути следующим образом:\n",
        "$$avg\\_speed= \\frac{total\\_distance}{1000*trip\\_duration}*3600$$\n",
        "Если мы построим диаграмму рассеяния средней скорости движения автомобилей, мы увидим следующую картину:\n"
      ]
    },
    {
      "cell_type": "code",
      "execution_count": 141,
      "metadata": {
        "colab": {
          "base_uri": "https://localhost:8080/",
          "height": 465
        },
        "id": "Nnp1KatIkBLo",
        "outputId": "fd813d09-f48d-47e7-bc6e-2fddaf60ac46"
      },
      "outputs": [
        {
          "data": {
            "image/png": "[encoded data removed]",
            "text/plain": [
              "<Figure size 1000x500 with 1 Axes>"
            ]
          },
          "metadata": {},
          "output_type": "display_data"
        }
      ],
      "source": [
        "avg_speed = data['total_distance'] / data['trip_duration'] * 3.6\n",
        "fig, ax = plt.subplots(figsize=(10, 5))\n",
        "sns.scatterplot(x=avg_speed.index, y=avg_speed, ax=ax)\n",
        "ax.set_xlabel('Index')\n",
        "ax.set_ylabel('Average speed');"
      ]
    },
    {
      "attachments": {},
      "cell_type": "markdown",
      "metadata": {
        "id": "BGxXxv7LkBLo"
      },
      "source": [
        "Как раз отсюда мы видим, что у нас есть “поездки-телепортации”, для которых средняя скорость более 1000 км/ч. Даже есть такая, средняя скорость которой составляла более 12000 км/ч!\n",
        "\n",
        "Давайте условимся, что предельная средняя скорость, которую могут развивать таксисты будет 300 км/ч.\n"
      ]
    },
    {
      "attachments": {},
      "cell_type": "markdown",
      "metadata": {
        "id": "sSWHdHNWkBLo"
      },
      "source": [
        "### Задание 2.11.\n",
        "Найдите поездки, длительность которых превышает 24 часа. И удалите их из набора данных.\n",
        "\n",
        "а) Сколько выбросов по признаку длительности поездки вам удалось найти?\n",
        "\n",
        "Найдите поездки, средняя скорость которых по кратчайшему пути превышает 300 км/ч и удалите их из данных.\n",
        "\n",
        "б) Сколько выбросов по признаку скорости вам удалось найти?"
      ]
    },
    {
      "cell_type": "code",
      "execution_count": 142,
      "metadata": {
        "colab": {
          "base_uri": "https://localhost:8080/"
        },
        "id": "1NtPMv7aHPCF",
        "outputId": "87ad2d1b-9c09-410f-ee15-644f67207556"
      },
      "outputs": [
        {
          "data": {
            "text/plain": [
              "id                    4\n",
              "vendor_id             4\n",
              "pickup_datetime       4\n",
              "dropoff_datetime      4\n",
              "passenger_count       4\n",
              "pickup_longitude      4\n",
              "pickup_latitude       4\n",
              "dropoff_longitude     4\n",
              "dropoff_latitude      4\n",
              "store_and_fwd_flag    4\n",
              "trip_duration         4\n",
              "pickup_date           4\n",
              "pickup_hour           4\n",
              "pickup_day_of_week    4\n",
              "pickup_holiday        4\n",
              "total_distance        4\n",
              "total_travel_time     4\n",
              "number_of_steps       4\n",
              "haversine_distance    4\n",
              "direction             4\n",
              "geo_cluster           4\n",
              "temperature           4\n",
              "visibility            4\n",
              "wind speed            4\n",
              "precip                4\n",
              "events                4\n",
              "dtype: int64"
            ]
          },
          "execution_count": 142,
          "metadata": {},
          "output_type": "execute_result"
        }
      ],
      "source": [
        "data[data['trip_duration'] > 86400].count()   #количество выбросов выше 24 часов"
      ]
    },
    {
      "cell_type": "code",
      "execution_count": 143,
      "metadata": {
        "id": "2bbfhF2FeUsS"
      },
      "outputs": [],
      "source": [
        "#отфильтруем данные по продолжительности менее 24 часов\n",
        "data = data[data['trip_duration'] < 86400]"
      ]
    },
    {
      "cell_type": "code",
      "execution_count": 144,
      "metadata": {
        "colab": {
          "base_uri": "https://localhost:8080/"
        },
        "id": "xZm2z4L0d1EY",
        "outputId": "c5ecdf1a-976d-4006-b4d9-9843ae2a8649"
      },
      "outputs": [
        {
          "name": "stdout",
          "output_type": "stream",
          "text": [
            "<class 'pandas.core.frame.DataFrame'>\n",
            "Int64Index: 1458640 entries, 0 to 1458643\n",
            "Data columns (total 26 columns):\n",
            " #   Column              Non-Null Count    Dtype         \n",
            "---  ------              --------------    -----         \n",
            " 0   id                  1458640 non-null  object        \n",
            " 1   vendor_id           1458640 non-null  int64         \n",
            " 2   pickup_datetime     1458640 non-null  datetime64[ns]\n",
            " 3   dropoff_datetime    1458640 non-null  object        \n",
            " 4   passenger_count     1458640 non-null  int64         \n",
            " 5   pickup_longitude    1458640 non-null  float64       \n",
            " 6   pickup_latitude     1458640 non-null  float64       \n",
            " 7   dropoff_longitude   1458640 non-null  float64       \n",
            " 8   dropoff_latitude    1458640 non-null  float64       \n",
            " 9   store_and_fwd_flag  1458640 non-null  object        \n",
            " 10  trip_duration       1458640 non-null  int64         \n",
            " 11  pickup_date         1458640 non-null  object        \n",
            " 12  pickup_hour         1458640 non-null  int64         \n",
            " 13  pickup_day_of_week  1458640 non-null  object        \n",
            " 14  pickup_holiday      1458640 non-null  float64       \n",
            " 15  total_distance      1458640 non-null  float64       \n",
            " 16  total_travel_time   1458640 non-null  float64       \n",
            " 17  number_of_steps     1458640 non-null  float64       \n",
            " 18  haversine_distance  1458640 non-null  float64       \n",
            " 19  direction           1458640 non-null  float64       \n",
            " 20  geo_cluster         1458640 non-null  int32         \n",
            " 21  temperature         1458640 non-null  float64       \n",
            " 22  visibility          1458640 non-null  float64       \n",
            " 23  wind speed          1458640 non-null  float64       \n",
            " 24  precip              1458640 non-null  float64       \n",
            " 25  events              1458640 non-null  object        \n",
            "dtypes: datetime64[ns](1), float64(14), int32(1), int64(4), object(6)\n",
            "memory usage: 294.9+ MB\n"
          ]
        }
      ],
      "source": [
        "data.info()"
      ]
    },
    {
      "cell_type": "code",
      "execution_count": 145,
      "metadata": {
        "id": "JfZEg4zrd0_e"
      },
      "outputs": [],
      "source": [
        "data['avg_speed'] =  avg_speed"
      ]
    },
    {
      "cell_type": "code",
      "execution_count": 146,
      "metadata": {
        "id": "5ATVQ9hzOg0C"
      },
      "outputs": [],
      "source": [
        "#отфильтруем данные по ср.скорости менее 300 км/ч\n",
        "data = data[data['avg_speed'] < 300]\n",
        "data = data.drop(columns=['avg_speed'])   ##"
      ]
    },
    {
      "cell_type": "code",
      "execution_count": 147,
      "metadata": {
        "colab": {
          "base_uri": "https://localhost:8080/"
        },
        "id": "lP4MebRkO7vX",
        "outputId": "b71d6d6f-ce37-46be-ddb6-2ac552b31b5d"
      },
      "outputs": [
        {
          "name": "stdout",
          "output_type": "stream",
          "text": [
            "<class 'pandas.core.frame.DataFrame'>\n",
            "Int64Index: 1458233 entries, 0 to 1458643\n",
            "Data columns (total 26 columns):\n",
            " #   Column              Non-Null Count    Dtype         \n",
            "---  ------              --------------    -----         \n",
            " 0   id                  1458233 non-null  object        \n",
            " 1   vendor_id           1458233 non-null  int64         \n",
            " 2   pickup_datetime     1458233 non-null  datetime64[ns]\n",
            " 3   dropoff_datetime    1458233 non-null  object        \n",
            " 4   passenger_count     1458233 non-null  int64         \n",
            " 5   pickup_longitude    1458233 non-null  float64       \n",
            " 6   pickup_latitude     1458233 non-null  float64       \n",
            " 7   dropoff_longitude   1458233 non-null  float64       \n",
            " 8   dropoff_latitude    1458233 non-null  float64       \n",
            " 9   store_and_fwd_flag  1458233 non-null  object        \n",
            " 10  trip_duration       1458233 non-null  int64         \n",
            " 11  pickup_date         1458233 non-null  object        \n",
            " 12  pickup_hour         1458233 non-null  int64         \n",
            " 13  pickup_day_of_week  1458233 non-null  object        \n",
            " 14  pickup_holiday      1458233 non-null  float64       \n",
            " 15  total_distance      1458233 non-null  float64       \n",
            " 16  total_travel_time   1458233 non-null  float64       \n",
            " 17  number_of_steps     1458233 non-null  float64       \n",
            " 18  haversine_distance  1458233 non-null  float64       \n",
            " 19  direction           1458233 non-null  float64       \n",
            " 20  geo_cluster         1458233 non-null  int32         \n",
            " 21  temperature         1458233 non-null  float64       \n",
            " 22  visibility          1458233 non-null  float64       \n",
            " 23  wind speed          1458233 non-null  float64       \n",
            " 24  precip              1458233 non-null  float64       \n",
            " 25  events              1458233 non-null  object        \n",
            "dtypes: datetime64[ns](1), float64(14), int32(1), int64(4), object(6)\n",
            "memory usage: 294.8+ MB\n"
          ]
        }
      ],
      "source": [
        "data.info()"
      ]
    },
    {
      "attachments": {},
      "cell_type": "markdown",
      "metadata": {
        "id": "pEEXbpTfkBLo"
      },
      "source": [
        "## 3. Разведывательный анализ данных (EDA)"
      ]
    },
    {
      "attachments": {},
      "cell_type": "markdown",
      "metadata": {
        "id": "59de6wa-kBLo"
      },
      "source": [
        "В этой части нашего проекта мы с вами:\n",
        "* Исследуем сформированный набор данных;\n",
        "* Попробуем найти закономерности, позволяющие сформулировать предварительные гипотезы относительно того, какие факторы являются решающими в определении длительности поездки;\n",
        "* Дополним наш анализ визуализациями, иллюстрирующими; исследование. Постарайтесь оформлять диаграммы с душой, а не «для галочки»: навыки визуализации полученных выводов обязательно пригодятся вам в будущем.\n"
      ]
    },
    {
      "attachments": {},
      "cell_type": "markdown",
      "metadata": {
        "id": "d-8PQtqRkBLo"
      },
      "source": [
        "Начинаем с целевого признака. Забегая вперед, скажем, что основной метрикой качества решения поставленной задачи будет RMSLE - Root Mean Squared Log Error, которая вычисляется на основе целевой переменной в логарифмическом масштабе. В таком случае целесообразно сразу логарифмировать признак длительности поездки и рассматривать при анализе логарифм в качестве целевого признака:\n",
        "$$trip\\_duration\\_log = log(trip\\_duration+1),$$\n",
        "где под символом log подразумевается натуральный логарифм.\n"
      ]
    },
    {
      "cell_type": "code",
      "execution_count": 148,
      "metadata": {
        "id": "y59BwN3MkBLp"
      },
      "outputs": [],
      "source": [
        "data['trip_duration_log'] = np.log(data['trip_duration']+1)"
      ]
    },
    {
      "attachments": {},
      "cell_type": "markdown",
      "metadata": {
        "id": "OoqAWXLLkBLp"
      },
      "source": [
        "### Задание 3.1.\n",
        "Постройте гистограмму и коробчатую диаграмму длительности поездок в логарифмическом масштабе (trip_duration_log).\n",
        "Исходя из визуализации, сделайте предположение, является ли полученное распределение нормальным?\n",
        "Проверьте свою гипотезу с помощью теста Д’Агостино при уровне значимости $\\alpha=0.05$.\n",
        "\n",
        "а) Чему равен вычисленный p-value? Ответ округлите до сотых.\n",
        "\n",
        "б) Является ли распределение длительности поездок в логарифмическом масштабе нормальным?"
      ]
    },
    {
      "cell_type": "code",
      "execution_count": 150,
      "metadata": {
        "colab": {
          "base_uri": "https://localhost:8080/",
          "height": 472
        },
        "id": "xRflxqT8Xz6d",
        "outputId": "9820469e-a450-4cad-de5b-525177ea37d3"
      },
      "outputs": [
        {
          "data": {
            "image/png": "[encoded data removed]",
            "text/plain": [
              "<Figure size 640x480 with 1 Axes>"
            ]
          },
          "metadata": {},
          "output_type": "display_data"
        }
      ],
      "source": [
        "# построение гистограммы\n",
        "plt.hist(data[\"trip_duration_log\"], bins=100)\n",
        "plt.title(\"Гистограмма длительности поездок в логарифмическом масштабе\")\n",
        "plt.xlabel(\"Логарифм длительности поездки\")\n",
        "plt.ylabel(\"Количество поездок\")\n",
        "plt.show()"
      ]
    },
    {
      "cell_type": "code",
      "execution_count": 151,
      "metadata": {
        "colab": {
          "base_uri": "https://localhost:8080/",
          "height": 452
        },
        "id": "kH6sjqRrXz4W",
        "outputId": "712d22e0-19ec-4f94-a416-3f85684cb32f"
      },
      "outputs": [
        {
          "data": {
            "image/png": "[encoded data removed]",
            "text/plain": [
              "<Figure size 640x480 with 1 Axes>"
            ]
          },
          "metadata": {},
          "output_type": "display_data"
        }
      ],
      "source": [
        "# построение коробчатой диаграммы\n",
        "plt.boxplot(data[\"trip_duration_log\"])\n",
        "plt.title(\"Коробчатая диаграмма длительности поездок в логарифмическом масштабе\")\n",
        "plt.ylabel(\"Логарифм длительности поездки\")\n",
        "plt.show()"
      ]
    },
    {
      "cell_type": "code",
      "execution_count": 152,
      "metadata": {
        "colab": {
          "base_uri": "https://localhost:8080/"
        },
        "id": "yA885DRLXz1n",
        "outputId": "7c138496-5edc-4e6c-8b62-39a3e6457ad4"
      },
      "outputs": [
        {
          "name": "stdout",
          "output_type": "stream",
          "text": [
            "Нулевая гипотеза отвергается, распределение не является нормальным\n"
          ]
        }
      ],
      "source": [
        "# тест Д’Агостино на нормальность распределения\n",
        "stat, p = normaltest(data[\"trip_duration_log\"])\n",
        "alpha = 0.05\n",
        "if p < alpha:\n",
        "    print(\"Нулевая гипотеза отвергается, распределение не является нормальным\")\n",
        "else:\n",
        "    print(\"Нулевая гипотеза не отвергается, распределение может быть нормальным\")"
      ]
    },
    {
      "cell_type": "code",
      "execution_count": 153,
      "metadata": {
        "colab": {
          "base_uri": "https://localhost:8080/"
        },
        "id": "TJModZcaXzwj",
        "outputId": "1446c115-5b7a-4954-bbe1-8ee8d4addc67"
      },
      "outputs": [
        {
          "name": "stdout",
          "output_type": "stream",
          "text": [
            "p-value = 0.0\n"
          ]
        }
      ],
      "source": [
        "#Чему равен вычисленный p-value?\n",
        "print(\"p-value =\", p)"
      ]
    },
    {
      "attachments": {},
      "cell_type": "markdown",
      "metadata": {
        "id": "teZmcjlIkBLp"
      },
      "source": [
        "### Задание 3.2.\n",
        "Постройте визуализацию, которая позволит сравнить распределение длительности поездки в логарифмическом масштабе (trip_duration_log) в зависимости от таксопарка (vendor_id).\n",
        "\n",
        "Сравните два распределения между собой."
      ]
    },
    {
      "cell_type": "code",
      "execution_count": 154,
      "metadata": {
        "colab": {
          "base_uri": "https://localhost:8080/",
          "height": 472
        },
        "id": "ZohZgkjBcSLt",
        "outputId": "3b17d1e0-51e6-4df3-8252-a612187eb32e"
      },
      "outputs": [
        {
          "data": {
            "image/png": "[encoded data removed]",
            "text/plain": [
              "<Figure size 640x480 with 1 Axes>"
            ]
          },
          "metadata": {},
          "output_type": "display_data"
        }
      ],
      "source": [
        "data.groupby(\"vendor_id\")[\"trip_duration_log\"].plot(kind=\"hist\", bins=100, alpha=0.5, legend=True)\n",
        "\n",
        "# настройка графика\n",
        "plt.title(\"Сравнение распределения длительности поездок в логарифмическом масштабе по таксопаркам\")\n",
        "plt.xlabel(\"Логарифм длительности поездки\")\n",
        "plt.ylabel(\"Количество поездок\")\n",
        "plt.legend([\"Таксопарк 1\", \"Таксопарк 2\"])\n",
        "plt.show()"
      ]
    },
    {
      "cell_type": "code",
      "execution_count": 155,
      "metadata": {
        "id": "t2eOXkyScSIy"
      },
      "outputs": [],
      "source": [
        "#Распределения в группах практически не отличаются,\n",
        "#признак vendor_id не имеет значения при определении длительности поездки."
      ]
    },
    {
      "attachments": {},
      "cell_type": "markdown",
      "metadata": {
        "id": "Gq7d2zjjkBLp"
      },
      "source": [
        "### Задание 3.3.\n",
        "Постройте визуализацию, которая позволит сравнить распределение длительности поездки в логарифмическом масштабе (trip_duration_log) в зависимости от признака отправки сообщения поставщику (store_and_fwd_flag).\n",
        "\n",
        "Сравните два распределения между собой."
      ]
    },
    {
      "cell_type": "code",
      "execution_count": 157,
      "metadata": {
        "colab": {
          "base_uri": "https://localhost:8080/",
          "height": 472
        },
        "id": "f2j8bipqerey",
        "outputId": "b96e291d-30c5-484c-b213-db573e4639c4"
      },
      "outputs": [
        {
          "data": {
            "image/png": "[encoded data removed]",
            "text/plain": [
              "<Figure size 640x480 with 1 Axes>"
            ]
          },
          "metadata": {},
          "output_type": "display_data"
        }
      ],
      "source": [
        "# построение гистограммы для каждого значения признака\n",
        "data.groupby(\"store_and_fwd_flag\")[\"trip_duration_log\"].plot(kind=\"hist\", bins=100, alpha=0.5, legend=True)\n",
        "\n",
        "# настройка графика\n",
        "plt.title(\"Сравнение распределения длительности поездок в логарифмическом масштабе по признаку отправки сообщения поставщику\")\n",
        "plt.xlabel(\"Логарифм длительности поездки\")\n",
        "plt.ylabel(\"Количество поездок\")\n",
        "plt.legend([\"Не отправлялось\", \"Отправлялось\"])\n",
        "plt.show()"
      ]
    },
    {
      "cell_type": "code",
      "execution_count": 158,
      "metadata": {
        "id": "GPGV4Y8QfQqK"
      },
      "outputs": [],
      "source": [
        "#Распределения в группах значительно отличаются,\n",
        "#признак store_and_fwd_flag имеет значение при определении длительности поездки."
      ]
    },
    {
      "attachments": {},
      "cell_type": "markdown",
      "metadata": {
        "id": "ThgfBISekBLp"
      },
      "source": [
        "### Задание 3.4.\n",
        "Постройте две визуализации:\n",
        "* Распределение количества поездок в зависимости от часа дня;\n",
        "* Зависимость медианной длительности поездки от часа дня.\n",
        "\n",
        "На основе построенных графиков ответьте на следующие вопросы:\n",
        "\n",
        "а) В какое время суток такси заказывают реже всего?\n",
        "\n",
        "б) В какое время суток наблюдается пик медианной длительности поездок?"
      ]
    },
    {
      "cell_type": "code",
      "execution_count": 160,
      "metadata": {
        "colab": {
          "base_uri": "https://localhost:8080/",
          "height": 487
        },
        "id": "i7OV26D_glBO",
        "outputId": "a192ffce-ea3a-48d9-a0a4-6e7c24e63028"
      },
      "outputs": [
        {
          "data": {
            "image/png": "[encoded data removed]",
            "text/plain": [
              "<Figure size 1000x500 with 1 Axes>"
            ]
          },
          "metadata": {},
          "output_type": "display_data"
        }
      ],
      "source": [
        "# создание графика распределения количества поездок в зависимости от часа дня\n",
        "plt.figure(figsize=(10,5))\n",
        "data.groupby(\"pickup_hour\")[\"id\"].count().plot(kind=\"bar\",  rot=0)\n",
        "plt.title(\"Распределения количества поездок в зависимости от часа дня\")\n",
        "plt.xlabel(\"Час дня\")\n",
        "plt.ylabel(\"Количество поездок\")\n",
        "plt.show()\n",
        "\n",
        "#такси заказывают реже всего с 00:00 по 5:00"
      ]
    },
    {
      "cell_type": "code",
      "execution_count": 161,
      "metadata": {
        "colab": {
          "base_uri": "https://localhost:8080/",
          "height": 487
        },
        "id": "P7JmMsKxgk-b",
        "outputId": "b6519780-983d-4281-9f99-3da9194acf57"
      },
      "outputs": [
        {
          "data": {
            "image/png": "[encoded data removed]",
            "text/plain": [
              "<Figure size 1000x500 with 1 Axes>"
            ]
          },
          "metadata": {},
          "output_type": "display_data"
        }
      ],
      "source": [
        "# создание графика зависимости медианной длительности поездки от часа дня\n",
        "plt.figure(figsize=(10,5))\n",
        "data.groupby(\"pickup_hour\")[\"trip_duration\"].median().plot(kind=\"line\")\n",
        "plt.title(\"Зависимость медианной длительности поездки от часа дня\")\n",
        "plt.xlabel(\"Час дня\")\n",
        "plt.ylabel(\"Медианная длительность поездки (сек.)\")\n",
        "plt.show()\n",
        "\n",
        "#время суток наблюдается пик медианной длительности поездок с 13:00 по 18:00"
      ]
    },
    {
      "attachments": {},
      "cell_type": "markdown",
      "metadata": {
        "id": "GmHyGkbzkBLq"
      },
      "source": [
        "### Задание 3.5.\n",
        "Постройте две визуализации:\n",
        "* Распределение количества поездок в зависимости от дня недели;\n",
        "*  Зависимость медианной длительности поездки от дня недели.\n",
        "\n",
        "На основе построенных графиков ответьте на следующие вопросы:\n",
        "а) В какой день недели совершается больше всего поездок?\n",
        "б) В какой день недели медианная длительность поездок наименьшая?\n"
      ]
    },
    {
      "cell_type": "code",
      "execution_count": 163,
      "metadata": {
        "colab": {
          "base_uri": "https://localhost:8080/",
          "height": 487
        },
        "id": "i2EVIvYjjPeu",
        "outputId": "8d5f71d3-40ef-4701-e21e-39626a707173"
      },
      "outputs": [
        {
          "data": {
            "image/png": "[encoded data removed]",
            "text/plain": [
              "<Figure size 1000x500 with 1 Axes>"
            ]
          },
          "metadata": {},
          "output_type": "display_data"
        }
      ],
      "source": [
        "# создание графика распределения количества поездок в зависимости от дня недели\n",
        "plt.figure(figsize=(10,5))\n",
        "data.groupby(\"pickup_day_of_week\")[\"id\"].count().reindex(['Monday', 'Tuesday', 'Wednesday', 'Thursday', 'Friday', 'Saturday', 'Sunday']).plot(kind=\"bar\",  rot=0)\n",
        "plt.title(\"Распределение количества поездок в зависимости от дня недели\")\n",
        "plt.xlabel(\"День недели\")\n",
        "plt.ylabel(\"Количество поездок\")\n",
        "plt.show()"
      ]
    },
    {
      "cell_type": "code",
      "execution_count": 164,
      "metadata": {
        "colab": {
          "base_uri": "https://localhost:8080/",
          "height": 487
        },
        "id": "MaEzj1K1jPRw",
        "outputId": "1a5b5a3a-28cc-41e7-dfe9-5178ac337088"
      },
      "outputs": [
        {
          "data": {
            "image/png": "[encoded data removed]",
            "text/plain": [
              "<Figure size 1000x500 with 1 Axes>"
            ]
          },
          "metadata": {},
          "output_type": "display_data"
        }
      ],
      "source": [
        "# создание графика зависимости медианной длительности поездки от дня недели\n",
        "plt.figure(figsize=(10,5))\n",
        "#data.groupby(\"pickup_day_of_week\")[\"trip_duration\"].median().plot(kind=\"line\")\n",
        "data.groupby(\"pickup_day_of_week\")[\"trip_duration\"].median().reindex(['Monday', 'Tuesday', 'Wednesday', 'Thursday', 'Friday', 'Saturday', 'Sunday']).plot(kind=\"line\")\n",
        "plt.title(\"Зависимость медианной длительности поездки от дня недели\")\n",
        "plt.xlabel(\"День недели\")\n",
        "plt.ylabel(\"Медианная длительность поездки (сек.)\")\n",
        "plt.show()"
      ]
    },
    {
      "attachments": {},
      "cell_type": "markdown",
      "metadata": {
        "id": "KSRSS4tekBLq"
      },
      "source": [
        "### Задание 3.6.\n",
        "Посмотрим на обе временные характеристики одновременно.\n",
        "\n",
        "Постройте сводную таблицу, по строкам которой отложены часы (pickup_hour), по столбцам - дни недели (pickup_day_of_week), а в ячейках - медианная длительность поездки (trip_duration).\n",
        "\n",
        "Визуализируйте полученную сводную таблицу с помощью тепловой карты (рекомендуемая палитра - coolwarm)."
      ]
    },
    {
      "cell_type": "code",
      "execution_count": 166,
      "metadata": {
        "colab": {
          "base_uri": "https://localhost:8080/",
          "height": 105
        },
        "id": "RPjLtANnl8dG",
        "outputId": "62e3aac6-0988-4c9a-8fd5-10d8d2a43335"
      },
      "outputs": [
        {
          "data": {
            "text/plain": [
              "'# создание сводной таблицы\\npivot_table = pd.pivot_table(data, values=\"trip_duration\", index=\"pickup_hour\", columns=\"pickup_day_of_week\", aggfunc=\"median\")\\n\\n# сортировка дней недели в сводной таблице\\npivot_table = pivot_table.reindex(columns=[\"Monday\", \"Tuesday\", \"Wednesday\", \"Thursday\", \"Friday\", \"Saturday\", \"Sunday\"])\\n\\n# построение тепловой карты\\nplt.figure(figsize=(10,5))\\nsns.heatmap(pivot_table, cmap=\"coolwarm\")\\nplt.title(\"Медианная длительность поездки в зависимости от дня недели и часа вызова такси\")\\nplt.xlabel(\"День недели\")\\nplt.ylabel(\"Час вызова такси\")\\nplt.show()\\n\\n#A Самые продолжительные поездки (в медианном смысле) наблюдаются с понедельника по пятницу в промежутке с 8 до 18 часов.\\n#B Наибольшая медианная длительность поездки наблюдалась в четверг в 14 часов дня.\\n'"
            ]
          },
          "execution_count": 166,
          "metadata": {},
          "output_type": "execute_result"
        }
      ],
      "source": [
        "'''# создание сводной таблицы\n",
        "pivot_table = pd.pivot_table(data, values=\"trip_duration\", index=\"pickup_hour\", columns=\"pickup_day_of_week\", aggfunc=\"median\")\n",
        "\n",
        "# сортировка дней недели в сводной таблице\n",
        "pivot_table = pivot_table.reindex(columns=[\"Monday\", \"Tuesday\", \"Wednesday\", \"Thursday\", \"Friday\", \"Saturday\", \"Sunday\"])\n",
        "\n",
        "# построение тепловой карты\n",
        "plt.figure(figsize=(10,5))\n",
        "sns.heatmap(pivot_table, cmap=\"coolwarm\")\n",
        "plt.title(\"Медианная длительность поездки в зависимости от дня недели и часа вызова такси\")\n",
        "plt.xlabel(\"День недели\")\n",
        "plt.ylabel(\"Час вызова такси\")\n",
        "plt.show()\n",
        "\n",
        "#A Самые продолжительные поездки (в медианном смысле) наблюдаются с понедельника по пятницу в промежутке с 8 до 18 часов.\n",
        "#B Наибольшая медианная длительность поездки наблюдалась в четверг в 14 часов дня.\n",
        "'''"
      ]
    },
    {
      "attachments": {},
      "cell_type": "markdown",
      "metadata": {
        "id": "E5P2WBT6kBLq"
      },
      "source": [
        "### Задание 3.7.\n",
        "Постройте две диаграммы рассеяния (scatter-диаграммы):\n",
        "* первая должна иллюстрировать географическое расположение точек начала поездок (pickup_longitude, pickup_latitude)\n",
        "* вторая должна географическое расположение точек завершения поездок (dropoff_longitude, dropoff_latitude).\n",
        "\n",
        "Для этого на диаграммах по оси абсцисс отложите широту (longitude), а по оси ординат - долготу (latitude).\n",
        "Включите в визуализацию только те точки, которые находятся в пределах Нью-Йорка - добавьте следующие ограничения на границы осей абсцисс и ординат:\n",
        "\n",
        "city_long_border = (-74.03, -73.75)\n",
        "\n",
        "city_lat_border = (40.63, 40.85)\n",
        "\n",
        "Добавьте на диаграммы расцветку по десяти географическим кластерам (geo_cluster), которые мы сгенерировали ранее.\n",
        "\n",
        "**Рекомендация:** для наглядности уменьшите размер точек на диаграмме рассеяния.\n"
      ]
    },
    {
      "cell_type": "code",
      "execution_count": 167,
      "metadata": {
        "colab": {
          "base_uri": "https://localhost:8080/",
          "height": 122
        },
        "id": "hykQA9ZaGnJY",
        "outputId": "13c1cdcb-ce88-4ec6-d3a9-75cdcf05143c"
      },
      "outputs": [
        {
          "data": {
            "text/plain": [
              "\"# ваш код здесь\\n# Определим границы города Нью-Йорк\\ncity_long_border = (-74.03, -73.75)\\ncity_lat_border = (40.63, 40.85)\\n\\n# Определим размер точек на диаграмме рассеяния\\npoint_size = 0.1\\n\\n# Создадим две scatter-диаграммы\\nfig, ax = plt.subplots(ncols=2, figsize=(12, 4))\\n\\n# Диаграмма 1: начало поездок\\npickup_data = data.loc[(data['pickup_longitude'] >= city_long_border[0]) & (data['pickup_longitude'] <= city_long_border[1]) & (data['pickup_latitude'] >= city_lat_border[0]) & (data['pickup_latitude'] <= city_lat_border[1])]\\nax[0].scatter(pickup_data['pickup_longitude'], pickup_data['pickup_latitude'], s=point_size, c=pickup_data['geo_cluster'], cmap='tab10')\\nax[0].set_title('Расположение точек начала поездок')\\n\\n# Диаграмма 2: конец поездок\\ndropoff_data = data.loc[(data['dropoff_longitude'] >= city_long_border[0]) & (data['dropoff_longitude'] <= city_long_border[1]) & (data['dropoff_latitude'] >= city_lat_border[0]) & (data['dropoff_latitude'] <= city_lat_border[1])]\\nax[1].scatter(dropoff_data['dropoff_longitude'], dropoff_data['dropoff_latitude'], s=point_size, c=dropoff_data['geo_cluster'], cmap='tab10')\\nax[1].set_title('Расположение точек завершения поездок')\\n\\n# Установим границы осей абсцисс и ординат\\nax[0].set_xlim(city_long_border)\\nax[0].set_ylim(city_lat_border)\\nax[1].set_xlim(city_long_border)\\nax[1].set_ylim(city_lat_border)\\n\\n# Добавим метки осей и заголовок\\nfig.suptitle('Расположение точек начала и завершения поездок')\\nax[0].set_xlabel('Longitude')\\nax[0].set_ylabel('Latitude')\\nax[1].set_xlabel('Longitude')\\nax[1].set_ylabel('Latitude')\\n\\n# Отобразим диаграммы\\nplt.show()\\n\""
            ]
          },
          "execution_count": 167,
          "metadata": {},
          "output_type": "execute_result"
        }
      ],
      "source": [
        "'''\n",
        "# Определим границы города Нью-Йорк\n",
        "city_long_border = (-74.03, -73.75)\n",
        "city_lat_border = (40.63, 40.85)\n",
        "\n",
        "# Определим размер точек на диаграмме рассеяния\n",
        "point_size = 0.1\n",
        "\n",
        "# Создадим две scatter-диаграммы\n",
        "fig, ax = plt.subplots(ncols=2, figsize=(12, 4))\n",
        "\n",
        "# Диаграмма 1: начало поездок\n",
        "pickup_data = data.loc[(data['pickup_longitude'] >= city_long_border[0]) & (data['pickup_longitude'] <= city_long_border[1]) & (data['pickup_latitude'] >= city_lat_border[0]) & (data['pickup_latitude'] <= city_lat_border[1])]\n",
        "ax[0].scatter(pickup_data['pickup_longitude'], pickup_data['pickup_latitude'], s=point_size, c=pickup_data['geo_cluster'], cmap='tab10')\n",
        "ax[0].set_title('Расположение точек начала поездок')\n",
        "\n",
        "# Диаграмма 2: конец поездок\n",
        "dropoff_data = data.loc[(data['dropoff_longitude'] >= city_long_border[0]) & (data['dropoff_longitude'] <= city_long_border[1]) & (data['dropoff_latitude'] >= city_lat_border[0]) & (data['dropoff_latitude'] <= city_lat_border[1])]\n",
        "ax[1].scatter(dropoff_data['dropoff_longitude'], dropoff_data['dropoff_latitude'], s=point_size, c=dropoff_data['geo_cluster'], cmap='tab10')\n",
        "ax[1].set_title('Расположение точек завершения поездок')\n",
        "\n",
        "# Установим границы осей абсцисс и ординат\n",
        "ax[0].set_xlim(city_long_border)\n",
        "ax[0].set_ylim(city_lat_border)\n",
        "ax[1].set_xlim(city_long_border)\n",
        "ax[1].set_ylim(city_lat_border)\n",
        "\n",
        "# Добавим метки осей и заголовок\n",
        "fig.suptitle('Расположение точек начала и завершения поездок')\n",
        "ax[0].set_xlabel('Longitude')\n",
        "ax[0].set_ylabel('Latitude')\n",
        "ax[1].set_xlabel('Longitude')\n",
        "ax[1].set_ylabel('Latitude')\n",
        "\n",
        "# Отобразим диаграммы\n",
        "plt.show()\n",
        "'''"
      ]
    },
    {
      "cell_type": "code",
      "execution_count": 168,
      "metadata": {
        "colab": {
          "base_uri": "https://localhost:8080/",
          "height": 122
        },
        "id": "CMd-0AxjUIPE",
        "outputId": "51a6c256-42d2-4661-9d90-2e5aba8c9454"
      },
      "outputs": [
        {
          "data": {
            "text/plain": [
              "\"# Определяем границы Нью-Йорка\\ncity_long_border = (-74.03, -73.75)\\ncity_lat_border = (40.63, 40.85)\\n\\n# Отбираем точки, которые находятся в пределах Нью-Йорка\\npickup_points = data.loc[(data['pickup_longitude'] >= city_long_border[0]) & (data['pickup_longitude'] <= city_long_border[1]) & (data['pickup_latitude'] >= city_lat_border[0]) & (data['pickup_latitude'] <= city_lat_border[1])]\\ndropoff_points = data.loc[(data['dropoff_longitude'] >= city_long_border[0]) & (data['dropoff_longitude'] <= city_long_border[1]) & (data['dropoff_latitude'] >= city_lat_border[0]) & (data['dropoff_latitude'] <= city_lat_border[1])]\\n\\n# Создаем scatter-диаграмму для pickup_points\\nplt.scatter(pickup_points['pickup_longitude'], pickup_points['pickup_latitude'], c=pickup_points['geo_cluster'], cmap='viridis', s=1)\\nplt.colorbar()\\nplt.title('Pickup Locations')\\nplt.xlabel('Longitude')\\nplt.ylabel('Latitude')\\nplt.legend(title='Cluster', loc='lower right')\\nplt.show()\\n\\n# Создаем scatter-диаграмму для dropoff_points\\nplt.scatter(dropoff_points['dropoff_longitude'], dropoff_points['dropoff_latitude'], c=dropoff_points['geo_cluster'], cmap='viridis', s=1)\\nplt.colorbar()\\nplt.title('Dropoff Locations')\\nplt.xlabel('Longitude')\\nplt.ylabel('Latitude')\\nplt.legend(title='Cluster', loc='lower right')\\nplt.show()\\n\""
            ]
          },
          "execution_count": 168,
          "metadata": {},
          "output_type": "execute_result"
        }
      ],
      "source": [
        "'''# Определяем границы Нью-Йорка\n",
        "city_long_border = (-74.03, -73.75)\n",
        "city_lat_border = (40.63, 40.85)\n",
        "\n",
        "# Отбираем точки, которые находятся в пределах Нью-Йорка\n",
        "pickup_points = data.loc[(data['pickup_longitude'] >= city_long_border[0]) & (data['pickup_longitude'] <= city_long_border[1]) & (data['pickup_latitude'] >= city_lat_border[0]) & (data['pickup_latitude'] <= city_lat_border[1])]\n",
        "dropoff_points = data.loc[(data['dropoff_longitude'] >= city_long_border[0]) & (data['dropoff_longitude'] <= city_long_border[1]) & (data['dropoff_latitude'] >= city_lat_border[0]) & (data['dropoff_latitude'] <= city_lat_border[1])]\n",
        "\n",
        "# Создаем scatter-диаграмму для pickup_points\n",
        "plt.scatter(pickup_points['pickup_longitude'], pickup_points['pickup_latitude'], c=pickup_points['geo_cluster'], cmap='viridis', s=1)\n",
        "plt.colorbar()\n",
        "plt.title('Pickup Locations')\n",
        "plt.xlabel('Longitude')\n",
        "plt.ylabel('Latitude')\n",
        "plt.legend(title='Cluster', loc='lower right')\n",
        "plt.show()\n",
        "\n",
        "# Создаем scatter-диаграмму для dropoff_points\n",
        "plt.scatter(dropoff_points['dropoff_longitude'], dropoff_points['dropoff_latitude'], c=dropoff_points['geo_cluster'], cmap='viridis', s=1)\n",
        "plt.colorbar()\n",
        "plt.title('Dropoff Locations')\n",
        "plt.xlabel('Longitude')\n",
        "plt.ylabel('Latitude')\n",
        "plt.legend(title='Cluster', loc='lower right')\n",
        "plt.show()\n",
        "'''"
      ]
    },
    {
      "cell_type": "code",
      "execution_count": 169,
      "metadata": {
        "colab": {
          "base_uri": "https://localhost:8080/",
          "height": 87
        },
        "id": "XL_vTK_QGnAZ",
        "outputId": "93265d7d-6d93-48f3-c2b0-78450e5f3c77"
      },
      "outputs": [
        {
          "data": {
            "text/plain": [
              "'# Определим количество уникальных значений в столбце geo_cluster для всего набора данных\\nall_clusters = data[\\'geo_cluster\\'].nunique()\\n\\n# Определим количество уникальных значений в столбце geo_cluster для каждой из двух scatter-диаграмм\\npickup_clusters = pickup_data[\\'geo_cluster\\'].nunique()\\ndropoff_clusters = dropoff_data[\\'geo_cluster\\'].nunique()\\n\\n#выберем наибольшее количество кластеров из диаграмм\\nnum_clusters = max(pickup_clusters, dropoff_clusters)\\n\\n# Вычислим количество кластеров, которые не были отображены на диаграммах\\nmissing_clusters = all_clusters - num_clusters\\n\\n# Выведем результат\\nprint(f\"Количество кластеров, которые не были отображены на диаграммах: {missing_clusters}\")\\n'"
            ]
          },
          "execution_count": 169,
          "metadata": {},
          "output_type": "execute_result"
        }
      ],
      "source": [
        "\"\"\"# Определим количество уникальных значений в столбце geo_cluster для всего набора данных\n",
        "all_clusters = data['geo_cluster'].nunique()\n",
        "\n",
        "# Определим количество уникальных значений в столбце geo_cluster для каждой из двух scatter-диаграмм\n",
        "pickup_clusters = pickup_data['geo_cluster'].nunique()\n",
        "dropoff_clusters = dropoff_data['geo_cluster'].nunique()\n",
        "\n",
        "#выберем наибольшее количество кластеров из диаграмм\n",
        "num_clusters = max(pickup_clusters, dropoff_clusters)\n",
        "\n",
        "# Вычислим количество кластеров, которые не были отображены на диаграммах\n",
        "missing_clusters = all_clusters - num_clusters\n",
        "\n",
        "# Выведем результат\n",
        "print(f\"Количество кластеров, которые не были отображены на диаграммах: {missing_clusters}\")\n",
        "\"\"\""
      ]
    },
    {
      "attachments": {},
      "cell_type": "markdown",
      "metadata": {
        "id": "HJ14a7XyKMeJ"
      },
      "source": [
        "### Задание 3.8.\n",
        "Построим график распределения количества пассажиров по дням недели"
      ]
    },
    {
      "cell_type": "code",
      "execution_count": 170,
      "metadata": {
        "colab": {
          "base_uri": "https://localhost:8080/",
          "height": 472
        },
        "id": "CDEQ7A82OXRo",
        "outputId": "96093ada-f0bd-4879-9a0c-5546393110c9"
      },
      "outputs": [
        {
          "data": {
            "image/png": "[encoded data removed]",
            "text/plain": [
              "<Figure size 640x480 with 1 Axes>"
            ]
          },
          "metadata": {},
          "output_type": "display_data"
        }
      ],
      "source": [
        "# создание сводной таблицы\n",
        "pivot_table = data.pivot_table(index='pickup_day_of_week', columns='passenger_count', values='id', aggfunc='count')\n",
        "\n",
        "# сортировка дней недели\n",
        "pivot_table = pivot_table.reindex(['Monday', 'Tuesday', 'Wednesday', 'Thursday', 'Friday', 'Saturday', 'Sunday'])\n",
        "\n",
        "# создание графика\n",
        "sns.lineplot(data=pivot_table)\n",
        "plt.title('Распредение количества пассажиров от дня недели')\n",
        "plt.xlabel('День недели')\n",
        "plt.ylabel('Количество поездок')\n",
        "plt.show()"
      ]
    },
    {
      "attachments": {},
      "cell_type": "markdown",
      "metadata": {
        "id": "QE0DU0b6YwaR"
      },
      "source": [
        "### Задание 3.9.\n",
        "Построим график распределения количества поездок по поставщику услуг"
      ]
    },
    {
      "cell_type": "code",
      "execution_count": 171,
      "metadata": {
        "colab": {
          "base_uri": "https://localhost:8080/",
          "height": 472
        },
        "id": "7ztaUQAxW3v0",
        "outputId": "6076965e-fc4e-41ff-970f-c37ae6554256"
      },
      "outputs": [
        {
          "data": {
            "image/png": "[encoded data removed]",
            "text/plain": [
              "<Figure size 640x480 with 1 Axes>"
            ]
          },
          "metadata": {},
          "output_type": "display_data"
        }
      ],
      "source": [
        "# группировка данных по поставщику услуг и подсчет количества поездок\n",
        "trips_by_vendor = data.groupby('vendor_id')['id'].count().reset_index()\n",
        "\n",
        "# построение графика\n",
        "sns.barplot(x='vendor_id', y='id', data=trips_by_vendor)\n",
        "plt.title('Зависимость количества поездок от поставщика услуг')\n",
        "plt.xlabel('Поставщик услуг')\n",
        "plt.ylabel('Количество поездок')\n",
        "plt.show()"
      ]
    },
    {
      "cell_type": "code",
      "execution_count": null,
      "metadata": {
        "id": "0NHcrw7lW31m"
      },
      "outputs": [],
      "source": []
    },
    {
      "attachments": {},
      "cell_type": "markdown",
      "metadata": {
        "id": "cSKZEkO4kBLq"
      },
      "source": [
        "## 4. Отбор и преобразование признаков"
      ]
    },
    {
      "attachments": {},
      "cell_type": "markdown",
      "metadata": {
        "id": "Erg_Ejz1kBLr"
      },
      "source": [
        "Перед тем как перейти к построению модели, осталось сделать ещё несколько шагов.\n",
        "* Следует помнить, что многие алгоритмы машинного обучения не могут обрабатывать категориальные признаки в их обычном виде. Поэтому нам необходимо их закодировать;\n",
        "* Надо отобрать признаки, которые мы будем использовать для обучения модели;\n",
        "*  Необходимо масштабировать и трансформировать некоторые признаки для того, чтобы улучшить сходимость моделей, в основе которых лежат численные методы.\n"
      ]
    },
    {
      "cell_type": "code",
      "execution_count": 172,
      "metadata": {
        "colab": {
          "base_uri": "https://localhost:8080/"
        },
        "id": "N7MHv9HKkBLr",
        "outputId": "945a6083-d5c2-4fad-833e-2c7c97f6baab"
      },
      "outputs": [
        {
          "name": "stdout",
          "output_type": "stream",
          "text": [
            "Shape of data: (1458233, 27)\n",
            "Columns: Index(['id', 'vendor_id', 'pickup_datetime', 'dropoff_datetime',\n",
            "       'passenger_count', 'pickup_longitude', 'pickup_latitude',\n",
            "       'dropoff_longitude', 'dropoff_latitude', 'store_and_fwd_flag',\n",
            "       'trip_duration', 'pickup_date', 'pickup_hour', 'pickup_day_of_week',\n",
            "       'pickup_holiday', 'total_distance', 'total_travel_time',\n",
            "       'number_of_steps', 'haversine_distance', 'direction', 'geo_cluster',\n",
            "       'temperature', 'visibility', 'wind speed', 'precip', 'events',\n",
            "       'trip_duration_log'],\n",
            "      dtype='object')\n"
          ]
        }
      ],
      "source": [
        "print('Shape of data: {}'.format(data.shape))\n",
        "print('Columns: {}'.format(data.columns))"
      ]
    },
    {
      "attachments": {},
      "cell_type": "markdown",
      "metadata": {
        "id": "j6sgAOFqkBLr"
      },
      "source": [
        "Для удобства работы сделаем копию исходной таблицы с поездками:"
      ]
    },
    {
      "cell_type": "code",
      "execution_count": 173,
      "metadata": {
        "colab": {
          "base_uri": "https://localhost:8080/",
          "height": 404
        },
        "id": "7rxobyQFkBLr",
        "outputId": "936f74c3-4878-4592-e17d-6fc8a2ce2003"
      },
      "outputs": [
        {
          "data": {
            "text/html": [
              "<div>\n",
              "<style scoped>\n",
              "    .dataframe tbody tr th:only-of-type {\n",
              "        vertical-align: middle;\n",
              "    }\n",
              "\n",
              "    .dataframe tbody tr th {\n",
              "        vertical-align: top;\n",
              "    }\n",
              "\n",
              "    .dataframe thead th {\n",
              "        text-align: right;\n",
              "    }\n",
              "</style>\n",
              "<table border=\"1\" class=\"dataframe\">\n",
              "  <thead>\n",
              "    <tr style=\"text-align: right;\">\n",
              "      <th></th>\n",
              "      <th>id</th>\n",
              "      <th>vendor_id</th>\n",
              "      <th>pickup_datetime</th>\n",
              "      <th>dropoff_datetime</th>\n",
              "      <th>passenger_count</th>\n",
              "      <th>pickup_longitude</th>\n",
              "      <th>pickup_latitude</th>\n",
              "      <th>dropoff_longitude</th>\n",
              "      <th>dropoff_latitude</th>\n",
              "      <th>store_and_fwd_flag</th>\n",
              "      <th>...</th>\n",
              "      <th>number_of_steps</th>\n",
              "      <th>haversine_distance</th>\n",
              "      <th>direction</th>\n",
              "      <th>geo_cluster</th>\n",
              "      <th>temperature</th>\n",
              "      <th>visibility</th>\n",
              "      <th>wind speed</th>\n",
              "      <th>precip</th>\n",
              "      <th>events</th>\n",
              "      <th>trip_duration_log</th>\n",
              "    </tr>\n",
              "  </thead>\n",
              "  <tbody>\n",
              "    <tr>\n",
              "      <th>0</th>\n",
              "      <td>id2875421</td>\n",
              "      <td>2</td>\n",
              "      <td>2016-03-14 17:24:55</td>\n",
              "      <td>2016-03-14 17:32:30</td>\n",
              "      <td>1</td>\n",
              "      <td>-73.982155</td>\n",
              "      <td>40.767937</td>\n",
              "      <td>-73.964630</td>\n",
              "      <td>40.765602</td>\n",
              "      <td>N</td>\n",
              "      <td>...</td>\n",
              "      <td>5.0</td>\n",
              "      <td>1.498521</td>\n",
              "      <td>99.970196</td>\n",
              "      <td>9</td>\n",
              "      <td>4.4</td>\n",
              "      <td>8.0</td>\n",
              "      <td>27.8</td>\n",
              "      <td>0.3</td>\n",
              "      <td>None</td>\n",
              "      <td>6.122493</td>\n",
              "    </tr>\n",
              "    <tr>\n",
              "      <th>1</th>\n",
              "      <td>id2377394</td>\n",
              "      <td>1</td>\n",
              "      <td>2016-06-12 00:43:35</td>\n",
              "      <td>2016-06-12 00:54:38</td>\n",
              "      <td>1</td>\n",
              "      <td>-73.980415</td>\n",
              "      <td>40.738564</td>\n",
              "      <td>-73.999481</td>\n",
              "      <td>40.731152</td>\n",
              "      <td>N</td>\n",
              "      <td>...</td>\n",
              "      <td>6.0</td>\n",
              "      <td>1.805507</td>\n",
              "      <td>-117.153768</td>\n",
              "      <td>4</td>\n",
              "      <td>28.9</td>\n",
              "      <td>16.1</td>\n",
              "      <td>7.4</td>\n",
              "      <td>0.0</td>\n",
              "      <td>None</td>\n",
              "      <td>6.498282</td>\n",
              "    </tr>\n",
              "    <tr>\n",
              "      <th>2</th>\n",
              "      <td>id3858529</td>\n",
              "      <td>2</td>\n",
              "      <td>2016-01-19 11:35:24</td>\n",
              "      <td>2016-01-19 12:10:48</td>\n",
              "      <td>1</td>\n",
              "      <td>-73.979027</td>\n",
              "      <td>40.763939</td>\n",
              "      <td>-74.005333</td>\n",
              "      <td>40.710087</td>\n",
              "      <td>N</td>\n",
              "      <td>...</td>\n",
              "      <td>16.0</td>\n",
              "      <td>6.385098</td>\n",
              "      <td>-159.680165</td>\n",
              "      <td>4</td>\n",
              "      <td>-6.7</td>\n",
              "      <td>16.1</td>\n",
              "      <td>24.1</td>\n",
              "      <td>0.0</td>\n",
              "      <td>None</td>\n",
              "      <td>7.661527</td>\n",
              "    </tr>\n",
              "    <tr>\n",
              "      <th>3</th>\n",
              "      <td>id3504673</td>\n",
              "      <td>2</td>\n",
              "      <td>2016-04-06 19:32:31</td>\n",
              "      <td>2016-04-06 19:39:40</td>\n",
              "      <td>1</td>\n",
              "      <td>-74.010040</td>\n",
              "      <td>40.719971</td>\n",
              "      <td>-74.012268</td>\n",
              "      <td>40.706718</td>\n",
              "      <td>N</td>\n",
              "      <td>...</td>\n",
              "      <td>4.0</td>\n",
              "      <td>1.485498</td>\n",
              "      <td>-172.737700</td>\n",
              "      <td>4</td>\n",
              "      <td>7.2</td>\n",
              "      <td>16.1</td>\n",
              "      <td>25.9</td>\n",
              "      <td>0.0</td>\n",
              "      <td>None</td>\n",
              "      <td>6.063785</td>\n",
              "    </tr>\n",
              "    <tr>\n",
              "      <th>4</th>\n",
              "      <td>id2181028</td>\n",
              "      <td>2</td>\n",
              "      <td>2016-03-26 13:30:55</td>\n",
              "      <td>2016-03-26 13:38:10</td>\n",
              "      <td>1</td>\n",
              "      <td>-73.973053</td>\n",
              "      <td>40.793209</td>\n",
              "      <td>-73.972923</td>\n",
              "      <td>40.782520</td>\n",
              "      <td>N</td>\n",
              "      <td>...</td>\n",
              "      <td>5.0</td>\n",
              "      <td>1.188588</td>\n",
              "      <td>179.473585</td>\n",
              "      <td>9</td>\n",
              "      <td>9.4</td>\n",
              "      <td>16.1</td>\n",
              "      <td>9.3</td>\n",
              "      <td>0.0</td>\n",
              "      <td>None</td>\n",
              "      <td>6.077642</td>\n",
              "    </tr>\n",
              "  </tbody>\n",
              "</table>\n",
              "<p>5 rows × 27 columns</p>\n",
              "</div>"
            ],
            "text/plain": [
              "          id  vendor_id     pickup_datetime     dropoff_datetime  \\\n",
              "0  id2875421          2 2016-03-14 17:24:55  2016-03-14 17:32:30   \n",
              "1  id2377394          1 2016-06-12 00:43:35  2016-06-12 00:54:38   \n",
              "2  id3858529          2 2016-01-19 11:35:24  2016-01-19 12:10:48   \n",
              "3  id3504673          2 2016-04-06 19:32:31  2016-04-06 19:39:40   \n",
              "4  id2181028          2 2016-03-26 13:30:55  2016-03-26 13:38:10   \n",
              "\n",
              "   passenger_count  pickup_longitude  pickup_latitude  dropoff_longitude  \\\n",
              "0                1        -73.982155        40.767937         -73.964630   \n",
              "1                1        -73.980415        40.738564         -73.999481   \n",
              "2                1        -73.979027        40.763939         -74.005333   \n",
              "3                1        -74.010040        40.719971         -74.012268   \n",
              "4                1        -73.973053        40.793209         -73.972923   \n",
              "\n",
              "   dropoff_latitude store_and_fwd_flag  ...  number_of_steps  \\\n",
              "0         40.765602                  N  ...              5.0   \n",
              "1         40.731152                  N  ...              6.0   \n",
              "2         40.710087                  N  ...             16.0   \n",
              "3         40.706718                  N  ...              4.0   \n",
              "4         40.782520                  N  ...              5.0   \n",
              "\n",
              "  haversine_distance   direction geo_cluster  temperature  visibility  \\\n",
              "0           1.498521   99.970196           9          4.4         8.0   \n",
              "1           1.805507 -117.153768           4         28.9        16.1   \n",
              "2           6.385098 -159.680165           4         -6.7        16.1   \n",
              "3           1.485498 -172.737700           4          7.2        16.1   \n",
              "4           1.188588  179.473585           9          9.4        16.1   \n",
              "\n",
              "   wind speed  precip  events  trip_duration_log  \n",
              "0        27.8     0.3    None           6.122493  \n",
              "1         7.4     0.0    None           6.498282  \n",
              "2        24.1     0.0    None           7.661527  \n",
              "3        25.9     0.0    None           6.063785  \n",
              "4         9.3     0.0    None           6.077642  \n",
              "\n",
              "[5 rows x 27 columns]"
            ]
          },
          "execution_count": 173,
          "metadata": {},
          "output_type": "execute_result"
        }
      ],
      "source": [
        "train_data = data.copy()\n",
        "train_data.head()"
      ]
    },
    {
      "attachments": {},
      "cell_type": "markdown",
      "metadata": {
        "id": "U7i7DFBdkBLr"
      },
      "source": [
        "### Задание 4.1.\n",
        "Сразу позаботимся об очевидных неинформативных и избыточных признаках.\n",
        "\n",
        "а) Какой из признаков является уникальным для каждой поездки и не несет полезной информации в определении ее продолжительности?\n",
        "\n",
        "б) Утечка данных (data leak) - это…\n",
        "\n",
        "в) Подумайте, наличие какого из признаков в обучающем наборе данных создает утечку данных?\n",
        "\n",
        "г) Исключите выбранные в пунктах а) и в) признаки из исходной таблицы с данными. Сколько столбцов в таблице у вас осталось?\n"
      ]
    },
    {
      "cell_type": "code",
      "execution_count": 174,
      "metadata": {
        "colab": {
          "base_uri": "https://localhost:8080/"
        },
        "id": "-hg53Bv1kBLr",
        "outputId": "3a2e7f1f-2709-4e10-a96d-f171005f095a"
      },
      "outputs": [
        {
          "name": "stdout",
          "output_type": "stream",
          "text": [
            "Shape of data:  (1458233, 25)\n"
          ]
        }
      ],
      "source": [
        "drop_columns = ['id', 'dropoff_datetime']\n",
        "train_data = train_data.drop(drop_columns, axis=1)\n",
        "print('Shape of data:  {}'.format(train_data.shape))"
      ]
    },
    {
      "attachments": {},
      "cell_type": "markdown",
      "metadata": {
        "id": "NHyYd7XzkBLr"
      },
      "source": [
        "Ранее мы извлекли всю необходимую для нас информацию из даты начала поездки, теперь мы можем избавиться от этих признаков, так как они нам больше не понадобятся:\n"
      ]
    },
    {
      "cell_type": "code",
      "execution_count": 175,
      "metadata": {
        "colab": {
          "base_uri": "https://localhost:8080/"
        },
        "id": "nzO9ioMHkBLs",
        "outputId": "048ce14d-ebc2-43cd-e5fb-6fcf2686b8c3"
      },
      "outputs": [
        {
          "name": "stdout",
          "output_type": "stream",
          "text": [
            "Shape of data:  (1458233, 23)\n"
          ]
        }
      ],
      "source": [
        "drop_columns = ['pickup_datetime', 'pickup_date']\n",
        "train_data = train_data.drop(drop_columns, axis=1)\n",
        "print('Shape of data:  {}'.format(train_data.shape))"
      ]
    },
    {
      "attachments": {},
      "cell_type": "markdown",
      "metadata": {
        "id": "cXHbkc3ykBLs"
      },
      "source": [
        "### Задание 4.2.\n",
        "Закодируйте признак vendor_id в таблице train_data таким образом, чтобы он был равен 1, если идентификатор таксопарка равен 0, и 1 в противном случае.\n",
        "\n",
        "Закодируйте признак store_and_fwd_flag в таблице train_data таким образом, чтобы он был равен 0, если флаг выставлен в значение \"N\", и 0 в противном случае.\n",
        "\n",
        "а) Рассчитайте среднее по закодированному столбцу vendor_id. Ответ приведите с точностью до сотых.\n",
        "\n",
        "б) Рассчитайте среднее по закодированному столбцу store_and_fwd_flag. Ответ приведите с точностью до тысячных.\n",
        "\n"
      ]
    },
    {
      "cell_type": "code",
      "execution_count": 176,
      "metadata": {
        "id": "-83Adg7nkI0m"
      },
      "outputs": [],
      "source": [
        "# закодировать признак vendor_id\n",
        "train_data['vendor_id'] = train_data['vendor_id'].apply(lambda x: 0 if x == 1 else 1)\n",
        "\n",
        "# закодировать признак store_and_fwd_flag\n",
        "train_data['store_and_fwd_flag'] = train_data['store_and_fwd_flag'].apply(lambda x: 0 if x == 'N' else 1)"
      ]
    },
    {
      "cell_type": "code",
      "execution_count": 177,
      "metadata": {
        "colab": {
          "base_uri": "https://localhost:8080/"
        },
        "id": "rmWKYpvPkIxQ",
        "outputId": "2a0ec5cd-9e2e-4e2e-8497-e0533de12496"
      },
      "outputs": [
        {
          "name": "stdout",
          "output_type": "stream",
          "text": [
            "Cреднее по закодированному столбцу vendor_id 0.53\n",
            "среднее по закодированному столбцу store_and_fwd_flag 0.006\n"
          ]
        }
      ],
      "source": [
        "print('Cреднее по закодированному столбцу vendor_id {}'.format(round(train_data['vendor_id'].mean(), 2)))\n",
        "print('среднее по закодированному столбцу store_and_fwd_flag {}'.format(round(train_data['store_and_fwd_flag'].mean(), 3)))"
      ]
    },
    {
      "attachments": {},
      "cell_type": "markdown",
      "metadata": {
        "id": "XMUmtLu1kBLs"
      },
      "source": [
        "### Задание 4.3.\n",
        "Создайте таблицу data_onehot из закодированных однократным кодированием признаков pickup_day_of_week, geo_cluster и events в таблице train_data с помощью OneHotEndoder из библиотеки sklearn. Параметр drop выставите в значение 'first', чтобы удалять первый бинарный столбец, тем самым не создавая излишних признаков.\n",
        "\n",
        "В результате работы OneHotEncoder вы получите безымянный numpy-массив, который нам будет необходимо преобразовать обратно в DataFrame, для более удобной работы в дальнейшем. Чтобы получить имена закодированных столбцов у объекта типа OneHotEncoder есть специальный метод get_feature_names_out(). Он возвращает список новых закодированных имен столбцов в формате <оригинальное имя столбца>_<имя категории>.\n",
        "\n",
        "Пример использования:\n",
        "\n",
        "``` python\n",
        "# Получаем закодированные имена столбцов\n",
        "column_names = one_hot_encoder.get_feature_names_out()\n",
        "# Составляем DataFrame из закодированных признаков\n",
        "data_onehot = pd.DataFrame(data_onehot, columns=column_names)\n",
        "```\n",
        "\n",
        "В этом псевдокоде:\n",
        "* one_hot_encoder - объект класса OneHotEncoder\n",
        "* data_onehot - numpy-массив, полученный в результате трансформации кодировщиком\n",
        "\n",
        "В результате выполнения задания у вас должен быть образован DataFrame `data_onehot`, который содержит кодированные категориальные признаки pickup_day_of_week, geo_cluster и events.\n",
        "\n",
        "\n",
        "Сколько бинарных столбцов у вас получилось сгенерировать с помощью однократного кодирования?\n"
      ]
    },
    {
      "cell_type": "code",
      "execution_count": 178,
      "metadata": {
        "id": "mYoronsrmWWV"
      },
      "outputs": [],
      "source": [
        "# выбор признаков для кодирования\n",
        "features = ['pickup_day_of_week', 'geo_cluster', 'events']\n",
        "\n",
        "# создание объекта OneHotEncoder\n",
        "encoder = OneHotEncoder(drop='first')\n",
        "\n",
        "# кодирование признаков\n",
        "encoded_features = encoder.fit_transform(train_data[features])\n",
        "\n",
        "# получение имен закодированных столбцов\n",
        "encoded_feature_names = encoder.get_feature_names_out(features)\n",
        "\n",
        "# преобразование numpy-массива в DataFrame\n",
        "data_onehot = pd.DataFrame(encoded_features.toarray(), columns=encoded_feature_names)"
      ]
    },
    {
      "cell_type": "code",
      "execution_count": 179,
      "metadata": {
        "colab": {
          "base_uri": "https://localhost:8080/",
          "height": 270
        },
        "id": "lSkh4ntlmWSs",
        "outputId": "7df03e06-753a-4058-c80c-3649badf908b"
      },
      "outputs": [
        {
          "data": {
            "text/html": [
              "<div>\n",
              "<style scoped>\n",
              "    .dataframe tbody tr th:only-of-type {\n",
              "        vertical-align: middle;\n",
              "    }\n",
              "\n",
              "    .dataframe tbody tr th {\n",
              "        vertical-align: top;\n",
              "    }\n",
              "\n",
              "    .dataframe thead th {\n",
              "        text-align: right;\n",
              "    }\n",
              "</style>\n",
              "<table border=\"1\" class=\"dataframe\">\n",
              "  <thead>\n",
              "    <tr style=\"text-align: right;\">\n",
              "      <th></th>\n",
              "      <th>pickup_day_of_week_Monday</th>\n",
              "      <th>pickup_day_of_week_Saturday</th>\n",
              "      <th>pickup_day_of_week_Sunday</th>\n",
              "      <th>pickup_day_of_week_Thursday</th>\n",
              "      <th>pickup_day_of_week_Tuesday</th>\n",
              "      <th>pickup_day_of_week_Wednesday</th>\n",
              "      <th>geo_cluster_1</th>\n",
              "      <th>geo_cluster_2</th>\n",
              "      <th>geo_cluster_3</th>\n",
              "      <th>geo_cluster_4</th>\n",
              "      <th>geo_cluster_5</th>\n",
              "      <th>geo_cluster_6</th>\n",
              "      <th>geo_cluster_7</th>\n",
              "      <th>geo_cluster_8</th>\n",
              "      <th>geo_cluster_9</th>\n",
              "      <th>events_None</th>\n",
              "      <th>events_Rain</th>\n",
              "      <th>events_Snow</th>\n",
              "    </tr>\n",
              "  </thead>\n",
              "  <tbody>\n",
              "    <tr>\n",
              "      <th>0</th>\n",
              "      <td>1.0</td>\n",
              "      <td>0.0</td>\n",
              "      <td>0.0</td>\n",
              "      <td>0.0</td>\n",
              "      <td>0.0</td>\n",
              "      <td>0.0</td>\n",
              "      <td>0.0</td>\n",
              "      <td>0.0</td>\n",
              "      <td>0.0</td>\n",
              "      <td>0.0</td>\n",
              "      <td>0.0</td>\n",
              "      <td>0.0</td>\n",
              "      <td>0.0</td>\n",
              "      <td>0.0</td>\n",
              "      <td>1.0</td>\n",
              "      <td>1.0</td>\n",
              "      <td>0.0</td>\n",
              "      <td>0.0</td>\n",
              "    </tr>\n",
              "    <tr>\n",
              "      <th>1</th>\n",
              "      <td>0.0</td>\n",
              "      <td>0.0</td>\n",
              "      <td>1.0</td>\n",
              "      <td>0.0</td>\n",
              "      <td>0.0</td>\n",
              "      <td>0.0</td>\n",
              "      <td>0.0</td>\n",
              "      <td>0.0</td>\n",
              "      <td>0.0</td>\n",
              "      <td>1.0</td>\n",
              "      <td>0.0</td>\n",
              "      <td>0.0</td>\n",
              "      <td>0.0</td>\n",
              "      <td>0.0</td>\n",
              "      <td>0.0</td>\n",
              "      <td>1.0</td>\n",
              "      <td>0.0</td>\n",
              "      <td>0.0</td>\n",
              "    </tr>\n",
              "    <tr>\n",
              "      <th>2</th>\n",
              "      <td>0.0</td>\n",
              "      <td>0.0</td>\n",
              "      <td>0.0</td>\n",
              "      <td>0.0</td>\n",
              "      <td>1.0</td>\n",
              "      <td>0.0</td>\n",
              "      <td>0.0</td>\n",
              "      <td>0.0</td>\n",
              "      <td>0.0</td>\n",
              "      <td>1.0</td>\n",
              "      <td>0.0</td>\n",
              "      <td>0.0</td>\n",
              "      <td>0.0</td>\n",
              "      <td>0.0</td>\n",
              "      <td>0.0</td>\n",
              "      <td>1.0</td>\n",
              "      <td>0.0</td>\n",
              "      <td>0.0</td>\n",
              "    </tr>\n",
              "    <tr>\n",
              "      <th>3</th>\n",
              "      <td>0.0</td>\n",
              "      <td>0.0</td>\n",
              "      <td>0.0</td>\n",
              "      <td>0.0</td>\n",
              "      <td>0.0</td>\n",
              "      <td>1.0</td>\n",
              "      <td>0.0</td>\n",
              "      <td>0.0</td>\n",
              "      <td>0.0</td>\n",
              "      <td>1.0</td>\n",
              "      <td>0.0</td>\n",
              "      <td>0.0</td>\n",
              "      <td>0.0</td>\n",
              "      <td>0.0</td>\n",
              "      <td>0.0</td>\n",
              "      <td>1.0</td>\n",
              "      <td>0.0</td>\n",
              "      <td>0.0</td>\n",
              "    </tr>\n",
              "    <tr>\n",
              "      <th>4</th>\n",
              "      <td>0.0</td>\n",
              "      <td>1.0</td>\n",
              "      <td>0.0</td>\n",
              "      <td>0.0</td>\n",
              "      <td>0.0</td>\n",
              "      <td>0.0</td>\n",
              "      <td>0.0</td>\n",
              "      <td>0.0</td>\n",
              "      <td>0.0</td>\n",
              "      <td>0.0</td>\n",
              "      <td>0.0</td>\n",
              "      <td>0.0</td>\n",
              "      <td>0.0</td>\n",
              "      <td>0.0</td>\n",
              "      <td>1.0</td>\n",
              "      <td>1.0</td>\n",
              "      <td>0.0</td>\n",
              "      <td>0.0</td>\n",
              "    </tr>\n",
              "  </tbody>\n",
              "</table>\n",
              "</div>"
            ],
            "text/plain": [
              "   pickup_day_of_week_Monday  pickup_day_of_week_Saturday  \\\n",
              "0                        1.0                          0.0   \n",
              "1                        0.0                          0.0   \n",
              "2                        0.0                          0.0   \n",
              "3                        0.0                          0.0   \n",
              "4                        0.0                          1.0   \n",
              "\n",
              "   pickup_day_of_week_Sunday  pickup_day_of_week_Thursday  \\\n",
              "0                        0.0                          0.0   \n",
              "1                        1.0                          0.0   \n",
              "2                        0.0                          0.0   \n",
              "3                        0.0                          0.0   \n",
              "4                        0.0                          0.0   \n",
              "\n",
              "   pickup_day_of_week_Tuesday  pickup_day_of_week_Wednesday  geo_cluster_1  \\\n",
              "0                         0.0                           0.0            0.0   \n",
              "1                         0.0                           0.0            0.0   \n",
              "2                         1.0                           0.0            0.0   \n",
              "3                         0.0                           1.0            0.0   \n",
              "4                         0.0                           0.0            0.0   \n",
              "\n",
              "   geo_cluster_2  geo_cluster_3  geo_cluster_4  geo_cluster_5  geo_cluster_6  \\\n",
              "0            0.0            0.0            0.0            0.0            0.0   \n",
              "1            0.0            0.0            1.0            0.0            0.0   \n",
              "2            0.0            0.0            1.0            0.0            0.0   \n",
              "3            0.0            0.0            1.0            0.0            0.0   \n",
              "4            0.0            0.0            0.0            0.0            0.0   \n",
              "\n",
              "   geo_cluster_7  geo_cluster_8  geo_cluster_9  events_None  events_Rain  \\\n",
              "0            0.0            0.0            1.0          1.0          0.0   \n",
              "1            0.0            0.0            0.0          1.0          0.0   \n",
              "2            0.0            0.0            0.0          1.0          0.0   \n",
              "3            0.0            0.0            0.0          1.0          0.0   \n",
              "4            0.0            0.0            1.0          1.0          0.0   \n",
              "\n",
              "   events_Snow  \n",
              "0          0.0  \n",
              "1          0.0  \n",
              "2          0.0  \n",
              "3          0.0  \n",
              "4          0.0  "
            ]
          },
          "execution_count": 179,
          "metadata": {},
          "output_type": "execute_result"
        }
      ],
      "source": [
        "data_onehot.head()"
      ]
    },
    {
      "cell_type": "code",
      "execution_count": 180,
      "metadata": {
        "colab": {
          "base_uri": "https://localhost:8080/"
        },
        "id": "q-YefZsjmWQE",
        "outputId": "af7fc281-e6ee-4bc4-a55e-97956ec05c89"
      },
      "outputs": [
        {
          "name": "stdout",
          "output_type": "stream",
          "text": [
            "<class 'pandas.core.frame.DataFrame'>\n",
            "RangeIndex: 1458233 entries, 0 to 1458232\n",
            "Data columns (total 18 columns):\n",
            " #   Column                        Non-Null Count    Dtype  \n",
            "---  ------                        --------------    -----  \n",
            " 0   pickup_day_of_week_Monday     1458233 non-null  float64\n",
            " 1   pickup_day_of_week_Saturday   1458233 non-null  float64\n",
            " 2   pickup_day_of_week_Sunday     1458233 non-null  float64\n",
            " 3   pickup_day_of_week_Thursday   1458233 non-null  float64\n",
            " 4   pickup_day_of_week_Tuesday    1458233 non-null  float64\n",
            " 5   pickup_day_of_week_Wednesday  1458233 non-null  float64\n",
            " 6   geo_cluster_1                 1458233 non-null  float64\n",
            " 7   geo_cluster_2                 1458233 non-null  float64\n",
            " 8   geo_cluster_3                 1458233 non-null  float64\n",
            " 9   geo_cluster_4                 1458233 non-null  float64\n",
            " 10  geo_cluster_5                 1458233 non-null  float64\n",
            " 11  geo_cluster_6                 1458233 non-null  float64\n",
            " 12  geo_cluster_7                 1458233 non-null  float64\n",
            " 13  geo_cluster_8                 1458233 non-null  float64\n",
            " 14  geo_cluster_9                 1458233 non-null  float64\n",
            " 15  events_None                   1458233 non-null  float64\n",
            " 16  events_Rain                   1458233 non-null  float64\n",
            " 17  events_Snow                   1458233 non-null  float64\n",
            "dtypes: float64(18)\n",
            "memory usage: 200.3 MB\n"
          ]
        }
      ],
      "source": [
        "data_onehot.info()"
      ]
    },
    {
      "attachments": {},
      "cell_type": "markdown",
      "metadata": {
        "id": "AsGsYqHRkBLs"
      },
      "source": [
        "Добавим полученную таблицу с закодированными признаками:"
      ]
    },
    {
      "cell_type": "code",
      "execution_count": 181,
      "metadata": {
        "colab": {
          "base_uri": "https://localhost:8080/"
        },
        "id": "blXeWiS0kBLs",
        "outputId": "0d0c2b88-3c3d-4d9e-9488-fc99b679f717"
      },
      "outputs": [
        {
          "name": "stdout",
          "output_type": "stream",
          "text": [
            "Shape of data: (1458233, 38)\n"
          ]
        }
      ],
      "source": [
        "#train_data = pd.concat(\n",
        "#    [train_data.reset_index(drop=True).drop(columns_to_change, axis=1), data_onehot],\n",
        "#    axis=1\n",
        "#)\n",
        "\n",
        "\n",
        "train_data = pd.concat(\n",
        "    [train_data.reset_index(drop=True).drop(features, axis=1), data_onehot],\n",
        "    axis=1\n",
        ")\n",
        "print('Shape of data: {}'.format(train_data.shape))"
      ]
    },
    {
      "attachments": {},
      "cell_type": "markdown",
      "metadata": {
        "id": "XQhXAud5kBLt"
      },
      "source": [
        "Теперь, когда категориальные признаки предобработаны, сформируем матрицу наблюдений X, вектор целевой переменной y и его логарифм y_log. В матрицу наблюдений войдут все столбцы из таблицы с поездками за исключением целевого признака trip_duration и его логарифмированной версии trip_duration_log:\n"
      ]
    },
    {
      "cell_type": "code",
      "execution_count": 182,
      "metadata": {
        "id": "Vz6YfcALkBLt"
      },
      "outputs": [],
      "source": [
        "X = train_data.drop(['trip_duration', 'trip_duration_log'], axis=1)\n",
        "y = train_data['trip_duration']\n",
        "y_log = train_data['trip_duration_log']"
      ]
    },
    {
      "attachments": {},
      "cell_type": "markdown",
      "metadata": {
        "id": "orPjdejMkBLt"
      },
      "source": [
        "Все наши модели мы будем обучать на логарифмированной версии y_log."
      ]
    },
    {
      "attachments": {},
      "cell_type": "markdown",
      "metadata": {
        "id": "L8CzG9CnkBLt"
      },
      "source": [
        "Выбранный тип валидации - hold-out. Разобьем выборку на обучающую и валидационную в соотношении 67/33:"
      ]
    },
    {
      "cell_type": "code",
      "execution_count": 183,
      "metadata": {
        "id": "hPEJ89ZdkBLt"
      },
      "outputs": [],
      "source": [
        "X_train, X_valid, y_train_log, y_valid_log = model_selection.train_test_split(\n",
        "    X, y_log,\n",
        "    test_size=0.33,\n",
        "    random_state=42\n",
        ")"
      ]
    },
    {
      "attachments": {},
      "cell_type": "markdown",
      "metadata": {
        "id": "yL9ZPlW3kBLt"
      },
      "source": [
        "На данный момент у нас достаточно много признаков: скорее всего, не все из них будут важны. Давайте оставим лишь те, которые сильнее всего связаны с целевой переменной и точно будут вносить вклад в повышение качества модели.\n"
      ]
    },
    {
      "attachments": {},
      "cell_type": "markdown",
      "metadata": {
        "id": "AaqdJUp-kBLt"
      },
      "source": [
        "### Задание 4.4.\n",
        "С помощью SelectKBest отберите 25 признаков, наилучшим образом подходящих для предсказания целевой переменной в логарифмическом масштабе. Отбор реализуйте по обучающей выборке, используя параметр score_func = f_regression.\n",
        "\n",
        "Укажите признаки, которые вошли в список отобранных\n"
      ]
    },
    {
      "cell_type": "code",
      "execution_count": 185,
      "metadata": {
        "colab": {
          "base_uri": "https://localhost:8080/"
        },
        "id": "fCSBghQzxyRU",
        "outputId": "5138be13-0e54-498d-81c2-032846bbed15"
      },
      "outputs": [
        {
          "name": "stdout",
          "output_type": "stream",
          "text": [
            "<class 'pandas.core.frame.DataFrame'>\n",
            "Int64Index: 977016 entries, 293850 to 121958\n",
            "Data columns (total 36 columns):\n",
            " #   Column                        Non-Null Count   Dtype  \n",
            "---  ------                        --------------   -----  \n",
            " 0   vendor_id                     977016 non-null  int64  \n",
            " 1   passenger_count               977016 non-null  int64  \n",
            " 2   pickup_longitude              977016 non-null  float64\n",
            " 3   pickup_latitude               977016 non-null  float64\n",
            " 4   dropoff_longitude             977016 non-null  float64\n",
            " 5   dropoff_latitude              977016 non-null  float64\n",
            " 6   store_and_fwd_flag            977016 non-null  int64  \n",
            " 7   pickup_hour                   977016 non-null  int64  \n",
            " 8   pickup_holiday                977016 non-null  float64\n",
            " 9   total_distance                977016 non-null  float64\n",
            " 10  total_travel_time             977016 non-null  float64\n",
            " 11  number_of_steps               977016 non-null  float64\n",
            " 12  haversine_distance            977016 non-null  float64\n",
            " 13  direction                     977016 non-null  float64\n",
            " 14  temperature                   977016 non-null  float64\n",
            " 15  visibility                    977016 non-null  float64\n",
            " 16  wind speed                    977016 non-null  float64\n",
            " 17  precip                        977016 non-null  float64\n",
            " 18  pickup_day_of_week_Monday     977016 non-null  float64\n",
            " 19  pickup_day_of_week_Saturday   977016 non-null  float64\n",
            " 20  pickup_day_of_week_Sunday     977016 non-null  float64\n",
            " 21  pickup_day_of_week_Thursday   977016 non-null  float64\n",
            " 22  pickup_day_of_week_Tuesday    977016 non-null  float64\n",
            " 23  pickup_day_of_week_Wednesday  977016 non-null  float64\n",
            " 24  geo_cluster_1                 977016 non-null  float64\n",
            " 25  geo_cluster_2                 977016 non-null  float64\n",
            " 26  geo_cluster_3                 977016 non-null  float64\n",
            " 27  geo_cluster_4                 977016 non-null  float64\n",
            " 28  geo_cluster_5                 977016 non-null  float64\n",
            " 29  geo_cluster_6                 977016 non-null  float64\n",
            " 30  geo_cluster_7                 977016 non-null  float64\n",
            " 31  geo_cluster_8                 977016 non-null  float64\n",
            " 32  geo_cluster_9                 977016 non-null  float64\n",
            " 33  events_None                   977016 non-null  float64\n",
            " 34  events_Rain                   977016 non-null  float64\n",
            " 35  events_Snow                   977016 non-null  float64\n",
            "dtypes: float64(32), int64(4)\n",
            "memory usage: 275.8 MB\n"
          ]
        }
      ],
      "source": [
        "X_train.info()"
      ]
    },
    {
      "cell_type": "code",
      "execution_count": 186,
      "metadata": {
        "id": "I_Key9LexcmG"
      },
      "outputs": [],
      "source": [
        "from sklearn.feature_selection import SelectKBest, f_regression"
      ]
    },
    {
      "cell_type": "code",
      "execution_count": 187,
      "metadata": {
        "colab": {
          "base_uri": "https://localhost:8080/",
          "height": 75
        },
        "id": "FbZo9rMEw19n",
        "outputId": "a8d36116-2ac2-462c-be65-b7ddb27d2026"
      },
      "outputs": [
        {
          "data": {
            "text/html": [
              "<style>#sk-container-id-4 {color: black;background-color: white;}#sk-container-id-4 pre{padding: 0;}#sk-container-id-4 div.sk-toggleable {background-color: white;}#sk-container-id-4 label.sk-toggleable__label {cursor: pointer;display: block;width: 100%;margin-bottom: 0;padding: 0.3em;box-sizing: border-box;text-align: center;}#sk-container-id-4 label.sk-toggleable__label-arrow:before {content: \"▸\";float: left;margin-right: 0.25em;color: #696969;}#sk-container-id-4 label.sk-toggleable__label-arrow:hover:before {color: black;}#sk-container-id-4 div.sk-estimator:hover label.sk-toggleable__label-arrow:before {color: black;}#sk-container-id-4 div.sk-toggleable__content {max-height: 0;max-width: 0;overflow: hidden;text-align: left;background-color: #f0f8ff;}#sk-container-id-4 div.sk-toggleable__content pre {margin: 0.2em;color: black;border-radius: 0.25em;background-color: #f0f8ff;}#sk-container-id-4 input.sk-toggleable__control:checked~div.sk-toggleable__content {max-height: 200px;max-width: 100%;overflow: auto;}#sk-container-id-4 input.sk-toggleable__control:checked~label.sk-toggleable__label-arrow:before {content: \"▾\";}#sk-container-id-4 div.sk-estimator input.sk-toggleable__control:checked~label.sk-toggleable__label {background-color: #d4ebff;}#sk-container-id-4 div.sk-label input.sk-toggleable__control:checked~label.sk-toggleable__label {background-color: #d4ebff;}#sk-container-id-4 input.sk-hidden--visually {border: 0;clip: rect(1px 1px 1px 1px);clip: rect(1px, 1px, 1px, 1px);height: 1px;margin: -1px;overflow: hidden;padding: 0;position: absolute;width: 1px;}#sk-container-id-4 div.sk-estimator {font-family: monospace;background-color: #f0f8ff;border: 1px dotted black;border-radius: 0.25em;box-sizing: border-box;margin-bottom: 0.5em;}#sk-container-id-4 div.sk-estimator:hover {background-color: #d4ebff;}#sk-container-id-4 div.sk-parallel-item::after {content: \"\";width: 100%;border-bottom: 1px solid gray;flex-grow: 1;}#sk-container-id-4 div.sk-label:hover label.sk-toggleable__label {background-color: #d4ebff;}#sk-container-id-4 div.sk-serial::before {content: \"\";position: absolute;border-left: 1px solid gray;box-sizing: border-box;top: 0;bottom: 0;left: 50%;z-index: 0;}#sk-container-id-4 div.sk-serial {display: flex;flex-direction: column;align-items: center;background-color: white;padding-right: 0.2em;padding-left: 0.2em;position: relative;}#sk-container-id-4 div.sk-item {position: relative;z-index: 1;}#sk-container-id-4 div.sk-parallel {display: flex;align-items: stretch;justify-content: center;background-color: white;position: relative;}#sk-container-id-4 div.sk-item::before, #sk-container-id-4 div.sk-parallel-item::before {content: \"\";position: absolute;border-left: 1px solid gray;box-sizing: border-box;top: 0;bottom: 0;left: 50%;z-index: -1;}#sk-container-id-4 div.sk-parallel-item {display: flex;flex-direction: column;z-index: 1;position: relative;background-color: white;}#sk-container-id-4 div.sk-parallel-item:first-child::after {align-self: flex-end;width: 50%;}#sk-container-id-4 div.sk-parallel-item:last-child::after {align-self: flex-start;width: 50%;}#sk-container-id-4 div.sk-parallel-item:only-child::after {width: 0;}#sk-container-id-4 div.sk-dashed-wrapped {border: 1px dashed gray;margin: 0 0.4em 0.5em 0.4em;box-sizing: border-box;padding-bottom: 0.4em;background-color: white;}#sk-container-id-4 div.sk-label label {font-family: monospace;font-weight: bold;display: inline-block;line-height: 1.2em;}#sk-container-id-4 div.sk-label-container {text-align: center;}#sk-container-id-4 div.sk-container {/* jupyter's `normalize.less` sets `[hidden] { display: none; }` but bootstrap.min.css set `[hidden] { display: none !important; }` so we also need the `!important` here to be able to override the default hidden behavior on the sphinx rendered scikit-learn.org. See: https://github.com/scikit-learn/scikit-learn/issues/21755 */display: inline-block !important;position: relative;}#sk-container-id-4 div.sk-text-repr-fallback {display: none;}</style><div id=\"sk-container-id-4\" class=\"sk-top-container\"><div class=\"sk-text-repr-fallback\"><pre>SelectKBest(k=25, score_func=&lt;function f_regression at 0x1784af880&gt;)</pre><b>In a Jupyter environment, please rerun this cell to show the HTML representation or trust the notebook. <br />On GitHub, the HTML representation is unable to render, please try loading this page with nbviewer.org.</b></div><div class=\"sk-container\" hidden><div class=\"sk-item\"><div class=\"sk-estimator sk-toggleable\"><input class=\"sk-toggleable__control sk-hidden--visually\" id=\"sk-estimator-id-4\" type=\"checkbox\" checked><label for=\"sk-estimator-id-4\" class=\"sk-toggleable__label sk-toggleable__label-arrow\">SelectKBest</label><div class=\"sk-toggleable__content\"><pre>SelectKBest(k=25, score_func=&lt;function f_regression at 0x1784af880&gt;)</pre></div></div></div></div></div>"
            ],
            "text/plain": [
              "SelectKBest(k=25, score_func=<function f_regression at 0x1784af880>)"
            ]
          },
          "execution_count": 187,
          "metadata": {},
          "output_type": "execute_result"
        }
      ],
      "source": [
        "selector = SelectKBest(score_func=f_regression, k=25)    #зададим параметры для модели отбора признаков\n",
        "selector.fit(X_train, y_train_log)    #обучим модель\n",
        "\n",
        "#best_col= list(selector.get_feature_names_out())\n",
        "#best_col    #выведим список лучших 15 признаков"
      ]
    },
    {
      "cell_type": "code",
      "execution_count": 188,
      "metadata": {
        "colab": {
          "base_uri": "https://localhost:8080/"
        },
        "id": "bX5Mzfiqw14G",
        "outputId": "96f58427-2aa2-4a44-be52-7415399f0e95"
      },
      "outputs": [
        {
          "data": {
            "text/plain": [
              "['vendor_id',\n",
              " 'passenger_count',\n",
              " 'pickup_longitude',\n",
              " 'pickup_latitude',\n",
              " 'dropoff_longitude',\n",
              " 'dropoff_latitude',\n",
              " 'store_and_fwd_flag',\n",
              " 'pickup_hour',\n",
              " 'pickup_holiday',\n",
              " 'total_distance',\n",
              " 'total_travel_time',\n",
              " 'number_of_steps',\n",
              " 'haversine_distance',\n",
              " 'temperature',\n",
              " 'pickup_day_of_week_Monday',\n",
              " 'pickup_day_of_week_Saturday',\n",
              " 'pickup_day_of_week_Sunday',\n",
              " 'pickup_day_of_week_Thursday',\n",
              " 'pickup_day_of_week_Tuesday',\n",
              " 'pickup_day_of_week_Wednesday',\n",
              " 'geo_cluster_1',\n",
              " 'geo_cluster_3',\n",
              " 'geo_cluster_5',\n",
              " 'geo_cluster_7',\n",
              " 'geo_cluster_9']"
            ]
          },
          "execution_count": 188,
          "metadata": {},
          "output_type": "execute_result"
        }
      ],
      "source": [
        "best_col= list(selector.get_feature_names_out())\n",
        "best_col    #выведим список лучших 25 признаков"
      ]
    },
    {
      "attachments": {},
      "cell_type": "markdown",
      "metadata": {
        "id": "JLOJ_kdlkBLt"
      },
      "source": [
        "Так как мы будем использовать различные модели, в том числе внутри которых заложены численные методы оптимизации, то давайте заранее позаботимся о масштабировании факторов.\n"
      ]
    },
    {
      "attachments": {},
      "cell_type": "markdown",
      "metadata": {
        "id": "9WfHLiGKkBLu"
      },
      "source": [
        "### Задание 4.5.\n",
        "Нормализуйте предикторы в обучающей и валидационной выборках с помощью MinMaxScaler из библиотеки sklearn. Помните, что обучение нормализатора производится на обучающей выборке, а трансформация на обучающей и валидационной!\n",
        "\n",
        "Рассчитайте среднее арифметическое для первого предиктора (т. е. для первого столбца матрицы) из валидационной выборки. Ответ округлите до сотых.\n"
      ]
    },
    {
      "cell_type": "code",
      "execution_count": 189,
      "metadata": {
        "id": "962CHGJJVDMt"
      },
      "outputs": [],
      "source": [
        "#!!! выберем наилучшие признаки\n",
        "X_train = pd.DataFrame(X_train, columns = best_col).astype(np.float64)\n",
        "X_valid = pd.DataFrame(X_valid, columns = best_col).astype(np.float64)"
      ]
    },
    {
      "cell_type": "code",
      "execution_count": 190,
      "metadata": {
        "id": "KzIlc11g4vHX"
      },
      "outputs": [],
      "source": [
        "scaler = preprocessing.MinMaxScaler()    #инициализируем стандартизацию\n",
        "scaler.fit(X_train)     #обучим алгоритм\n",
        "X_train_scaled = scaler.transform(X_train)   #выведем нормализованные данные\n",
        "X_valid_scaled = scaler.transform(X_valid)"
      ]
    },
    {
      "cell_type": "code",
      "execution_count": null,
      "metadata": {
        "colab": {
          "base_uri": "https://localhost:8080/"
        },
        "id": "lyKi2vqR5Cqb",
        "outputId": "485d8541-0074-4ae8-ae4d-2a3501cd646c"
      },
      "outputs": [],
      "source": [
        "round(X_valid_scaled[:, 0].mean(), 2)"
      ]
    },
    {
      "attachments": {},
      "cell_type": "markdown",
      "metadata": {
        "id": "gaEMuA6skBLu"
      },
      "source": [
        "## 5. Решение задачи регрессии: линейная регрессия и деревья решений"
      ]
    },
    {
      "attachments": {},
      "cell_type": "markdown",
      "metadata": {
        "id": "y-pS_2XykBLu"
      },
      "source": [
        "Определим метрику, по которой мы будем измерять качество наших моделей. Мы будем следовать канонам исходного соревнования на Kaggle и в качестве метрики использовать RMSLE (Root Mean Squared Log Error), которая вычисляется как:\n",
        "$$RMSLE = \\sqrt{\\frac{1}{n}\\sum_{i=1}^n(log(y_i+1)-log(\\hat{y_i}+1))^2},$$\n",
        "где:\n",
        "* $y_i$ - истинная длительность i-ой поездки на такси (trip_duration)\n",
        "* $\\hat{y_i}$- предсказанная моделью длительность i-ой поездки на такси\n",
        "\n",
        "Заметим, что логарифмирование целевого признака мы уже провели заранее, поэтому нам будет достаточно вычислить метрику RMSE для модели, обученной прогнозировать длительность поездки такси в логарифмическом масштабе:\n",
        "$$z_i=log(y_i+1),$$\n",
        "$$RMSLE = \\sqrt{\\frac{1}{n}\\sum_{i=1}^n(z_i-\\hat{z_i})^2}=\\sqrt{MSE(z_i,\\hat{z_i})}$$\n",
        "\n"
      ]
    },
    {
      "attachments": {},
      "cell_type": "markdown",
      "metadata": {
        "id": "6Qd3xY1-kBLu"
      },
      "source": [
        "### Задание 5.1.\n",
        "Постройте модель линейной регрессии на обучающей выборке (факторы должны быть нормализованы, целевую переменную используйте в логарифмическом масштабе). Все параметры оставьте по умолчанию.\n",
        "\n",
        "Для полученной модели рассчитайте метрику RMSLE на тренировочной и валидационной выборках. Ответ округлите до сотых.\n"
      ]
    },
    {
      "cell_type": "code",
      "execution_count": null,
      "metadata": {
        "colab": {
          "base_uri": "https://localhost:8080/"
        },
        "id": "pGpAlan_BXVY",
        "outputId": "d88bbf87-6e6f-4152-b39d-4bcba79fc3d0"
      },
      "outputs": [],
      "source": [
        "X_train_scaled[:1]"
      ]
    },
    {
      "cell_type": "code",
      "execution_count": null,
      "metadata": {
        "colab": {
          "base_uri": "https://localhost:8080/"
        },
        "id": "njSli13ify0k",
        "outputId": "88c4bd0e-5414-47ac-9d5b-299a022e766b"
      },
      "outputs": [],
      "source": [
        "y_train_log.info()"
      ]
    },
    {
      "cell_type": "code",
      "execution_count": 192,
      "metadata": {
        "id": "k3zGIblO9oyx"
      },
      "outputs": [],
      "source": [
        "y_train_log_int = y_train_log.astype(np.int64)\n",
        "y_valid_log_int = y_valid_log.astype(np.int64)"
      ]
    },
    {
      "cell_type": "code",
      "execution_count": null,
      "metadata": {
        "id": "6eWDuHwl4c8k"
      },
      "outputs": [],
      "source": [
        "#Создаем объект класса логистическая регрессия\n",
        "log_reg = linear_model.LinearRegression()   #max_iter = 1000,random_state=42   .LinearRegression LogisticRegression\n",
        "#Обучаем модель, минимизируя logloss\n",
        "log_reg.fit(X_train_scaled, y_train_log_int)\n",
        "#print(\"accuracy на тестовом наборе: {:.2f}\".format(log_reg.score(X_valid_scaled, y_valid_log_int)))\n",
        "y_valid_log_pred = log_reg.predict(X_valid_scaled)\n",
        "y_train_log_pred = log_reg.predict(X_train_scaled)\n",
        "#print('f1_score на тестовом наборе: {:.2f}'.format(metrics.f1_score(y_valid_log_int, y_valid_log_pred)))"
      ]
    },
    {
      "cell_type": "code",
      "execution_count": 204,
      "metadata": {
        "id": "uehNSLD-M6gu"
      },
      "outputs": [],
      "source": [
        "#from regressionmetrics.metrics import *\n",
        "from sklearn.metrics import make_scorer, mean_squared_log_error, mean_squared_error\n",
        "\n",
        "def rmsle(y_true, y_pred):\n",
        "    return np.sqrt(mean_squared_error(y_true, y_pred))   #!!!mean_squared_log_error"
      ]
    },
    {
      "cell_type": "code",
      "execution_count": null,
      "metadata": {
        "colab": {
          "base_uri": "https://localhost:8080/"
        },
        "id": "_HkS6bsv4cvH",
        "outputId": "c0a88cd2-15a8-45a3-cd84-e86cbc21396b"
      },
      "outputs": [],
      "source": [
        "print(round(rmsle(y_valid_log_int,y_valid_log_pred),2))\n",
        "print(round(rmsle(y_train_log_int,y_train_log_pred),2))\n",
        "#rmsle(X_valid_scaled, y_valid_log_int)\n",
        "\n",
        "# y_train_log, y_valid_log\n",
        "#верный 0.54"
      ]
    },
    {
      "attachments": {},
      "cell_type": "markdown",
      "metadata": {
        "id": "QSN6i928kBLu"
      },
      "source": [
        "### Задание 5.2.\n",
        "Сгенерируйте полиномиальные признаки 2-ой степени с помощью PolynomialFeatures из библиотеки sklearn. Параметр include_bias выставите в значение False.\n",
        "\n",
        "Постройте модель полиномиальной регрессии 2-ой степени на обучающей выборке (факторы должны быть нормализованы, целевую переменную используйте в логарифмическом масштабе). Все параметры оставьте по умолчанию.\n",
        "\n",
        "а) Для полученной модели рассчитайте метрику RMSLE на тренировочной и валидационной выборках. Ответ округлите до сотых.\n",
        "\n",
        "б) Наблюдаются ли у вашей модели признаки переобучения?\n"
      ]
    },
    {
      "cell_type": "code",
      "execution_count": 193,
      "metadata": {
        "id": "pdUTMCDbtPL0"
      },
      "outputs": [
        {
          "name": "stdout",
          "output_type": "stream",
          "text": [
            "(977016, 350)\n",
            "(481217, 350)\n"
          ]
        }
      ],
      "source": [
        "# #Инициализируем стандартизатор StandardScaler\n",
        "# scaler = preprocessing.StandardScaler()\n",
        "# #Подгоняем параметры стандартизатора (вычисляем среднее и СКО)\n",
        "# scaler.fit(X_train)\n",
        "# #Производим стандартизацию тренировочной выборки\n",
        "# X_train_scaled = scaler.transform(X_train)\n",
        "# #Производим стандартизацию тестовой выборки\n",
        "# X_valid_scaled = scaler.transform(X_valid)\n",
        "# #Создаём генератор полиномиальных признаков\n",
        "poly = preprocessing.PolynomialFeatures(degree=2, include_bias=False)\n",
        "poly.fit(X_train_scaled)\n",
        "#Генерируем полиномиальные признаки для тренировочной выборки\n",
        "X_train_scaled_poly = poly.transform(X_train_scaled)\n",
        "#Генерируем полиномиальные признаки для тестовой выборки\n",
        "X_valid_scaled_poly = poly.transform(X_valid_scaled)\n",
        "#Выводим результирующие размерности таблиц\n",
        "print(X_train_scaled_poly.shape)\n",
        "print(X_valid_scaled_poly.shape)\n",
        "# # (977016, 350)\n",
        "# # (481217, 350)\n",
        "#"
      ]
    },
    {
      "cell_type": "code",
      "execution_count": 194,
      "metadata": {
        "id": "pqJ4u8VHtPJK"
      },
      "outputs": [
        {
          "data": {
            "text/html": [
              "<style>#sk-container-id-6 {color: black;background-color: white;}#sk-container-id-6 pre{padding: 0;}#sk-container-id-6 div.sk-toggleable {background-color: white;}#sk-container-id-6 label.sk-toggleable__label {cursor: pointer;display: block;width: 100%;margin-bottom: 0;padding: 0.3em;box-sizing: border-box;text-align: center;}#sk-container-id-6 label.sk-toggleable__label-arrow:before {content: \"▸\";float: left;margin-right: 0.25em;color: #696969;}#sk-container-id-6 label.sk-toggleable__label-arrow:hover:before {color: black;}#sk-container-id-6 div.sk-estimator:hover label.sk-toggleable__label-arrow:before {color: black;}#sk-container-id-6 div.sk-toggleable__content {max-height: 0;max-width: 0;overflow: hidden;text-align: left;background-color: #f0f8ff;}#sk-container-id-6 div.sk-toggleable__content pre {margin: 0.2em;color: black;border-radius: 0.25em;background-color: #f0f8ff;}#sk-container-id-6 input.sk-toggleable__control:checked~div.sk-toggleable__content {max-height: 200px;max-width: 100%;overflow: auto;}#sk-container-id-6 input.sk-toggleable__control:checked~label.sk-toggleable__label-arrow:before {content: \"▾\";}#sk-container-id-6 div.sk-estimator input.sk-toggleable__control:checked~label.sk-toggleable__label {background-color: #d4ebff;}#sk-container-id-6 div.sk-label input.sk-toggleable__control:checked~label.sk-toggleable__label {background-color: #d4ebff;}#sk-container-id-6 input.sk-hidden--visually {border: 0;clip: rect(1px 1px 1px 1px);clip: rect(1px, 1px, 1px, 1px);height: 1px;margin: -1px;overflow: hidden;padding: 0;position: absolute;width: 1px;}#sk-container-id-6 div.sk-estimator {font-family: monospace;background-color: #f0f8ff;border: 1px dotted black;border-radius: 0.25em;box-sizing: border-box;margin-bottom: 0.5em;}#sk-container-id-6 div.sk-estimator:hover {background-color: #d4ebff;}#sk-container-id-6 div.sk-parallel-item::after {content: \"\";width: 100%;border-bottom: 1px solid gray;flex-grow: 1;}#sk-container-id-6 div.sk-label:hover label.sk-toggleable__label {background-color: #d4ebff;}#sk-container-id-6 div.sk-serial::before {content: \"\";position: absolute;border-left: 1px solid gray;box-sizing: border-box;top: 0;bottom: 0;left: 50%;z-index: 0;}#sk-container-id-6 div.sk-serial {display: flex;flex-direction: column;align-items: center;background-color: white;padding-right: 0.2em;padding-left: 0.2em;position: relative;}#sk-container-id-6 div.sk-item {position: relative;z-index: 1;}#sk-container-id-6 div.sk-parallel {display: flex;align-items: stretch;justify-content: center;background-color: white;position: relative;}#sk-container-id-6 div.sk-item::before, #sk-container-id-6 div.sk-parallel-item::before {content: \"\";position: absolute;border-left: 1px solid gray;box-sizing: border-box;top: 0;bottom: 0;left: 50%;z-index: -1;}#sk-container-id-6 div.sk-parallel-item {display: flex;flex-direction: column;z-index: 1;position: relative;background-color: white;}#sk-container-id-6 div.sk-parallel-item:first-child::after {align-self: flex-end;width: 50%;}#sk-container-id-6 div.sk-parallel-item:last-child::after {align-self: flex-start;width: 50%;}#sk-container-id-6 div.sk-parallel-item:only-child::after {width: 0;}#sk-container-id-6 div.sk-dashed-wrapped {border: 1px dashed gray;margin: 0 0.4em 0.5em 0.4em;box-sizing: border-box;padding-bottom: 0.4em;background-color: white;}#sk-container-id-6 div.sk-label label {font-family: monospace;font-weight: bold;display: inline-block;line-height: 1.2em;}#sk-container-id-6 div.sk-label-container {text-align: center;}#sk-container-id-6 div.sk-container {/* jupyter's `normalize.less` sets `[hidden] { display: none; }` but bootstrap.min.css set `[hidden] { display: none !important; }` so we also need the `!important` here to be able to override the default hidden behavior on the sphinx rendered scikit-learn.org. See: https://github.com/scikit-learn/scikit-learn/issues/21755 */display: inline-block !important;position: relative;}#sk-container-id-6 div.sk-text-repr-fallback {display: none;}</style><div id=\"sk-container-id-6\" class=\"sk-top-container\"><div class=\"sk-text-repr-fallback\"><pre>LinearRegression()</pre><b>In a Jupyter environment, please rerun this cell to show the HTML representation or trust the notebook. <br />On GitHub, the HTML representation is unable to render, please try loading this page with nbviewer.org.</b></div><div class=\"sk-container\" hidden><div class=\"sk-item\"><div class=\"sk-estimator sk-toggleable\"><input class=\"sk-toggleable__control sk-hidden--visually\" id=\"sk-estimator-id-6\" type=\"checkbox\" checked><label for=\"sk-estimator-id-6\" class=\"sk-toggleable__label sk-toggleable__label-arrow\">LinearRegression</label><div class=\"sk-toggleable__content\"><pre>LinearRegression()</pre></div></div></div></div></div>"
            ],
            "text/plain": [
              "LinearRegression()"
            ]
          },
          "execution_count": 194,
          "metadata": {},
          "output_type": "execute_result"
        }
      ],
      "source": [
        "poly_reg = linear_model.LinearRegression()\n",
        "poly_reg.fit(X_train_scaled_poly, y_train_log_int)"
      ]
    },
    {
      "cell_type": "code",
      "execution_count": 195,
      "metadata": {
        "id": "KwHhGwLGvqcA"
      },
      "outputs": [],
      "source": [
        "y_valid_poly_pred = poly_reg.predict(X_valid_scaled_poly)\n",
        "y_train_poly_pred = poly_reg.predict(X_train_scaled_poly)"
      ]
    },
    {
      "cell_type": "code",
      "execution_count": 205,
      "metadata": {
        "id": "4y7Bi3wOvqRk"
      },
      "outputs": [
        {
          "name": "stdout",
          "output_type": "stream",
          "text": [
            "0.75\n",
            "0.55\n"
          ]
        }
      ],
      "source": [
        "print(round(rmsle(y_valid_log_int,y_valid_poly_pred),2))\n",
        "print(round(rmsle(y_train_log_int,y_train_poly_pred),2))"
      ]
    },
    {
      "cell_type": "code",
      "execution_count": null,
      "metadata": {
        "id": "or9hZlnJMqg5"
      },
      "outputs": [],
      "source": [
        "# # Создание объекта PolynomialFeatures\n",
        "# poly = PolynomialFeatures(degree=2, include_bias=False)\n",
        "#\n",
        "# # Генерация полиномиальных признаков\n",
        "# poly.fit(X_train_scaled)\n",
        "# X_train_poly = poly.transform(X_train_scaled)\n",
        "# X_valid_poly = poly.transform(X_valid_scaled)"
      ]
    },
    {
      "cell_type": "code",
      "execution_count": null,
      "metadata": {
        "id": "_0nUItxOgoVO"
      },
      "outputs": [],
      "source": [
        "# poly_reg = linear_model.LinearRegression()\n",
        "# poly_reg.fit(X_train_poly, y_train_log_pred)"
      ]
    },
    {
      "cell_type": "code",
      "execution_count": null,
      "metadata": {
        "id": "Q7jXEoo9jBGj"
      },
      "outputs": [],
      "source": [
        "# y_valid_poly_pred = poly_reg.predict(X_valid_poly)\n",
        "# y_train_poly_pred = poly_reg.predict(X_train_poly)"
      ]
    },
    {
      "cell_type": "code",
      "execution_count": null,
      "metadata": {
        "id": "WiGan2jhjBET"
      },
      "outputs": [],
      "source": [
        "# print(round(rmsle(y_valid_log_int,y_valid_poly_pred),2))\n",
        "# print(round(rmsle(y_train_log_int,y_train_poly_pred),2))"
      ]
    },
    {
      "attachments": {},
      "cell_type": "markdown",
      "metadata": {
        "id": "7ChD_MF6kBLv"
      },
      "source": [
        "### Задание 5.3.\n",
        "Постройте модель полиномиальной регрессии 2-ой степени с L2-регуляризацией (регуляризация по Тихонову) на обучающей выборке  (факторы должны быть нормализованы, целевую переменную используйте в логарифмическом масштабе). Коэффициент регуляризации $\\alpha установите равным 1, остальные параметры оставьте по умолчанию.\n",
        "\n",
        "Для полученной модели рассчитайте метрику RMSLE на тренировочной и валидационной выборках. Ответ округлите до сотых.\n"
      ]
    },
    {
      "attachments": {},
      "cell_type": "markdown",
      "metadata": {
        "id": "aU5EJsIqkBLv"
      },
      "source": [
        "### Задание 5.4.\n",
        "Постройте модель дерева решений (DecisionTreeRegressor) на обучающей выборке (факторы должны быть нормализованы, целевую переменную используйте в логарифмическом масштабе). Все параметры оставьте по умолчанию.\n",
        "\n",
        "а) Для полученной модели рассчитайте метрику RMSLE на тренировочной и валидационной выборках. Ответ округлите до сотых.\n",
        "\n",
        "б) Наблюдаются ли у вашей модели признаки переобучения?\n"
      ]
    },
    {
      "cell_type": "code",
      "execution_count": null,
      "metadata": {
        "colab": {
          "base_uri": "https://localhost:8080/",
          "height": 75
        },
        "id": "VEck0v9VylSc",
        "outputId": "8cae6f80-bd6f-4ad4-bf94-9ef4fa293c05"
      },
      "outputs": [],
      "source": [
        "regr1 = DecisionTreeRegressor(random_state=42)\n",
        "regr1.fit(X_train_scaled, y_train_log_int)"
      ]
    },
    {
      "cell_type": "code",
      "execution_count": null,
      "metadata": {
        "colab": {
          "base_uri": "https://localhost:8080/"
        },
        "id": "3ZVxJ8haylN_",
        "outputId": "37b3b7e1-b783-42c9-9656-1b20d0116dc8"
      },
      "outputs": [],
      "source": [
        "y_pred1 = regr1.predict(X_valid_scaled)\n",
        "y_pred2 = regr1.predict(X_train_scaled)\n",
        "\n",
        "#print(f'Качество предсказания по MSE для решающего дерева {round(mean_squared_error(y_test, y_pred1),2)}')\n",
        "print('rmsle на тренировочном наборе: {:.2f}'.format(round(rmsle(y_train_log_int,y_pred2),2)))\n",
        "print('rmsle на тестовом наборе: {:.2f}'.format(round(rmsle(y_valid_log_int,y_pred1),2)))\n",
        "\n",
        "#0\n",
        "#0.57"
      ]
    },
    {
      "attachments": {},
      "cell_type": "markdown",
      "metadata": {
        "id": "1YJIlj4ykBLv"
      },
      "source": [
        "### Задание 5.5.\n",
        "Переберите все возможные варианты глубины дерева решений в диапазоне от 7 до 20:\n",
        "\n",
        "max_depths = range(7, 20)\n",
        "\n",
        "Постройте линейные графики изменения метрики RMSE на тренировочной и валидационной выборках в зависимости от значения параметра глубины дерева решений.\n",
        "\n",
        "а) Найдите оптимальное значение максимальной глубины дерева, для которой будет наблюдаться минимальное значение RMSLE на обучающей выборке, но при этом еще не будет наблюдаться переобучение (валидационная кривая еще не начинает возрастать).\n",
        "\n",
        "б) Чему равно значение метрик RMSLE на тренировочной и валидационной выборках для дерева решений с выбранной оптимальной глубиной? Ответ округлите до сотых.\n"
      ]
    },
    {
      "cell_type": "code",
      "execution_count": null,
      "metadata": {
        "colab": {
          "base_uri": "https://localhost:8080/",
          "height": 449
        },
        "id": "LrDdWFq_XdYx",
        "outputId": "b1c6a788-a961-4414-f541-bcbc33c9c0be"
      },
      "outputs": [],
      "source": [
        "depths = range(7, 21)\n",
        "train_RMSLE = []\n",
        "val_RMSLE = []\n",
        "\n",
        "for depth in depths:\n",
        "    # Создаем модель дерева решений\n",
        "    model = DecisionTreeRegressor(max_depth=depth, random_state=42)\n",
        "    # Обучаем модель на тренировочной выборке\n",
        "    model.fit(X_train_scaled, y_train_log_int)\n",
        "    # Получаем предсказания на тренировочной и валидационной выборках\n",
        "    y_train_log_int_pred = model.predict(X_train_scaled)\n",
        "    y_val_pred = model.predict(X_valid_scaled)\n",
        "    # Вычисляем RMSLE на тренировочной и валидационной выборках\n",
        "    train_RMSLE.append(rmsle(y_train_log_int, y_train_log_int_pred))\n",
        "    val_RMSLE.append(rmsle(y_valid_log_int, y_val_pred))\n",
        "\n",
        "# Строим графики изменения метрики RMSLE на тренировочной и валидационной выборках\n",
        "plt.plot(depths, train_RMSLE, label='Train RMSLE')\n",
        "plt.plot(depths, val_RMSLE, label='Validation RMSLE')\n",
        "plt.xlabel('Max Depth')\n",
        "plt.ylabel('RMSLE')\n",
        "plt.legend()\n",
        "plt.show()"
      ]
    },
    {
      "cell_type": "code",
      "execution_count": null,
      "metadata": {
        "colab": {
          "base_uri": "https://localhost:8080/",
          "height": 53
        },
        "id": "zs7-6jrL0PgC",
        "outputId": "48455292-476d-4d72-8b1d-29234fb902a4"
      },
      "outputs": [],
      "source": [
        "'''model = DecisionTreeRegressor(max_depth=12, random_state=42)\n",
        "# Обучаем модель на тренировочной выборке\n",
        "model.fit(X_train_scaled, y_train_log_int)\n",
        "# Получаем предсказания на тренировочной и валидационной выборках\n",
        "y_train_log_int_pred = model.predict(X_train_scaled)\n",
        "y_val_pred = model.predict(X_valid_scaled)\n",
        "# Вычисляем RMSLE на тренировочной и валидационной выборках\n",
        "'''"
      ]
    },
    {
      "cell_type": "code",
      "execution_count": null,
      "metadata": {
        "colab": {
          "base_uri": "https://localhost:8080/",
          "height": 53
        },
        "id": "94ZcMrsF0PdW",
        "outputId": "dc69b013-6fcf-4eae-fabf-ddc12a77d56c"
      },
      "outputs": [],
      "source": [
        "'''print('rmsle на тренировочном наборе: {:.2f}'.format(round(rmsle(y_train_log_int,y_train_log_int_pred),2)))\n",
        "print('rmsle на тестовом наборе: {:.2f}'.format(round(rmsle(y_valid_log_int,y_val_pred),2)))\n",
        "'''\n",
        "#0.41\n",
        "#0.43"
      ]
    },
    {
      "attachments": {},
      "cell_type": "markdown",
      "metadata": {
        "id": "zUXrz7YDkBLv"
      },
      "source": [
        "## 6. Решение задачи регрессии: ансамблевые методы и построение прогноза"
      ]
    },
    {
      "attachments": {},
      "cell_type": "markdown",
      "metadata": {
        "id": "297rnbaikBLv"
      },
      "source": [
        "Переходим к тяжелой артиллерии: ансамблевым алгоритмам."
      ]
    },
    {
      "attachments": {},
      "cell_type": "markdown",
      "metadata": {
        "id": "ZIAGlVjqkBLw"
      },
      "source": [
        "### Задание 6.1.\n",
        "\n",
        "Постройте модель случайного леса на обучающей выборке (факторы должны быть нормализованы, целевую переменную используйте в логарифмическом масштабе). В качестве гиперпараметров укажите следующие:\n",
        "* n_estimators=200,\n",
        "* max_depth=12,\n",
        "* criterion='squared_error',\n",
        "* min_samples_split=20,\n",
        "* random_state=42\n",
        "\n",
        "Для полученной модели рассчитайте метрику RMSLE на тренировочной и валидационной выборках. Ответ округлите до сотых.\n"
      ]
    },
    {
      "cell_type": "code",
      "execution_count": null,
      "metadata": {
        "id": "u1fMTIRcNzVL"
      },
      "outputs": [],
      "source": [
        "from sklearn.ensemble import RandomForestRegressor"
      ]
    },
    {
      "cell_type": "code",
      "execution_count": null,
      "metadata": {
        "colab": {
          "base_uri": "https://localhost:8080/",
          "height": 87
        },
        "id": "pmi6V1flNZU_",
        "outputId": "b0fd65e2-8cbb-4fa7-ef74-0ca97f38907d"
      },
      "outputs": [],
      "source": [
        "'''# Создаем модель случайного леса\n",
        "model = RandomForestRegressor(n_estimators=200, max_depth=12, criterion='squared_error', min_samples_split=20, random_state=42)\n",
        "\n",
        "# Обучаем модель на тренировочной выборке\n",
        "model.fit(X_train_scaled, y_train_log_int)\n",
        "\n",
        "# Получаем предсказания на тренировочной и валидационной выборках\n",
        "y_train_pred = model.predict(X_train_scaled)\n",
        "y_val_pred = model.predict(X_valid_scaled)\n",
        "\n",
        "# Вычисляем RMSLE на тренировочной и валидационной выборках\n",
        "print('rmsle на тренировочном наборе: {:.2f}'.format(round(rmsle(y_train_log_int,y_train_pred),2)))\n",
        "print('rmsle на тестовом наборе: {:.2f}'.format(round(rmsle(y_valid_log_int,y_val_pred),2)))\n",
        "'''\n",
        "#0.4\n",
        "#0.41"
      ]
    },
    {
      "attachments": {},
      "cell_type": "markdown",
      "metadata": {
        "id": "JZz_qWKDkBLw"
      },
      "source": [
        "### Задание 6.2.\n",
        "Постройте модель градиентного бустинга над деревьями решений (GradientBoostingRegressor) на обучающей выборке (факторы должны быть нормализованы, целевую переменную используйте в логарифмическом масштабе). В качестве гиперпараметров укажите следующие:\n",
        "* learning_rate=0.5,\n",
        "* n_estimators=100,\n",
        "* max_depth=6,\n",
        "* min_samples_split=30,\n",
        "* random_state=42\n",
        "\n",
        "Для полученной модели рассчитайте метрику RMSLE на тренировочной и валидационной выборках. Ответ округлите до сотых.\n"
      ]
    },
    {
      "cell_type": "code",
      "execution_count": null,
      "metadata": {
        "id": "KnnmuhoSkBLw"
      },
      "outputs": [],
      "source": [
        "from sklearn.ensemble import GradientBoostingRegressor"
      ]
    },
    {
      "cell_type": "code",
      "execution_count": null,
      "metadata": {
        "id": "uJJ5MVIXTuLX"
      },
      "outputs": [],
      "source": [
        "gb = GradientBoostingRegressor(\n",
        "    learning_rate=0.5,\n",
        "    n_estimators=100,\n",
        "    max_depth=6,\n",
        "    min_samples_split=30,\n",
        "    random_state=42\n",
        ")\n",
        "gb.fit(X_train_scaled, y_train_log_int)\n",
        "\n",
        "y_train_pred = gb.predict(X_train_scaled)\n",
        "y_val_pred = gb.predict(X_valid_scaled)\n",
        "\n",
        "#print(f'Качество предсказания по MSE для GradientBoostingRegressor {round(mean_squared_error(y_test, gb_pred),2)}')"
      ]
    },
    {
      "cell_type": "code",
      "execution_count": null,
      "metadata": {
        "colab": {
          "base_uri": "https://localhost:8080/"
        },
        "id": "68bUrJ2bTuH3",
        "outputId": "729ccbb7-46d3-44b3-90f1-b8abd89f4d14"
      },
      "outputs": [],
      "source": [
        "print('rmsle на тренировочном наборе: {:.2f}'.format(round(rmsle(y_train_log_int,y_train_pred),2)))\n",
        "print('rmsle на тестовом наборе: {:.2f}'.format(round(rmsle(y_valid_log_int,y_val_pred),2)))\n",
        "\n",
        "#0.37\n",
        "#0.39"
      ]
    },
    {
      "attachments": {},
      "cell_type": "markdown",
      "metadata": {
        "id": "zC3NKXLhkBLw"
      },
      "source": [
        "### Задание 6.3.\n",
        "Какая из построенных вами моделей показала наилучший результат (наименьшее значение RMSLE на валидационной выборке)?\n",
        "* Линейная регрессия\n",
        "* Полиномиальная регрессия 2ой степени\n",
        "* Дерево решений\n",
        "* Случайный лес\n",
        "* Градиентный бустинг над деревьями решений\n"
      ]
    },
    {
      "attachments": {},
      "cell_type": "markdown",
      "metadata": {
        "id": "eaBYTxnkkBLx"
      },
      "source": [
        "### Задание 6.4.\n",
        "Постройте столбчатую диаграмму коэффициентов значимости каждого из факторов.\n",
        "\n",
        "Укажите топ-3 наиболее значимых для предсказания целевого признака - длительности поездки в логарифмическом масштабе - факторов.\n"
      ]
    },
    {
      "cell_type": "code",
      "execution_count": null,
      "metadata": {
        "id": "KmYOePR8kBLx"
      },
      "outputs": [],
      "source": [
        "import matplotlib.pyplot as plt"
      ]
    },
    {
      "cell_type": "code",
      "execution_count": null,
      "metadata": {
        "colab": {
          "base_uri": "https://localhost:8080/",
          "height": 780
        },
        "id": "JeU99J_ac_LA",
        "outputId": "9f864cf6-7117-44a2-e5e5-c307d7804cc8"
      },
      "outputs": [],
      "source": [
        "# Получение значимости каждого из факторов\n",
        "feature_importances = gb.feature_importances_\n",
        "\n",
        "# Создание датафрейма с названиями факторов и их значимостью\n",
        "feature_importances_df = pd.DataFrame({'feature': best_col, 'importance': feature_importances})\n",
        "\n",
        "# Сортировка факторов по значимости\n",
        "feature_importances_df = feature_importances_df.sort_values('importance', ascending=False)\n",
        "\n",
        "# Построение столбчатой диаграммы\n",
        "plt.figure(figsize=(10, 6))\n",
        "plt.bar(feature_importances_df['feature'], feature_importances_df['importance'])\n",
        "plt.xticks(rotation=90)\n",
        "plt.xlabel('Features')\n",
        "plt.ylabel('Importance')\n",
        "plt.title('Feature Importances')\n",
        "plt.show()"
      ]
    },
    {
      "attachments": {},
      "cell_type": "markdown",
      "metadata": {
        "id": "TQ4NzZaTkBLx"
      },
      "source": [
        "### Задание 6.5.\n",
        "Для лучшей из построенных моделей рассчитайте медианную абсолютную ошибку (MeAE - в sklearn функция median_absolute_error) предсказания длительности поездки такси на валидационной выборке:\n",
        "$$ MeAE = median(|y_i-\\hat{y_i}|)$$\n",
        "\n",
        "Значение метрики MeAE переведите в минуты и округлите до десятых.\n"
      ]
    },
    {
      "cell_type": "code",
      "execution_count": null,
      "metadata": {
        "id": "mOYteyJ-kBLx"
      },
      "outputs": [],
      "source": [
        "from sklearn.metrics import median_absolute_error"
      ]
    },
    {
      "cell_type": "code",
      "execution_count": null,
      "metadata": {
        "id": "5k3q3KSKR32H"
      },
      "outputs": [],
      "source": [
        "y_train_true = np.exp(y_train_log_int) - 1\n",
        "y_train_true_pred = np.exp(y_train_pred) - 1\n",
        "y_valid_true = np.exp(y_valid_log_int) - 1\n",
        "y_valid_true_pred = np.exp(y_val_pred) - 1"
      ]
    },
    {
      "cell_type": "code",
      "execution_count": null,
      "metadata": {
        "colab": {
          "base_uri": "https://localhost:8080/"
        },
        "id": "o0sUt8JxR35S",
        "outputId": "2534de60-db49-4787-f4d6-cda72b4c5684"
      },
      "outputs": [],
      "source": [
        "print('MeAE на тренировочном наборе: {:.2f}'.format(round(median_absolute_error(y_train_true,y_train_true_pred),1)))\n",
        "print('MeAE на тестовом наборе: {:.2f}'.format(round(median_absolute_error(y_valid_true, y_valid_true_pred),1)))\n",
        "\n",
        "#1.8"
      ]
    },
    {
      "attachments": {},
      "cell_type": "markdown",
      "metadata": {
        "id": "NZzsSUFfkBLx"
      },
      "source": [
        "Финальный шаг - сделать submit -  предсказание для отложенного тестового набора данных."
      ]
    },
    {
      "attachments": {},
      "cell_type": "markdown",
      "metadata": {
        "id": "J12UJrZOkBLx"
      },
      "source": [
        "Прочитаем тестовые данные и заранее выделим столбец с идентификаторами поездок из тестового набора данных. Он нам еще пригодится:\n"
      ]
    },
    {
      "cell_type": "code",
      "execution_count": null,
      "metadata": {
        "id": "5KAzvZidkBLx"
      },
      "outputs": [],
      "source": [
        "test_data = pd.read_csv(\"/content/drive/MyDrive/Project5_test_data.csv\")\n",
        "osrm_data_test = pd.read_csv(\"/content/drive/MyDrive//Project5_osrm_data_test.csv\")\n",
        "test_id = test_data['id']"
      ]
    },
    {
      "attachments": {},
      "cell_type": "markdown",
      "metadata": {
        "id": "sdrR42JrkBLy"
      },
      "source": [
        "Перед созданием прогноза для тестовой выборки необходимо произвести все манипуляции с данными, которые мы производили с тренировочной выборкой, а именно:\n",
        "* Перевести признак pickup_datetime в формат datetime;\n",
        "* Добавить новые признаки (временные, географические, погодные и другие факторы);\n",
        "* Произвести очистку данных от пропусков;\n",
        "* Произвести кодировку категориальных признаков:\n",
        "    * Закодировать бинарные признаки;\n",
        "    * Закодировать номинальные признаки с помощью обученного на тренировочной выборке OneHotEncoder’а;\n",
        "* Сформировать матрицу наблюдений, оставив в таблице только те признаки, которые были отобраны с помощью SelectKBest;\n",
        "* Нормализовать данные с помощью обученного на тренировочной выборке MinMaxScaler’а.\n"
      ]
    },
    {
      "cell_type": "code",
      "execution_count": null,
      "metadata": {
        "id": "ed6uLjgbg-hU"
      },
      "outputs": [],
      "source": [
        "test_data['pickup_datetime']=pd.to_datetime(test_data['pickup_datetime'],format='%Y-%m-%d %H:%M:%S')\n",
        "test_data = add_datetime_features(test_data)\n",
        "test_data = add_holiday_features(test_data, holidays)\n",
        "test_data = add_osrm_features(test_data, osrm_data_test)\n",
        "test_data = add_geographical_features(test_data)"
      ]
    },
    {
      "cell_type": "code",
      "execution_count": null,
      "metadata": {
        "colab": {
          "base_uri": "https://localhost:8080/",
          "height": 129
        },
        "id": "6uONlELRm7dd",
        "outputId": "cb6508c1-7b07-4dac-a424-a45373fe0786"
      },
      "outputs": [],
      "source": [
        "# создаем обучающую выборку из географических координат всех точек\n",
        "coords = np.hstack((test_data[['pickup_latitude', 'pickup_longitude']],\n",
        "                    test_data[['dropoff_latitude', 'dropoff_longitude']]))\n",
        "# обучаем алгоритм кластеризации\n",
        "kmeans = cluster.KMeans(n_clusters=10, random_state=42)\n",
        "kmeans.fit(coords)"
      ]
    },
    {
      "cell_type": "code",
      "execution_count": null,
      "metadata": {
        "id": "KOLrYm4wm7de"
      },
      "outputs": [],
      "source": [
        "def add_cluster_features(data, kmeans):\n",
        "    X = coords\n",
        "    # Добавляем столбец с кластерами в DataFrame\n",
        "    data['geo_cluster'] = kmeans.predict(X)\n",
        "    return data\n",
        "\n",
        "test_data = add_cluster_features(test_data, kmeans)"
      ]
    },
    {
      "cell_type": "code",
      "execution_count": null,
      "metadata": {
        "id": "nqWQbqhGkBLy"
      },
      "outputs": [],
      "source": [
        "test_data = add_weather_features(test_data, weather_data)\n",
        "test_data = fill_null_weather_data(test_data)\n",
        "\n",
        "test_data['vendor_id'] = test_data['vendor_id'].apply(lambda x: 0 if x == 1 else 1)\n",
        "test_data['store_and_fwd_flag'] = test_data['store_and_fwd_flag'].apply(lambda x: 0 if x == 'N' else 1)"
      ]
    },
    {
      "cell_type": "code",
      "execution_count": null,
      "metadata": {
        "id": "aFf-3MBcqCZM"
      },
      "outputs": [],
      "source": [
        "#features\n",
        "one_hot_encoder = OneHotEncoder()\n",
        "test_data_onehot = one_hot_encoder.fit_transform(test_data[features]).toarray()\n",
        "#column_names = OneHotEncoder.get_feature_names_out(features)"
      ]
    },
    {
      "cell_type": "code",
      "execution_count": null,
      "metadata": {
        "colab": {
          "base_uri": "https://localhost:8080/"
        },
        "id": "3N7UgjmdnNf3",
        "outputId": "b4573b34-5767-439d-9166-7f8073ed543c"
      },
      "outputs": [],
      "source": [
        "column_names = one_hot_encoder.get_feature_names_out(features)\n",
        "test_data_onehot = pd.DataFrame(test_data_onehot, columns=column_names)\n",
        "\n",
        "test_data = pd.concat(\n",
        "    [test_data.reset_index(drop=True).drop(features, axis=1), test_data_onehot],\n",
        "    axis=1\n",
        ")\n",
        "X_test = test_data[best_col]\n",
        "X_test_scaled = scaler.transform(X_test)\n",
        "print('Shape of data: {}'.format(X_test.shape))"
      ]
    },
    {
      "cell_type": "code",
      "execution_count": null,
      "metadata": {
        "id": "WQFFAEf54i4c"
      },
      "outputs": [],
      "source": [
        "y_test_predict = gb.predict(X_test_scaled)"
      ]
    },
    {
      "attachments": {},
      "cell_type": "markdown",
      "metadata": {
        "id": "24JJ64T4kBLy"
      },
      "source": [
        "Только после выполнения всех этих шагов можно сделать предсказание длительности поездки для тестовой выборки. Не забудьте перевести предсказания из логарифмического масштаба в истинный, используя формулу:\n",
        "$$y_i=exp(z_i)-1$$\n",
        "\n",
        "После того, как вы сформируете предсказание длительности поездок на тестовой выборке вам необходимо будет создать submission-файл в формате csv, отправить его на платформу Kaggle и посмотреть на результирующее значение метрики RMSLE на тестовой выборке.\n",
        "\n",
        "Код для создания submission-файла:\n"
      ]
    },
    {
      "cell_type": "code",
      "execution_count": null,
      "metadata": {
        "colab": {
          "base_uri": "https://localhost:8080/",
          "height": 200
        },
        "id": "JeMAzrHHkBLy",
        "outputId": "334b8993-aad7-41be-b8ca-aa6007fa6200"
      },
      "outputs": [],
      "source": [
        "submission = pd.DataFrame({'id': test_id, 'trip_duration': y_test_predict})\n",
        "submission.to_csv('data/submission_gb.csv', index=False)"
      ]
    },
    {
      "attachments": {},
      "cell_type": "markdown",
      "metadata": {
        "id": "iU5BA_XDkBLy"
      },
      "source": [
        "### **В качестве бонуса**\n",
        "\n",
        "В завершение по ансамблевым мы предлагаем вам попробовать улучшить свое предсказание, воспользовавшись моделью экстремального градиентного бустинга (XGBoost) из библиотеки xgboost.\n",
        "\n",
        "**XGBoost** - современная модель машинного обучения, которая является продолжением идеи градиентного бустинга Фридмана. У нее есть несколько преимуществ по сравнению с классической моделью градиентного бустинга из библиотеки sklearn: повышенная производительность путем параллелизации процесса обучения, повышенное качество решения за счет усовершенствования алгоритма бустинга, меньшая склонность к переобучению и широкий функционал возможности управления параметрами модели.\n"
      ]
    },
    {
      "attachments": {},
      "cell_type": "markdown",
      "metadata": {
        "id": "_FARWLbakBLy"
      },
      "source": [
        "Для ее использования необходимо для начала установить пакет xgboost:"
      ]
    },
    {
      "cell_type": "code",
      "execution_count": null,
      "metadata": {
        "id": "h8KXUhyGkBLy"
      },
      "outputs": [],
      "source": [
        "#!pip install xgboost"
      ]
    },
    {
      "attachments": {},
      "cell_type": "markdown",
      "metadata": {
        "id": "urka0597kBLz"
      },
      "source": [
        "После чего модуль можно импортировать:"
      ]
    },
    {
      "cell_type": "code",
      "execution_count": null,
      "metadata": {
        "id": "kpLIalxfkBLz"
      },
      "outputs": [],
      "source": [
        "import xgboost as xgb"
      ]
    },
    {
      "attachments": {},
      "cell_type": "markdown",
      "metadata": {
        "id": "CwJ80NU7kBLz"
      },
      "source": [
        "Перед обучением модели необходимо перевести наборы данных в тип данных xgboost.DMatrix:"
      ]
    },
    {
      "cell_type": "code",
      "execution_count": null,
      "metadata": {
        "id": "ehrdmZJekBLz"
      },
      "outputs": [],
      "source": [
        "# Создание матриц наблюдений в формате DMatrix\n",
        "dtrain = xgb.DMatrix(X_train_scaled, label=y_train_log, feature_names=best_features)\n",
        "dvalid = xgb.DMatrix(X_valid_scaled, label=y_valid_log, feature_names=best_features)\n",
        "dtest = xgb.DMatrix(X_test_scaled, feature_names=best_features)"
      ]
    },
    {
      "attachments": {},
      "cell_type": "markdown",
      "metadata": {
        "id": "kW0LAucxkBLz"
      },
      "source": [
        "Обучение модели XGBoost происходит с помощью метода train, в который необходимо передать параметры модели, набор данных, количество базовых моделей в ансамбле, а также дополнительные параметры:\n"
      ]
    },
    {
      "cell_type": "code",
      "execution_count": null,
      "metadata": {
        "id": "u0uDs1YakBLz"
      },
      "outputs": [],
      "source": [
        "# Гиперпараметры модели\n",
        "xgb_pars = {'min_child_weight': 20, 'eta': 0.1, 'colsample_bytree': 0.9,\n",
        "            'max_depth': 6, 'subsample': 0.9, 'lambda': 1, 'nthread': -1,\n",
        "            'booster' : 'gbtree', 'eval_metric': 'rmse', 'objective': 'reg:squarederror'\n",
        "           }\n",
        "# Тренировочная и валидационная выборка\n",
        "watchlist = [(dtrain, 'train'), (dvalid, 'valid')]\n",
        "# Обучаем модель XGBoost\n",
        "model = xgb.train(\n",
        "    params=xgb_pars, #гиперпараметры модели\n",
        "    dtrain=dtrain, #обучающая выборка\n",
        "    num_boost_round=300, #количество моделей в ансамбле\n",
        "    evals=watchlist, #выборки, на которых считается матрица\n",
        "    early_stopping_rounds=20, #раняя остановка\n",
        "    maximize=False, #смена поиска максимума на минимум\n",
        "    verbose_eval=10 #шаг, через который происходит отображение метрик\n",
        ")"
      ]
    },
    {
      "attachments": {},
      "cell_type": "markdown",
      "metadata": {
        "id": "nDiMljt5kBLz"
      },
      "source": [
        "Предсказать целевой признак на новых данных можно с помощью метода predict():"
      ]
    },
    {
      "cell_type": "code",
      "execution_count": null,
      "metadata": {
        "id": "XYBTeO7UkBLz"
      },
      "outputs": [],
      "source": [
        "#Делаем предсказание на тестовом наборе данных\n",
        "y_test_predict = np.exp(model.predict(dtest)) - 1\n",
        "print('Modeling RMSLE %.5f' % model.best_score)"
      ]
    },
    {
      "attachments": {},
      "cell_type": "markdown",
      "metadata": {
        "id": "jgBn4xmikBLz"
      },
      "source": [
        "Также как и все модели, основанные на использовании деревьев решений в качестве базовых моделей, XGBoost имеет возможность определения коэффициентов важности факторов. Более того, в библиотеку встроена возможность визуализации важность факторов в виде столбчатой диаграммы. За эту возможность отвечает функция plot_importance():\n"
      ]
    },
    {
      "cell_type": "code",
      "execution_count": null,
      "metadata": {
        "id": "FEvlaqz4kBLz"
      },
      "outputs": [],
      "source": [
        "fig, ax = plt.subplots(figsize = (15,15))\n",
        "xgb.plot_importance(model, ax = ax, height=0.5)"
      ]
    },
    {
      "cell_type": "markdown",
      "metadata": {},
      "source": [
        "## оформление\n"
      ]
    },
    {
      "cell_type": "markdown",
      "metadata": {},
      "source": [
        "НУЖНО ОФОРМИТЬ В КАГЛе концовку\n",
        "\n",
        "2 хороших решения\n",
        "\n",
        "https://www.kaggle.com/code/au1206/nyc-taxi-duration-prediction-using-xgboost/notebook#DATA-VISUALIZATION\n",
        "\n",
        "https://www.kaggle.com/code/dmtamm/nyc-taxi-russian"
      ]
    }
  ],
  "metadata": {
    "colab": {
      "provenance": [],
      "toc_visible": true
    },
    "kernelspec": {
      "display_name": "Python 3 (ipykernel)",
      "language": "python",
      "name": "python3"
    },
    "language_info": {
      "codemirror_mode": {
        "name": "ipython",
        "version": 3
      },
      "file_extension": ".py",
      "mimetype": "text/x-python",
      "name": "python",
      "nbconvert_exporter": "python",
      "pygments_lexer": "ipython3",
      "version": "3.11.1"
    }
  },
  "nbformat": 4,
  "nbformat_minor": 0
}
